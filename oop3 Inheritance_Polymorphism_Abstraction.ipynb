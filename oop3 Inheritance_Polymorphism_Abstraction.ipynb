{
  "nbformat": 4,
  "nbformat_minor": 0,
  "metadata": {
    "colab": {
      "provenance": [],
      "authorship_tag": "ABX9TyPeuzXi1usIyGT10VeoEFjX",
      "include_colab_link": true
    },
    "kernelspec": {
      "name": "python3",
      "display_name": "Python 3"
    },
    "language_info": {
      "name": "python"
    }
  },
  "cells": [
    {
      "cell_type": "markdown",
      "metadata": {
        "id": "view-in-github",
        "colab_type": "text"
      },
      "source": [
        "<a href=\"https://colab.research.google.com/github/DSShail/Basic-Python/blob/main/oop3%20Inheritance_Polymorphism_Abstraction.ipynb\" target=\"_parent\"><img src=\"https://colab.research.google.com/assets/colab-badge.svg\" alt=\"Open In Colab\"/></a>"
      ]
    },
    {
      "cell_type": "markdown",
      "source": [
        "Class Relationship\n",
        "*   Aggregation\n",
        "*   Inheritance\n",
        "\n"
      ],
      "metadata": {
        "id": "FWd_LPLQv1u4"
      }
    },
    {
      "cell_type": "markdown",
      "source": [
        "# Aggregation(Has-a-Relationship)"
      ],
      "metadata": {
        "id": "IemvlaUQv_Sm"
      }
    },
    {
      "cell_type": "markdown",
      "source": [
        "One class owns the other class.\n",
        "\n",
        "Customer class and Address class. Every customer has an address hence Customer class owns the Address class\n",
        "\n",
        "Similarly Resturant class owns the Menu class"
      ],
      "metadata": {
        "id": "zCIYuxyqwaVJ"
      }
    },
    {
      "cell_type": "code",
      "execution_count": null,
      "metadata": {
        "id": "JrzniU1tvI_V"
      },
      "outputs": [],
      "source": [
        "class Customer:\n",
        "\n",
        "\n",
        "  def __init__(self,name,gender,address):\n",
        "    self.name=name\n",
        "    self.gender=gender\n",
        "    self.address=address\n",
        "  def print_address(self):\n",
        "    print(\"City: {} \\n pincode: {} \\n State: {}\".format(self.address.city,self.address.pin,self.address.state))\n",
        "\n",
        "class Address:\n",
        "  def __init__(self,city,pin,state):\n",
        "    self.__city=city\n",
        "    self.pin=pin\n",
        "    self.state=state\n"
      ]
    },
    {
      "cell_type": "code",
      "source": [
        "add=Address('Kolkata',700156,'West Bengal')\n",
        "cust=Customer('Shailesh','Male',add)\n",
        "\n",
        "cust.print_address()"
      ],
      "metadata": {
        "colab": {
          "base_uri": "https://localhost:8080/",
          "height": 297
        },
        "id": "in8SMDljx_O2",
        "outputId": "36d16674-7e3a-45bc-decf-0e8de0d7e2be"
      },
      "execution_count": null,
      "outputs": [
        {
          "output_type": "error",
          "ename": "AttributeError",
          "evalue": "'Address' object has no attribute 'city'",
          "traceback": [
            "\u001b[0;31m---------------------------------------------------------------------------\u001b[0m",
            "\u001b[0;31mAttributeError\u001b[0m                            Traceback (most recent call last)",
            "\u001b[0;32m<ipython-input-13-6d90634ae314>\u001b[0m in \u001b[0;36m<cell line: 4>\u001b[0;34m()\u001b[0m\n\u001b[1;32m      2\u001b[0m \u001b[0mcust\u001b[0m\u001b[0;34m=\u001b[0m\u001b[0mCustomer\u001b[0m\u001b[0;34m(\u001b[0m\u001b[0;34m'Shailesh'\u001b[0m\u001b[0;34m,\u001b[0m\u001b[0;34m'Male'\u001b[0m\u001b[0;34m,\u001b[0m\u001b[0madd\u001b[0m\u001b[0;34m)\u001b[0m\u001b[0;34m\u001b[0m\u001b[0;34m\u001b[0m\u001b[0m\n\u001b[1;32m      3\u001b[0m \u001b[0;34m\u001b[0m\u001b[0m\n\u001b[0;32m----> 4\u001b[0;31m \u001b[0mcust\u001b[0m\u001b[0;34m.\u001b[0m\u001b[0mprint_address\u001b[0m\u001b[0;34m(\u001b[0m\u001b[0;34m)\u001b[0m\u001b[0;34m\u001b[0m\u001b[0;34m\u001b[0m\u001b[0m\n\u001b[0m",
            "\u001b[0;32m<ipython-input-12-b8cb21d243cc>\u001b[0m in \u001b[0;36mprint_address\u001b[0;34m(self)\u001b[0m\n\u001b[1;32m      7\u001b[0m     \u001b[0mself\u001b[0m\u001b[0;34m.\u001b[0m\u001b[0maddress\u001b[0m\u001b[0;34m=\u001b[0m\u001b[0maddress\u001b[0m\u001b[0;34m\u001b[0m\u001b[0;34m\u001b[0m\u001b[0m\n\u001b[1;32m      8\u001b[0m   \u001b[0;32mdef\u001b[0m \u001b[0mprint_address\u001b[0m\u001b[0;34m(\u001b[0m\u001b[0mself\u001b[0m\u001b[0;34m)\u001b[0m\u001b[0;34m:\u001b[0m\u001b[0;34m\u001b[0m\u001b[0;34m\u001b[0m\u001b[0m\n\u001b[0;32m----> 9\u001b[0;31m     \u001b[0mprint\u001b[0m\u001b[0;34m(\u001b[0m\u001b[0;34m\"City: {} \\n pincode: {} \\n State: {}\"\u001b[0m\u001b[0;34m.\u001b[0m\u001b[0mformat\u001b[0m\u001b[0;34m(\u001b[0m\u001b[0mself\u001b[0m\u001b[0;34m.\u001b[0m\u001b[0maddress\u001b[0m\u001b[0;34m.\u001b[0m\u001b[0mcity\u001b[0m\u001b[0;34m,\u001b[0m\u001b[0mself\u001b[0m\u001b[0;34m.\u001b[0m\u001b[0maddress\u001b[0m\u001b[0;34m.\u001b[0m\u001b[0mpin\u001b[0m\u001b[0;34m,\u001b[0m\u001b[0mself\u001b[0m\u001b[0;34m.\u001b[0m\u001b[0maddress\u001b[0m\u001b[0;34m.\u001b[0m\u001b[0mstate\u001b[0m\u001b[0;34m)\u001b[0m\u001b[0;34m)\u001b[0m\u001b[0;34m\u001b[0m\u001b[0;34m\u001b[0m\u001b[0m\n\u001b[0m\u001b[1;32m     10\u001b[0m \u001b[0;34m\u001b[0m\u001b[0m\n\u001b[1;32m     11\u001b[0m \u001b[0;32mclass\u001b[0m \u001b[0mAddress\u001b[0m\u001b[0;34m:\u001b[0m\u001b[0;34m\u001b[0m\u001b[0;34m\u001b[0m\u001b[0m\n",
            "\u001b[0;31mAttributeError\u001b[0m: 'Address' object has no attribute 'city'"
          ]
        }
      ]
    },
    {
      "cell_type": "markdown",
      "source": [
        "*as object cannot access private member of a class directly*\n",
        "\n",
        "\n",
        "To access private members of a class, we have to use getters and setters"
      ],
      "metadata": {
        "id": "YqFKqT4yy4Xb"
      }
    },
    {
      "cell_type": "code",
      "source": [
        "class Customer:\n",
        "\n",
        "\n",
        "  def __init__(self,name,gender,address):\n",
        "    self.name=name\n",
        "    self.gender=gender\n",
        "    self.address=address\n",
        "  def print_address(self):\n",
        "    # we cannot directly access private members of a class-self.address.city\n",
        "    #print(\"City: {} \\n pincode: {} \\n State: {}\".format(self.address.city,self.address.pin,self.address.state))\n",
        "\n",
        "    #calling getter method of class Address to access city\n",
        "\n",
        "    print(\"City: {} \\n pincode: {} \\n State: {}\".format(self.address.get_city(),self.address.pin,self.address.state))\n",
        "\n",
        "  def edit_profile(self,new_name,new_city,new_pin,new_state):\n",
        "    self.name=new_name\n",
        "    self.address.edit_address(new_city,new_pin,new_state)\n",
        "\n",
        "class Address:\n",
        "  def __init__(self,city,pin,state):\n",
        "    self.__city=city\n",
        "    self.pin=pin\n",
        "    self.state=state\n",
        "\n",
        "  def get_city(self):\n",
        "    return self.__city\n",
        "\n",
        "  def edit_address(self,new_city,new_pin,new_state):\n",
        "    self.__city=new_city\n",
        "    self.pin=new_pin\n",
        "    self.state=new_state"
      ],
      "metadata": {
        "id": "NxgzVtazzC3T"
      },
      "execution_count": null,
      "outputs": []
    },
    {
      "cell_type": "code",
      "source": [
        "add=Address('Kolkata',700156,'West Bengal')\n",
        "cust=Customer('Shailesh','Male',add)\n",
        "\n",
        "cust.print_address()"
      ],
      "metadata": {
        "colab": {
          "base_uri": "https://localhost:8080/"
        },
        "id": "0bNvM835z0c7",
        "outputId": "944c0d85-8118-4d30-d5b2-96bd5ec57c10"
      },
      "execution_count": null,
      "outputs": [
        {
          "output_type": "stream",
          "name": "stdout",
          "text": [
            "City: Kolkata \n",
            " pincode: 700156 \n",
            " State: West Bengal\n"
          ]
        }
      ]
    },
    {
      "cell_type": "code",
      "source": [
        "cust.edit_profile('kittu','sangrampur',813212,'Munger')"
      ],
      "metadata": {
        "id": "ukuCupBfz3bK"
      },
      "execution_count": null,
      "outputs": []
    },
    {
      "cell_type": "code",
      "source": [
        "cust.print_address()"
      ],
      "metadata": {
        "colab": {
          "base_uri": "https://localhost:8080/"
        },
        "id": "URxvOsMMIRBt",
        "outputId": "b77ab6e8-cfbf-45c9-b535-cb5e49124c94"
      },
      "execution_count": null,
      "outputs": [
        {
          "output_type": "stream",
          "name": "stdout",
          "text": [
            "City: sangrampur \n",
            " pincode: 813212 \n",
            " State: Munger\n"
          ]
        }
      ]
    },
    {
      "cell_type": "markdown",
      "source": [
        "# Aggregation class diagram\n",
        "\n",
        "Aggregation is represented using rhombous"
      ],
      "metadata": {
        "id": "J3ohToWHJlXJ"
      }
    },
    {
      "cell_type": "markdown",
      "source": [
        "# Inheritance"
      ],
      "metadata": {
        "id": "4OU1uAPzL2nY"
      }
    },
    {
      "cell_type": "markdown",
      "source": [
        "1.   What is inheritance?\n",
        "2.   Example\n",
        "3.   What gets inherited?\n",
        "4.   Class Diagram- in class diagram inheritance is respresented using triangle. The arrow head is pointed towards parent class"
      ],
      "metadata": {
        "id": "7HJaK5gMMOiN"
      }
    },
    {
      "cell_type": "markdown",
      "source": [
        "It is a concept where one class can access attributes and methods from another class\n",
        "\n",
        "*   A child class can only access public attributes and methods of parent class .\n",
        "\n",
        "*   A child class can override attributes or methods(Method overriding).\n",
        "\n",
        "*   The parent has no access to child class\n",
        "\n",
        "*   Super() is an inbuilt function which is used to invoke the parent methods and constructor\n",
        "\n"
      ],
      "metadata": {
        "id": "Gb2WoeLozLvH"
      }
    },
    {
      "cell_type": "markdown",
      "source": [
        "Repeating a piece of code violate DRY(Don't Repeat yourself)"
      ],
      "metadata": {
        "id": "_hLoyEEJM90F"
      }
    },
    {
      "cell_type": "markdown",
      "source": [
        "What gets inherited?\n",
        "*   Constructor\n",
        "*   Non-private Attributes\n",
        "*   Non-private Methods\n",
        "\n"
      ],
      "metadata": {
        "id": "UiVN0dsXY13f"
      }
    },
    {
      "cell_type": "code",
      "source": [
        "#Example\n",
        "\n",
        "#PARENT\n",
        "class User:\n",
        "  def __init__(self):\n",
        "    self.name='Shailesh'\n",
        "\n",
        "  def login(self):\n",
        "    print('Login')\n",
        "\n",
        "#CHILD\n",
        "class Student(User):\n",
        "  def __init__(self):\n",
        "    self.roll=304\n",
        "\n",
        "  def enroll(self):\n",
        "    print('enroll into the course')"
      ],
      "metadata": {
        "id": "AgMWGl7YL2JZ"
      },
      "execution_count": null,
      "outputs": []
    },
    {
      "cell_type": "code",
      "source": [
        "#u=User()\n",
        "s=Student()"
      ],
      "metadata": {
        "id": "OTi4WEDJWVgm"
      },
      "execution_count": null,
      "outputs": []
    },
    {
      "cell_type": "code",
      "source": [
        "s.enroll()"
      ],
      "metadata": {
        "colab": {
          "base_uri": "https://localhost:8080/"
        },
        "id": "5usQ8gE2WkDm",
        "outputId": "e280613d-7864-4a8b-d06b-53c740db6c8c"
      },
      "execution_count": null,
      "outputs": [
        {
          "output_type": "stream",
          "name": "stdout",
          "text": [
            "enroll into the course\n"
          ]
        }
      ]
    },
    {
      "cell_type": "code",
      "source": [
        "s.login()"
      ],
      "metadata": {
        "colab": {
          "base_uri": "https://localhost:8080/"
        },
        "id": "tjHUIZmiWv-V",
        "outputId": "a24c02e6-95b5-4f07-9eb2-3ee6c479a9bb"
      },
      "execution_count": null,
      "outputs": [
        {
          "output_type": "stream",
          "name": "stdout",
          "text": [
            "Login\n"
          ]
        }
      ]
    },
    {
      "cell_type": "markdown",
      "source": [
        "*we are accessing login method of Parent class. There is no error because we are accessing public method*"
      ],
      "metadata": {
        "id": "Ax2O3pw5Zqjj"
      }
    },
    {
      "cell_type": "code",
      "source": [
        "s.name"
      ],
      "metadata": {
        "colab": {
          "base_uri": "https://localhost:8080/",
          "height": 141
        },
        "id": "NUrGTm5zWyfi",
        "outputId": "33606513-9eb7-4d75-c441-436fafc705ca"
      },
      "execution_count": null,
      "outputs": [
        {
          "output_type": "error",
          "ename": "AttributeError",
          "evalue": "'Student' object has no attribute 'name'",
          "traceback": [
            "\u001b[0;31m---------------------------------------------------------------------------\u001b[0m",
            "\u001b[0;31mAttributeError\u001b[0m                            Traceback (most recent call last)",
            "\u001b[0;32m<ipython-input-54-98b019fbfe94>\u001b[0m in \u001b[0;36m<cell line: 1>\u001b[0;34m()\u001b[0m\n\u001b[0;32m----> 1\u001b[0;31m \u001b[0ms\u001b[0m\u001b[0;34m.\u001b[0m\u001b[0mname\u001b[0m\u001b[0;34m\u001b[0m\u001b[0;34m\u001b[0m\u001b[0m\n\u001b[0m",
            "\u001b[0;31mAttributeError\u001b[0m: 'Student' object has no attribute 'name'"
          ]
        }
      ]
    },
    {
      "cell_type": "markdown",
      "source": [
        "name is non-private, why is it non-accessible?"
      ],
      "metadata": {
        "id": "z_3FzXwsZUFv"
      }
    },
    {
      "cell_type": "markdown",
      "source": [
        "Since we are trying to access **name** from child class and child class has a constructor so name attribute was never created in the memory(as parent class constructor will not be called).\n",
        "\n",
        "If we remove the constructor from the child class and then when we create an object of child class and since it is inheriting from parent class, so parent class's constructor will be called and **name** attribute will be created in the memory,"
      ],
      "metadata": {
        "id": "bqzmPP1AagTB"
      }
    },
    {
      "cell_type": "code",
      "source": [
        "class Phone:\n",
        "    def __init__(self,price,brand,camera):\n",
        "      print('Inside the phone constructor')\n",
        "      self.price=price\n",
        "      self.brand=brand\n",
        "      self.camera=camera\n",
        "\n",
        "    def buy(self):\n",
        "      print('Buying a phone')\n",
        "\n",
        "#SmartPhone is inheriting from parent class(Phone)\n",
        "class SmartPhone(Phone):\n",
        "  pass\n",
        "\n",
        "s=SmartPhone(23000,'Vivo',34)"
      ],
      "metadata": {
        "colab": {
          "base_uri": "https://localhost:8080/"
        },
        "id": "g2Jsv33ZXcya",
        "outputId": "c607b4e0-cfb6-4b6b-a8da-c071efc9aea4"
      },
      "execution_count": null,
      "outputs": [
        {
          "output_type": "stream",
          "name": "stdout",
          "text": [
            "Inside the phone constructor\n"
          ]
        }
      ]
    },
    {
      "cell_type": "markdown",
      "source": [
        "As there is no constructor in the child class so the constructor of parent class is called."
      ],
      "metadata": {
        "id": "VHdy2DXhfr1v"
      }
    },
    {
      "cell_type": "code",
      "source": [
        "s.buy()"
      ],
      "metadata": {
        "colab": {
          "base_uri": "https://localhost:8080/"
        },
        "id": "4clSrsGjfcQy",
        "outputId": "f8feb6f6-57e7-4196-c29b-634fbfb75dca"
      },
      "execution_count": null,
      "outputs": [
        {
          "output_type": "stream",
          "name": "stdout",
          "text": [
            "Buying a phone\n"
          ]
        }
      ]
    },
    {
      "cell_type": "markdown",
      "source": [
        "we can call buy method as it is a non-private method of parent class"
      ],
      "metadata": {
        "id": "1h_xg03kf5NC"
      }
    },
    {
      "cell_type": "markdown",
      "source": [
        "Child class construcotr is called\n",
        "\n",
        "Parent class's constructor isn't called"
      ],
      "metadata": {
        "id": "EYZfA590g30U"
      }
    },
    {
      "cell_type": "code",
      "source": [
        "s.brand"
      ],
      "metadata": {
        "colab": {
          "base_uri": "https://localhost:8080/",
          "height": 141
        },
        "id": "3rCsOh3KgtIr",
        "outputId": "dc1812ef-a1e0-4066-a43e-919a14595505"
      },
      "execution_count": null,
      "outputs": [
        {
          "output_type": "error",
          "ename": "AttributeError",
          "evalue": "'SmartPhone' object has no attribute 'brand'",
          "traceback": [
            "\u001b[0;31m---------------------------------------------------------------------------\u001b[0m",
            "\u001b[0;31mAttributeError\u001b[0m                            Traceback (most recent call last)",
            "\u001b[0;32m<ipython-input-60-57d135c56554>\u001b[0m in \u001b[0;36m<cell line: 1>\u001b[0;34m()\u001b[0m\n\u001b[0;32m----> 1\u001b[0;31m \u001b[0ms\u001b[0m\u001b[0;34m.\u001b[0m\u001b[0mbrand\u001b[0m\u001b[0;34m\u001b[0m\u001b[0;34m\u001b[0m\u001b[0m\n\u001b[0m",
            "\u001b[0;31mAttributeError\u001b[0m: 'SmartPhone' object has no attribute 'brand'"
          ]
        }
      ]
    },
    {
      "cell_type": "markdown",
      "source": [
        "Since parent class constructor is not called therefore **brand** attribute is not created in the memory hence the error"
      ],
      "metadata": {
        "id": "YaMRaqSehEHE"
      }
    },
    {
      "cell_type": "markdown",
      "source": [
        "**Child object cannot access the private members(data and method) of parent**"
      ],
      "metadata": {
        "id": "abOfrELrhrGe"
      }
    },
    {
      "cell_type": "code",
      "source": [
        "class Phone:\n",
        "    def __init__(self,price,brand,camera):\n",
        "      print('Inside the phone constructor')\n",
        "      self.__price=price\n",
        "      self.brand=brand\n",
        "      self.camera=camera\n",
        "\n",
        "    def buy(self):\n",
        "      print('Buying a phone')\n",
        "\n",
        "    def show(self):\n",
        "      print(\"The price is {}\".format(self.__price))\n",
        "\n",
        "#SmartPhone is inheriting from parent class(Phone)\n",
        "class SmartPhone(Phone):\n",
        "  def check(self):\n",
        "    print(self.__price)\n",
        "\n",
        "s=SmartPhone(30000,'Apple',64)"
      ],
      "metadata": {
        "colab": {
          "base_uri": "https://localhost:8080/"
        },
        "id": "8yajGnvLhB2l",
        "outputId": "1e3d2454-c6c0-42bf-89b5-bedb042c9c74"
      },
      "execution_count": null,
      "outputs": [
        {
          "output_type": "stream",
          "name": "stdout",
          "text": [
            "Inside the phone constructor\n"
          ]
        }
      ]
    },
    {
      "cell_type": "code",
      "source": [
        "print(s.check())"
      ],
      "metadata": {
        "colab": {
          "base_uri": "https://localhost:8080/",
          "height": 263
        },
        "id": "dxMov-QHjLav",
        "outputId": "e1739712-78e7-4a8b-c70a-1680a435d49e"
      },
      "execution_count": null,
      "outputs": [
        {
          "output_type": "error",
          "ename": "AttributeError",
          "evalue": "'SmartPhone' object has no attribute '_SmartPhone__price'",
          "traceback": [
            "\u001b[0;31m---------------------------------------------------------------------------\u001b[0m",
            "\u001b[0;31mAttributeError\u001b[0m                            Traceback (most recent call last)",
            "\u001b[0;32m<ipython-input-71-9926adbee951>\u001b[0m in \u001b[0;36m<cell line: 1>\u001b[0;34m()\u001b[0m\n\u001b[0;32m----> 1\u001b[0;31m \u001b[0mprint\u001b[0m\u001b[0;34m(\u001b[0m\u001b[0ms\u001b[0m\u001b[0;34m.\u001b[0m\u001b[0mcheck\u001b[0m\u001b[0;34m(\u001b[0m\u001b[0;34m)\u001b[0m\u001b[0;34m)\u001b[0m\u001b[0;34m\u001b[0m\u001b[0;34m\u001b[0m\u001b[0m\n\u001b[0m",
            "\u001b[0;32m<ipython-input-70-984e91a2b2fe>\u001b[0m in \u001b[0;36mcheck\u001b[0;34m(self)\u001b[0m\n\u001b[1;32m     15\u001b[0m \u001b[0;32mclass\u001b[0m \u001b[0mSmartPhone\u001b[0m\u001b[0;34m(\u001b[0m\u001b[0mPhone\u001b[0m\u001b[0;34m)\u001b[0m\u001b[0;34m:\u001b[0m\u001b[0;34m\u001b[0m\u001b[0;34m\u001b[0m\u001b[0m\n\u001b[1;32m     16\u001b[0m   \u001b[0;32mdef\u001b[0m \u001b[0mcheck\u001b[0m\u001b[0;34m(\u001b[0m\u001b[0mself\u001b[0m\u001b[0;34m)\u001b[0m\u001b[0;34m:\u001b[0m\u001b[0;34m\u001b[0m\u001b[0;34m\u001b[0m\u001b[0m\n\u001b[0;32m---> 17\u001b[0;31m     \u001b[0mprint\u001b[0m\u001b[0;34m(\u001b[0m\u001b[0mself\u001b[0m\u001b[0;34m.\u001b[0m\u001b[0m__price\u001b[0m\u001b[0;34m)\u001b[0m\u001b[0;34m\u001b[0m\u001b[0;34m\u001b[0m\u001b[0m\n\u001b[0m\u001b[1;32m     18\u001b[0m \u001b[0;34m\u001b[0m\u001b[0m\n\u001b[1;32m     19\u001b[0m \u001b[0ms\u001b[0m\u001b[0;34m=\u001b[0m\u001b[0mSmartPhone\u001b[0m\u001b[0;34m(\u001b[0m\u001b[0;36m30000\u001b[0m\u001b[0;34m,\u001b[0m\u001b[0;34m'Apple'\u001b[0m\u001b[0;34m,\u001b[0m\u001b[0;36m64\u001b[0m\u001b[0;34m)\u001b[0m\u001b[0;34m\u001b[0m\u001b[0;34m\u001b[0m\u001b[0m\n",
            "\u001b[0;31mAttributeError\u001b[0m: 'SmartPhone' object has no attribute '_SmartPhone__price'"
          ]
        }
      ]
    },
    {
      "cell_type": "markdown",
      "source": [
        "child class trying to access private members"
      ],
      "metadata": {
        "id": "9YlR5uwfj-KE"
      }
    },
    {
      "cell_type": "code",
      "source": [
        "print(s.brand)"
      ],
      "metadata": {
        "colab": {
          "base_uri": "https://localhost:8080/"
        },
        "id": "Kc40dBiWjS9r",
        "outputId": "b86d996d-4d43-46c0-9806-2358f6c64fc6"
      },
      "execution_count": null,
      "outputs": [
        {
          "output_type": "stream",
          "name": "stdout",
          "text": [
            "Apple\n"
          ]
        }
      ]
    },
    {
      "cell_type": "code",
      "source": [
        "s.show()"
      ],
      "metadata": {
        "colab": {
          "base_uri": "https://localhost:8080/"
        },
        "id": "OpuKYo0Oj7le",
        "outputId": "6ecb1b04-4e32-489b-9856-5e444c756d1e"
      },
      "execution_count": null,
      "outputs": [
        {
          "output_type": "stream",
          "name": "stdout",
          "text": [
            "The price is 30000\n"
          ]
        }
      ]
    },
    {
      "cell_type": "markdown",
      "source": [
        "**Method Overriding**"
      ],
      "metadata": {
        "id": "OaReHoEwnuCo"
      }
    },
    {
      "cell_type": "code",
      "source": [
        "class Phone:\n",
        "  def __init__(self,price,brand,camera):\n",
        "    print('Inside phone construcotr')\n",
        "    self.price=price\n",
        "    self.brand=brand\n",
        "    self.camera=camera\n",
        "\n",
        "  def buy(self):\n",
        "    print('Buying a phone-Parent class')\n",
        "\n",
        "class SmartPhone(Phone):\n",
        "  def buy(self):\n",
        "    print('Buying a smartphone -child class')\n",
        "\n",
        "\n",
        "s=SmartPhone(20000,\"Apple\",13)\n",
        "\n",
        "s.buy()"
      ],
      "metadata": {
        "colab": {
          "base_uri": "https://localhost:8080/"
        },
        "id": "Ey2SuXa6kTNH",
        "outputId": "84e69549-02c8-400a-f3bd-b39e84591ee3"
      },
      "execution_count": null,
      "outputs": [
        {
          "output_type": "stream",
          "name": "stdout",
          "text": [
            "Inside phone construcotr\n",
            "Buying a smartphone -child class\n"
          ]
        }
      ]
    },
    {
      "cell_type": "markdown",
      "source": [
        "*if both child class and parent class has same method then method from the  child class will be executed*"
      ],
      "metadata": {
        "id": "zHs_MJ7_pJ1r"
      }
    },
    {
      "cell_type": "markdown",
      "source": [
        "# Super Keyword"
      ],
      "metadata": {
        "id": "jVk7_H-hpiC1"
      }
    },
    {
      "cell_type": "markdown",
      "source": [
        "*   Super is used only inside the class\n",
        "*   It is generally used in the child class\n",
        "*   Super cannot access variables, it can only access methods\n",
        "\n"
      ],
      "metadata": {
        "id": "2cbfdMgtyrdQ"
      }
    },
    {
      "cell_type": "markdown",
      "source": [
        "**Single Inheritance**"
      ],
      "metadata": {
        "id": "moyVi_4xfPK4"
      }
    },
    {
      "cell_type": "code",
      "source": [
        "class Phone:\n",
        "  def __init__(self,price,brand,camera):\n",
        "    print('Inside phone construcotr')\n",
        "    self.price=price\n",
        "    self.brand=brand\n",
        "    self.camera=camera\n",
        "\n",
        "class SmartPhone(Phone):\n",
        "  def __init__(self,price,brand,camera,os,ram):\n",
        "\n",
        "    #triggered parent class constructor from inside the child constructor\n",
        "    super().__init__(price,brand,camera)\n",
        "    self.os=os\n",
        "    self.ram=ram\n",
        "    print('Inside SmartPhone constructor')\n",
        "\n",
        "s=SmartPhone(20000,\"Apple\",12,'Android',4)"
      ],
      "metadata": {
        "colab": {
          "base_uri": "https://localhost:8080/"
        },
        "id": "aQTpC_5GtDyS",
        "outputId": "9913ff09-2138-47ef-e7a1-daa93aee786d"
      },
      "execution_count": 3,
      "outputs": [
        {
          "output_type": "stream",
          "name": "stdout",
          "text": [
            "Inside phone construcotr\n",
            "Inside SmartPhone constructor\n"
          ]
        }
      ]
    },
    {
      "cell_type": "code",
      "source": [
        "print(s.brand)\n",
        "print(s.os)"
      ],
      "metadata": {
        "id": "BnDLEpgjoq4Z",
        "colab": {
          "base_uri": "https://localhost:8080/"
        },
        "outputId": "bc12f057-77ef-4e3c-9cc8-13f9c62808c7"
      },
      "execution_count": 4,
      "outputs": [
        {
          "output_type": "stream",
          "name": "stdout",
          "text": [
            "Apple\n",
            "Android\n"
          ]
        }
      ]
    },
    {
      "cell_type": "code",
      "source": [],
      "metadata": {
        "id": "yHVt-D0qxwpH"
      },
      "execution_count": null,
      "outputs": []
    },
    {
      "cell_type": "markdown",
      "source": [
        "# Types of Inheritance"
      ],
      "metadata": {
        "id": "qekZQ01jdAbN"
      }
    },
    {
      "cell_type": "markdown",
      "source": [
        "1.   Single      inheritance\n",
        "2.   Multilevel  inheritance\n",
        "3.   Hierarchial inheritance\n",
        "4.   Multiple    inheritance\n",
        "5.   Hybrid      inheritance\n",
        "\n"
      ],
      "metadata": {
        "id": "QeuJtWAzdGRP"
      }
    },
    {
      "cell_type": "markdown",
      "source": [
        "**Multiple Inheritance**"
      ],
      "metadata": {
        "id": "ltuCYMc5fGej"
      }
    },
    {
      "cell_type": "code",
      "source": [
        "class Product:\n",
        "  def review(self):\n",
        "    print(\"Product Customer Review\")\n",
        "\n",
        "class Phone(Product):\n",
        "  def __init__(self,price,brand,camera):\n",
        "    print('Inside phone constructor')\n",
        "    self.price=price\n",
        "    self.brand=brand\n",
        "    self.camera=camera\n",
        "\n",
        "  def buy(self):\n",
        "    print('Buying a phone')\n",
        "\n",
        "class SmartPhone(Phone):\n",
        "  pass\n",
        "\n",
        "s=SmartPhone(20000,\"Apple\",12)\n",
        "\n",
        "s.buy()\n",
        "\n",
        "s.review()"
      ],
      "metadata": {
        "colab": {
          "base_uri": "https://localhost:8080/"
        },
        "id": "pk8V_hUVc_4O",
        "outputId": "503628f1-fc23-4df7-8233-166a3326b21a"
      },
      "execution_count": 1,
      "outputs": [
        {
          "output_type": "stream",
          "name": "stdout",
          "text": [
            "Inside phone constructor\n",
            "Buying a phone\n",
            "Product Customer Review\n"
          ]
        }
      ]
    },
    {
      "cell_type": "markdown",
      "source": [
        "**Hierarchial Inheritance**"
      ],
      "metadata": {
        "id": "I_C9vGYCgsCa"
      }
    },
    {
      "cell_type": "code",
      "source": [
        "class Phone(Product):\n",
        "  def __init__(self,price,brand,camera):\n",
        "    print('Inside phone constructor')\n",
        "    self.price=price\n",
        "    self.brand=brand\n",
        "    self.camera=camera\n",
        "\n",
        "\n",
        "  def buy(self):\n",
        "    print('Buying a phone')\n",
        "\n",
        "class SmartPhone(Phone):\n",
        "  pass\n",
        "\n",
        "\n",
        "class FeaturePhone(Phone):\n",
        "  pass\n",
        "\n"
      ],
      "metadata": {
        "id": "GomTxT7-gilh"
      },
      "execution_count": 4,
      "outputs": []
    },
    {
      "cell_type": "code",
      "source": [
        "SmartPhone(1000,'Realme','23px').buy()\n",
        "FeaturePhone(1000,'Realme','23px').buy()"
      ],
      "metadata": {
        "colab": {
          "base_uri": "https://localhost:8080/"
        },
        "id": "EtdZ6cm1hA9q",
        "outputId": "8dce523c-bf9b-4a1d-fdc3-cf0c1dcd95e9"
      },
      "execution_count": 5,
      "outputs": [
        {
          "output_type": "stream",
          "name": "stdout",
          "text": [
            "Inside phone constructor\n",
            "Buying a phone\n",
            "Inside phone constructor\n",
            "Buying a phone\n"
          ]
        }
      ]
    },
    {
      "cell_type": "markdown",
      "source": [
        "**Multiple Inheritance**"
      ],
      "metadata": {
        "id": "P32Henm-hUKW"
      }
    },
    {
      "cell_type": "code",
      "source": [
        "class Product:\n",
        "  def review(self):\n",
        "    print(\"Product Customer Review\")\n",
        "\n",
        "class Phone():\n",
        "  def __init__(self,price,brand,camera):\n",
        "    print('Inside phone constructor')\n",
        "    self.price=price\n",
        "    self.brand=brand\n",
        "    self.camera=camera\n",
        "\n",
        "  def buy(self):\n",
        "    print('Buying a phone')\n",
        "\n",
        "class SmartPhone(Product,Phone):\n",
        "  pass\n",
        "\n",
        "s=SmartPhone(20000,'Apple',12)"
      ],
      "metadata": {
        "colab": {
          "base_uri": "https://localhost:8080/"
        },
        "id": "4696SUVXhNp4",
        "outputId": "f09e48c5-3047-4138-e5d3-06e3089bff93"
      },
      "execution_count": 6,
      "outputs": [
        {
          "output_type": "stream",
          "name": "stdout",
          "text": [
            "Inside phone constructor\n"
          ]
        }
      ]
    },
    {
      "cell_type": "code",
      "source": [
        "s.buy()"
      ],
      "metadata": {
        "colab": {
          "base_uri": "https://localhost:8080/"
        },
        "id": "lEjIHyExhu2Q",
        "outputId": "a0bec3b3-a11f-48d9-b39e-a9c51fda0c97"
      },
      "execution_count": 7,
      "outputs": [
        {
          "output_type": "stream",
          "name": "stdout",
          "text": [
            "Buying a phone\n"
          ]
        }
      ]
    },
    {
      "cell_type": "code",
      "source": [
        "s.review()"
      ],
      "metadata": {
        "colab": {
          "base_uri": "https://localhost:8080/"
        },
        "id": "Xrx5B61rhxTA",
        "outputId": "3ac45ad3-3a42-4043-ff8e-202f4424821d"
      },
      "execution_count": 8,
      "outputs": [
        {
          "output_type": "stream",
          "name": "stdout",
          "text": [
            "Product Customer Review\n"
          ]
        }
      ]
    },
    {
      "cell_type": "markdown",
      "source": [
        "**Diamond Problem**"
      ],
      "metadata": {
        "id": "_44a2JzNiAUJ"
      }
    },
    {
      "cell_type": "markdown",
      "source": [
        "*method resolution order (MRO)*\n",
        "\n",
        "it is used in case of multiple inheritance"
      ],
      "metadata": {
        "id": "ZM6BuiI1iZ2j"
      }
    },
    {
      "cell_type": "markdown",
      "source": [
        "# Polymorphism\n",
        "*   Method Overriding\n",
        "*   Method Overloading\n",
        "*   Operator Overloading\n",
        "\n"
      ],
      "metadata": {
        "id": "FnGPFsgTjl4Y"
      }
    },
    {
      "cell_type": "markdown",
      "source": [
        "Method overloading\n",
        "\n",
        "*multiple function name with different paramters name*\n",
        "*method overloading increases the code readibility and code looks clean*\n",
        "\n",
        "*method overloading doesn't work in python- the solution is using concept of default arguments*\n"
      ],
      "metadata": {
        "id": "_h_ZBvO7mLdx"
      }
    },
    {
      "cell_type": "code",
      "source": [
        "class Shape:\n",
        "  def area(self,a,b=0):\n",
        "    if b==0:\n",
        "      return 3.14*a*a\n",
        "    else:\n",
        "      return a*b\n",
        "\n",
        "print(Shape().area(2))\n",
        "print(Shape().area(2,3))"
      ],
      "metadata": {
        "colab": {
          "base_uri": "https://localhost:8080/"
        },
        "id": "xifEMaXNhzyS",
        "outputId": "fbda3b2b-793a-420c-e01d-f76c8cf92379"
      },
      "execution_count": 10,
      "outputs": [
        {
          "output_type": "stream",
          "name": "stdout",
          "text": [
            "12.56\n",
            "6\n"
          ]
        }
      ]
    },
    {
      "cell_type": "markdown",
      "source": [
        "*OPERATOR OVERLOADING*\n",
        "\n",
        "+ can be used to add two integers,floats\n",
        "+ can be used to concate two string\n",
        "\n",
        "magic methods are also the example of operator overloading"
      ],
      "metadata": {
        "id": "jG26Y5mKntmn"
      }
    },
    {
      "cell_type": "code",
      "source": [],
      "metadata": {
        "id": "Y4OvthL8nleW"
      },
      "execution_count": null,
      "outputs": []
    }
  ]
}