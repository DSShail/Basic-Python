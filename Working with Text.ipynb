{
 "cells": [
  {
   "cell_type": "markdown",
   "id": "96d49673",
   "metadata": {},
   "source": [
    "### Python can manipulate text-represented by str so called Strings as well as numbers.They can be enclosed in the single as well as double quotes"
   ]
  },
  {
   "cell_type": "code",
   "execution_count": 2,
   "id": "8fb1aeea",
   "metadata": {},
   "outputs": [],
   "source": [
    "str1='spam eggs'\n",
    "\n",
    "str2=\"my name is Shailesh\""
   ]
  },
  {
   "cell_type": "markdown",
   "id": "bb219b99",
   "metadata": {},
   "source": [
    "## To quote a Quote"
   ]
  },
  {
   "cell_type": "code",
   "execution_count": 4,
   "id": "36a40ecb",
   "metadata": {},
   "outputs": [
    {
     "ename": "SyntaxError",
     "evalue": "unterminated string literal (detected at line 1) (3583323997.py, line 1)",
     "output_type": "error",
     "traceback": [
      "\u001b[1;36m  Cell \u001b[1;32mIn[4], line 1\u001b[1;36m\u001b[0m\n\u001b[1;33m    'doesn't'\u001b[0m\n\u001b[1;37m            ^\u001b[0m\n\u001b[1;31mSyntaxError\u001b[0m\u001b[1;31m:\u001b[0m unterminated string literal (detected at line 1)\n"
     ]
    }
   ],
   "source": [
    "'doesn't'\n"
   ]
  },
  {
   "cell_type": "code",
   "execution_count": 8,
   "id": "9a87d175",
   "metadata": {},
   "outputs": [
    {
     "data": {
      "text/plain": [
       "\"doesn't\""
      ]
     },
     "execution_count": 8,
     "metadata": {},
     "output_type": "execute_result"
    }
   ],
   "source": [
    "'doesn\\'t'  #use escape character / to escape the sinle quotes or you can use double quotes \n"
   ]
  },
  {
   "cell_type": "code",
   "execution_count": 9,
   "id": "bed1fa92",
   "metadata": {},
   "outputs": [
    {
     "name": "stdout",
     "output_type": "stream",
     "text": [
      "doesn't\n"
     ]
    }
   ],
   "source": [
    "\n",
    "str3=\"doesn't\"\n",
    "print(str3)"
   ]
  },
  {
   "cell_type": "code",
   "execution_count": 15,
   "id": "2fad5348",
   "metadata": {},
   "outputs": [
    {
     "name": "stdout",
     "output_type": "stream",
     "text": [
      "First Line.\n",
      "Second Line.\n"
     ]
    }
   ],
   "source": [
    "s=\"First Line.\\nSecond Line.\"  # \\n means new line here\n",
    "print(s) # with print statement \\n is interpreted so it produces a new line"
   ]
  },
  {
   "cell_type": "code",
   "execution_count": 16,
   "id": "434cadc4",
   "metadata": {},
   "outputs": [
    {
     "data": {
      "text/plain": [
       "'First Line.\\nSecond Line.'"
      ]
     },
     "execution_count": 16,
     "metadata": {},
     "output_type": "execute_result"
    }
   ],
   "source": [
    "s #without print() special character are included in the string"
   ]
  },
  {
   "cell_type": "markdown",
   "id": "120b6570",
   "metadata": {},
   "source": [
    "#### If you don't want  characters prefaced by \\ to interpreted as special character- you can raw strings by adding r before the first quote"
   ]
  },
  {
   "cell_type": "code",
   "execution_count": 17,
   "id": "7fbdee8d",
   "metadata": {},
   "outputs": [
    {
     "name": "stdout",
     "output_type": "stream",
     "text": [
      "C:Some\n",
      "ame\n"
     ]
    }
   ],
   "source": [
    "print('C:Some\\name') #\\n is interpreted  as new line"
   ]
  },
  {
   "cell_type": "code",
   "execution_count": 19,
   "id": "1c0f41a3",
   "metadata": {},
   "outputs": [
    {
     "name": "stdout",
     "output_type": "stream",
     "text": [
      "C:Some\\name\n"
     ]
    }
   ],
   "source": [
    "print(r'C:Some\\name') #r before the quote denotes the raw string therefore \\n is not interpreted as new line"
   ]
  },
  {
   "cell_type": "markdown",
   "id": "bf657f06",
   "metadata": {},
   "source": [
    "#### String can span multiple lines.One way is by using triple quotes \"\"\"...\"\"\" or '''...'''"
   ]
  },
  {
   "cell_type": "code",
   "execution_count": 21,
   "id": "2369e087",
   "metadata": {},
   "outputs": [
    {
     "name": "stdout",
     "output_type": "stream",
     "text": [
      "\n",
      "    Usage:thingy[OPTIONS]\n",
      "    -h\n",
      "    -H hostname\n",
      "\n"
     ]
    }
   ],
   "source": [
    "print(\"\"\"\n",
    "    Usage:thingy[OPTIONS]\n",
    "    -h\n",
    "    -H hostname\n",
    "\"\"\")"
   ]
  },
  {
   "cell_type": "code",
   "execution_count": 23,
   "id": "2517f5e3",
   "metadata": {},
   "outputs": [
    {
     "data": {
      "text/plain": [
       "'shailshailshailesh'"
      ]
     },
     "execution_count": 23,
     "metadata": {},
     "output_type": "execute_result"
    }
   ],
   "source": [
    "#strings can be concatenated by + opertor and repeated with * operator\n",
    "\n",
    "3*'shail'+'esh'"
   ]
  },
  {
   "cell_type": "code",
   "execution_count": 26,
   "id": "7cb38fee",
   "metadata": {},
   "outputs": [
    {
     "data": {
      "text/plain": [
       "'hi I am shailesh'"
      ]
     },
     "execution_count": 26,
     "metadata": {},
     "output_type": "execute_result"
    }
   ],
   "source": [
    "#Two or more string literals in quotes next to eachother are automatically concatenated\n",
    "\n",
    "'hi' ' I' ' am' ' shailesh'\n",
    "\n",
    "\n",
    "#this concept works only with two literals though not with varibles or expressions"
   ]
  },
  {
   "cell_type": "markdown",
   "id": "345f84e6",
   "metadata": {},
   "source": [
    "### Indexing"
   ]
  },
  {
   "cell_type": "code",
   "execution_count": 30,
   "id": "388c8195",
   "metadata": {},
   "outputs": [
    {
     "name": "stdout",
     "output_type": "stream",
     "text": [
      "p\n",
      "n\n"
     ]
    }
   ],
   "source": [
    "word='python'\n",
    "\n",
    "print(word[0]) # character at index 0\n",
    "print(word[5]) #character at index 4"
   ]
  },
  {
   "cell_type": "code",
   "execution_count": 32,
   "id": "916795d4",
   "metadata": {},
   "outputs": [
    {
     "name": "stdout",
     "output_type": "stream",
     "text": [
      "n\n",
      "o\n"
     ]
    }
   ],
   "source": [
    "#Index could be negative so start counting from right\n",
    "\n",
    "#since 0 and -0 are same thefore negative index starts from -1\n",
    "print(word[-1])\n",
    "\n",
    "print(word[-2])"
   ]
  },
  {
   "cell_type": "markdown",
   "id": "714e26d0",
   "metadata": {},
   "source": [
    "#### In addition to indexing,slicing is also supported. indexing -fetches  a single character. slicing  -fetches a substring"
   ]
  },
  {
   "cell_type": "code",
   "execution_count": 35,
   "id": "30c396a6",
   "metadata": {},
   "outputs": [
    {
     "name": "stdout",
     "output_type": "stream",
     "text": [
      "py\n",
      "on\n",
      "on\n"
     ]
    }
   ],
   "source": [
    "print(word[:2]) #substring from begining to position 2(excluded)\n",
    "\n",
    "print(word[4:]) #substring from position4(included)  to end\n",
    "\n",
    "print(word[-2:]) #substring from second-last(included) to the end"
   ]
  },
  {
   "cell_type": "markdown",
   "id": "1b0691b8",
   "metadata": {},
   "source": [
    "#### Textual data in python  is handled with str object or Strings. Strings are immutable sequence of unicode points\n",
    "#### String may also be created from other objects using str constructor"
   ]
  },
  {
   "cell_type": "markdown",
   "id": "a0dfb697",
   "metadata": {},
   "source": [
    "#### print() function by default goes to next line after printing"
   ]
  },
  {
   "cell_type": "code",
   "execution_count": null,
   "id": "baf02d11",
   "metadata": {},
   "outputs": [],
   "source": []
  }
 ],
 "metadata": {
  "kernelspec": {
   "display_name": "Python 3 (ipykernel)",
   "language": "python",
   "name": "python3"
  },
  "language_info": {
   "codemirror_mode": {
    "name": "ipython",
    "version": 3
   },
   "file_extension": ".py",
   "mimetype": "text/x-python",
   "name": "python",
   "nbconvert_exporter": "python",
   "pygments_lexer": "ipython3",
   "version": "3.10.9"
  }
 },
 "nbformat": 4,
 "nbformat_minor": 5
}
