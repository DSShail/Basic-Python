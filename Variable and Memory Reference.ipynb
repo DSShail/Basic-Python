{
 "cells": [
  {
   "cell_type": "markdown",
   "id": "880c3148",
   "metadata": {},
   "source": [
    "##### When a program is running the variables are stored in RAM. In RAM data is stored in registers,diode\n",
    "- generally the memory address is continuous\n",
    "- the data is stored in binary foramt\n",
    "- python calls a variable as name\n",
    "- using id() function you can fetch memory address"
   ]
  },
  {
   "cell_type": "markdown",
   "id": "6b97c00e",
   "metadata": {},
   "source": [
    "#### Call by Object Reference"
   ]
  },
  {
   "cell_type": "code",
   "execution_count": 2,
   "id": "289c3060",
   "metadata": {},
   "outputs": [],
   "source": [
    "a=4"
   ]
  },
  {
   "cell_type": "code",
   "execution_count": 3,
   "id": "ed7d7604",
   "metadata": {},
   "outputs": [
    {
     "data": {
      "text/plain": [
       "2005368308048"
      ]
     },
     "execution_count": 3,
     "metadata": {},
     "output_type": "execute_result"
    }
   ],
   "source": [
    "id(a)"
   ]
  },
  {
   "cell_type": "code",
   "execution_count": 4,
   "id": "f308bad8",
   "metadata": {},
   "outputs": [
    {
     "data": {
      "text/plain": [
       "'0x1d2e9440150'"
      ]
     },
     "execution_count": 4,
     "metadata": {},
     "output_type": "execute_result"
    }
   ],
   "source": [
    "hex(id(a))"
   ]
  },
  {
   "cell_type": "code",
   "execution_count": 5,
   "id": "e3a698a9",
   "metadata": {},
   "outputs": [
    {
     "data": {
      "text/plain": [
       "'0x1d2e9440150'"
      ]
     },
     "execution_count": 5,
     "metadata": {},
     "output_type": "execute_result"
    }
   ],
   "source": [
    "hex(id(4))"
   ]
  },
  {
   "cell_type": "markdown",
   "id": "6a5f5471",
   "metadata": {},
   "source": [
    "##### as you can see the memory address of both a and 4 gives 0x1d2e9440150, since in python everything is object therefore we call this process of memory allocation as call by OBJECT REFERENCE"
   ]
  },
  {
   "cell_type": "markdown",
   "id": "01557057",
   "metadata": {},
   "source": [
    "### ALIASING"
   ]
  },
  {
   "cell_type": "code",
   "execution_count": 6,
   "id": "f0c6385f",
   "metadata": {},
   "outputs": [],
   "source": [
    "a=5\n",
    "b=a"
   ]
  },
  {
   "cell_type": "code",
   "execution_count": 7,
   "id": "b0b1adc2",
   "metadata": {},
   "outputs": [
    {
     "name": "stdout",
     "output_type": "stream",
     "text": [
      "2005368308080\n",
      "-------------------\n",
      "2005368308080\n"
     ]
    }
   ],
   "source": [
    "print(id(a))\n",
    "print('-------------------')\n",
    "print(id(b))"
   ]
  },
  {
   "cell_type": "markdown",
   "id": "725c9a26",
   "metadata": {},
   "source": [
    "## REFERENCE COUNTING"
   ]
  },
  {
   "cell_type": "code",
   "execution_count": 8,
   "id": "3532d365",
   "metadata": {},
   "outputs": [],
   "source": [
    "import sys"
   ]
  },
  {
   "cell_type": "code",
   "execution_count": 11,
   "id": "e86670b6",
   "metadata": {},
   "outputs": [],
   "source": [
    "a='shivaa'\n",
    "b=a\n",
    "c=b"
   ]
  },
  {
   "cell_type": "code",
   "execution_count": 12,
   "id": "df144d1b",
   "metadata": {},
   "outputs": [
    {
     "name": "stdout",
     "output_type": "stream",
     "text": [
      "printing the address of a,b and c\n",
      "2005452562480\n",
      "2005452562480\n",
      "2005452562480\n"
     ]
    }
   ],
   "source": [
    "print(\"printing the address of a,b and c\")\n",
    "print(id(a))\n",
    "print(id(b))\n",
    "print(id(c))"
   ]
  },
  {
   "cell_type": "markdown",
   "id": "991ab2de",
   "metadata": {},
   "source": [
    "##### we are trying to count the number of variables pointing 2005452562480 memory address"
   ]
  },
  {
   "cell_type": "code",
   "execution_count": 17,
   "id": "7a73de9e",
   "metadata": {},
   "outputs": [
    {
     "data": {
      "text/plain": [
       "3"
      ]
     },
     "execution_count": 17,
     "metadata": {},
     "output_type": "execute_result"
    }
   ],
   "source": [
    "sys.getrefcount(2005452562480)"
   ]
  },
  {
   "cell_type": "markdown",
   "id": "fef78922",
   "metadata": {},
   "source": [
    "## Garbage Collection"
   ]
  },
  {
   "cell_type": "code",
   "execution_count": 1,
   "id": "f6c92f9c",
   "metadata": {},
   "outputs": [],
   "source": [
    "L=[1,2,3]"
   ]
  },
  {
   "cell_type": "code",
   "execution_count": 2,
   "id": "d109079f",
   "metadata": {},
   "outputs": [
    {
     "name": "stdout",
     "output_type": "stream",
     "text": [
      "2520901562176\n"
     ]
    }
   ],
   "source": [
    "print(id(L))"
   ]
  },
  {
   "cell_type": "code",
   "execution_count": 5,
   "id": "cc80394d",
   "metadata": {},
   "outputs": [
    {
     "data": {
      "text/plain": [
       "2520819826928"
      ]
     },
     "execution_count": 5,
     "metadata": {},
     "output_type": "execute_result"
    }
   ],
   "source": [
    "id(L[0])"
   ]
  },
  {
   "cell_type": "code",
   "execution_count": 6,
   "id": "30faf668",
   "metadata": {},
   "outputs": [
    {
     "data": {
      "text/plain": [
       "2520819826928"
      ]
     },
     "execution_count": 6,
     "metadata": {},
     "output_type": "execute_result"
    }
   ],
   "source": [
    "id(1)"
   ]
  },
  {
   "cell_type": "markdown",
   "id": "e1311b8b",
   "metadata": {},
   "source": [
    "#### Mutability- ability to change or edit the data in it's memory location"
   ]
  },
  {
   "cell_type": "code",
   "execution_count": 11,
   "id": "fbf5025f",
   "metadata": {},
   "outputs": [],
   "source": [
    "a='hello'"
   ]
  },
  {
   "cell_type": "code",
   "execution_count": 12,
   "id": "e66c1cc6",
   "metadata": {},
   "outputs": [
    {
     "data": {
      "text/plain": [
       "2520897680240"
      ]
     },
     "execution_count": 12,
     "metadata": {},
     "output_type": "execute_result"
    }
   ],
   "source": [
    "id(a)"
   ]
  },
  {
   "cell_type": "code",
   "execution_count": 13,
   "id": "eb1ca7ac",
   "metadata": {},
   "outputs": [],
   "source": [
    "a=a+'world'"
   ]
  },
  {
   "cell_type": "code",
   "execution_count": 14,
   "id": "bf476545",
   "metadata": {},
   "outputs": [
    {
     "data": {
      "text/plain": [
       "'helloworld'"
      ]
     },
     "execution_count": 14,
     "metadata": {},
     "output_type": "execute_result"
    }
   ],
   "source": [
    "a"
   ]
  },
  {
   "cell_type": "code",
   "execution_count": 15,
   "id": "8f06b577",
   "metadata": {},
   "outputs": [
    {
     "data": {
      "text/plain": [
       "2520930198512"
      ]
     },
     "execution_count": 15,
     "metadata": {},
     "output_type": "execute_result"
    }
   ],
   "source": [
    "id(a)"
   ]
  },
  {
   "cell_type": "markdown",
   "id": "9080b589",
   "metadata": {},
   "source": [
    "**Immutable data type**\n",
    "- Tuple\n",
    "- set\n",
    "- String\n",
    "- int\n",
    "- float\n",
    "- boolean"
   ]
  },
  {
   "cell_type": "markdown",
   "id": "5bc46248",
   "metadata": {},
   "source": [
    "**Mutable data type**\n",
    "- List\n",
    "- dictionary"
   ]
  },
  {
   "cell_type": "markdown",
   "id": "ba32f8b5",
   "metadata": {},
   "source": [
    "#### when are working with mutable data type perfrom CLONING"
   ]
  },
  {
   "cell_type": "code",
   "execution_count": 18,
   "id": "e21a6308",
   "metadata": {},
   "outputs": [],
   "source": [
    "L1=[1,2,3]"
   ]
  },
  {
   "cell_type": "markdown",
   "id": "365e37d4",
   "metadata": {},
   "source": [
    "##### new_list_name=old_list_name[:]"
   ]
  },
  {
   "cell_type": "code",
   "execution_count": 19,
   "id": "a33ab71e",
   "metadata": {},
   "outputs": [],
   "source": [
    "l=L1[:]"
   ]
  },
  {
   "cell_type": "code",
   "execution_count": 20,
   "id": "4eac4af0",
   "metadata": {},
   "outputs": [
    {
     "data": {
      "text/plain": [
       "[1, 2, 3]"
      ]
     },
     "execution_count": 20,
     "metadata": {},
     "output_type": "execute_result"
    }
   ],
   "source": [
    "l"
   ]
  },
  {
   "cell_type": "code",
   "execution_count": 21,
   "id": "333ca068",
   "metadata": {},
   "outputs": [
    {
     "data": {
      "text/plain": [
       "2520930162560"
      ]
     },
     "execution_count": 21,
     "metadata": {},
     "output_type": "execute_result"
    }
   ],
   "source": [
    "id(l)"
   ]
  },
  {
   "cell_type": "code",
   "execution_count": 22,
   "id": "b3d644cd",
   "metadata": {},
   "outputs": [
    {
     "data": {
      "text/plain": [
       "2520901562176"
      ]
     },
     "execution_count": 22,
     "metadata": {},
     "output_type": "execute_result"
    }
   ],
   "source": [
    "id(L)"
   ]
  },
  {
   "cell_type": "markdown",
   "id": "0a529752",
   "metadata": {},
   "source": [
    "#### if you concatenate an element to a list the address changes whereas if you use some built-in function for list operation the address remains same"
   ]
  },
  {
   "cell_type": "code",
   "execution_count": null,
   "id": "66c1b74a",
   "metadata": {},
   "outputs": [],
   "source": []
  }
 ],
 "metadata": {
  "kernelspec": {
   "display_name": "Python 3 (ipykernel)",
   "language": "python",
   "name": "python3"
  },
  "language_info": {
   "codemirror_mode": {
    "name": "ipython",
    "version": 3
   },
   "file_extension": ".py",
   "mimetype": "text/x-python",
   "name": "python",
   "nbconvert_exporter": "python",
   "pygments_lexer": "ipython3",
   "version": "3.10.9"
  }
 },
 "nbformat": 4,
 "nbformat_minor": 5
}
