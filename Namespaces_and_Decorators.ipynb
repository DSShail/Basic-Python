{
  "nbformat": 4,
  "nbformat_minor": 0,
  "metadata": {
    "colab": {
      "provenance": [],
      "authorship_tag": "ABX9TyM4ZnplUxHqwNNacvaSB1s6",
      "include_colab_link": true
    },
    "kernelspec": {
      "name": "python3",
      "display_name": "Python 3"
    },
    "language_info": {
      "name": "python"
    }
  },
  "cells": [
    {
      "cell_type": "markdown",
      "metadata": {
        "id": "view-in-github",
        "colab_type": "text"
      },
      "source": [
        "<a href=\"https://colab.research.google.com/github/DSShail/Basic-Python/blob/main/Namespaces_and_Decorators.ipynb\" target=\"_parent\"><img src=\"https://colab.research.google.com/assets/colab-badge.svg\" alt=\"Open In Colab\"/></a>"
      ]
    },
    {
      "cell_type": "markdown",
      "source": [
        "Namespaces\n",
        "\n",
        "a namespace is a space that holds names(identifiers).Programatically speaking namespaces are dicionary of identifiers(keys) and their objects(values)\n",
        "\n",
        "There are 4 types of namespaces\n",
        "* BuiltIn namespaces\n",
        "* Global namespaces\n",
        "* Enclosing namespaces\n",
        "* Local namespaces\n",
        "\n"
      ],
      "metadata": {
        "id": "zUNO_S1cEbXI"
      }
    },
    {
      "cell_type": "markdown",
      "source": [
        "# Scope and LEGB Rule\n",
        "\n",
        "A scope is a textual region of a python program where a namespace is directly accessible\n",
        "\n",
        "**LEGB Rule**\n",
        "\n",
        "The interpreter searches for a name inside out,looking in the local,enclosing,global and finally the built-in scope. If the interpreter doesn't find the name in any space then python raised NameError Exception"
      ],
      "metadata": {
        "id": "hKGQR8SjH2mr"
      }
    },
    {
      "cell_type": "markdown",
      "source": [
        "**Global and Local namespace**"
      ],
      "metadata": {
        "id": "Pv9QZWCYNz45"
      }
    },
    {
      "cell_type": "markdown",
      "source": [],
      "metadata": {
        "id": "aStSF1V5Nz0m"
      }
    },
    {
      "cell_type": "code",
      "execution_count": null,
      "metadata": {
        "colab": {
          "base_uri": "https://localhost:8080/"
        },
        "id": "tlPdBz54D6PI",
        "outputId": "68eab79e-e1cd-432b-b507-dce6ac47a844"
      },
      "outputs": [
        {
          "output_type": "stream",
          "name": "stdout",
          "text": [
            "3\n",
            "2\n"
          ]
        }
      ],
      "source": [
        "# local and global namespaces\n",
        "\n",
        "a=2 # it is global variable in the global namespace\n",
        "\n",
        "def temp(): # temp is in the global namespace\n",
        "  b=3  #b is local variable inside local namespace\n",
        "  print(b)\n",
        "\n",
        "temp()\n",
        "\n",
        "print(a)"
      ]
    },
    {
      "cell_type": "code",
      "source": [
        "# local and global namespaces - same name\n",
        "\n",
        "a=2 # it is global variable in the global namespace\n",
        "\n",
        "def temp(): # temp is in the global namespace\n",
        "  a=3  #b is local variable inside local namespace\n",
        "  print(a)\n",
        "\n",
        "temp()\n",
        "\n",
        "print(a)"
      ],
      "metadata": {
        "colab": {
          "base_uri": "https://localhost:8080/"
        },
        "id": "nhlsZ3wcJp03",
        "outputId": "791d3d4a-7cb7-45d3-d968-f31e5535330b"
      },
      "execution_count": null,
      "outputs": [
        {
          "output_type": "stream",
          "name": "stdout",
          "text": [
            "3\n",
            "2\n"
          ]
        }
      ]
    },
    {
      "cell_type": "code",
      "source": [
        "# global and local namespaces-> local doesn't have but global has\n",
        "\n",
        "a=2\n",
        "\n",
        "def temp():\n",
        "  #local variable\n",
        "  print(a) # a isn't available in the local namespace therfore by LEGB rule it will check in enclosing namespace, global namespace, built-in namespace\n",
        "\n",
        "temp()\n",
        "print(a)"
      ],
      "metadata": {
        "colab": {
          "base_uri": "https://localhost:8080/"
        },
        "id": "T22ztVbqJ45T",
        "outputId": "f783307a-ff81-45b0-ece3-153e77515bb2"
      },
      "execution_count": null,
      "outputs": [
        {
          "output_type": "stream",
          "name": "stdout",
          "text": [
            "2\n",
            "2\n"
          ]
        }
      ]
    },
    {
      "cell_type": "code",
      "source": [
        "# local and global ->writing global\n",
        "\n",
        "a=2\n",
        "\n",
        "\n",
        "def temp():\n",
        "  a+=1   # you cannot update global variable from inside the local namespace. You can only read it\n",
        "  print(a)\n",
        "\n",
        "temp()\n",
        "print(a)"
      ],
      "metadata": {
        "colab": {
          "base_uri": "https://localhost:8080/",
          "height": 315
        },
        "id": "uv1_GzhJK6ay",
        "outputId": "b85d574b-8a86-4a34-c290-9fccea7ce158"
      },
      "execution_count": null,
      "outputs": [
        {
          "output_type": "error",
          "ename": "UnboundLocalError",
          "evalue": "local variable 'a' referenced before assignment",
          "traceback": [
            "\u001b[0;31m---------------------------------------------------------------------------\u001b[0m",
            "\u001b[0;31mUnboundLocalError\u001b[0m                         Traceback (most recent call last)",
            "\u001b[0;32m<ipython-input-5-b6b51724b23a>\u001b[0m in \u001b[0;36m<cell line: 10>\u001b[0;34m()\u001b[0m\n\u001b[1;32m      8\u001b[0m   \u001b[0mprint\u001b[0m\u001b[0;34m(\u001b[0m\u001b[0ma\u001b[0m\u001b[0;34m)\u001b[0m\u001b[0;34m\u001b[0m\u001b[0;34m\u001b[0m\u001b[0m\n\u001b[1;32m      9\u001b[0m \u001b[0;34m\u001b[0m\u001b[0m\n\u001b[0;32m---> 10\u001b[0;31m \u001b[0mtemp\u001b[0m\u001b[0;34m(\u001b[0m\u001b[0;34m)\u001b[0m\u001b[0;34m\u001b[0m\u001b[0;34m\u001b[0m\u001b[0m\n\u001b[0m\u001b[1;32m     11\u001b[0m \u001b[0mprint\u001b[0m\u001b[0;34m(\u001b[0m\u001b[0ma\u001b[0m\u001b[0;34m)\u001b[0m\u001b[0;34m\u001b[0m\u001b[0;34m\u001b[0m\u001b[0m\n",
            "\u001b[0;32m<ipython-input-5-b6b51724b23a>\u001b[0m in \u001b[0;36mtemp\u001b[0;34m()\u001b[0m\n\u001b[1;32m      5\u001b[0m \u001b[0;34m\u001b[0m\u001b[0m\n\u001b[1;32m      6\u001b[0m \u001b[0;32mdef\u001b[0m \u001b[0mtemp\u001b[0m\u001b[0;34m(\u001b[0m\u001b[0;34m)\u001b[0m\u001b[0;34m:\u001b[0m\u001b[0;34m\u001b[0m\u001b[0;34m\u001b[0m\u001b[0m\n\u001b[0;32m----> 7\u001b[0;31m   \u001b[0ma\u001b[0m\u001b[0;34m+=\u001b[0m\u001b[0;36m1\u001b[0m   \u001b[0;31m# you cannot update global variable from inside the local namespace. You can only read it\u001b[0m\u001b[0;34m\u001b[0m\u001b[0;34m\u001b[0m\u001b[0m\n\u001b[0m\u001b[1;32m      8\u001b[0m   \u001b[0mprint\u001b[0m\u001b[0;34m(\u001b[0m\u001b[0ma\u001b[0m\u001b[0;34m)\u001b[0m\u001b[0;34m\u001b[0m\u001b[0;34m\u001b[0m\u001b[0m\n\u001b[1;32m      9\u001b[0m \u001b[0;34m\u001b[0m\u001b[0m\n",
            "\u001b[0;31mUnboundLocalError\u001b[0m: local variable 'a' referenced before assignment"
          ]
        }
      ]
    },
    {
      "cell_type": "code",
      "source": [
        "# local and global ->writing global\n",
        "\n",
        "a=2\n",
        "\n",
        "\n",
        "def temp():\n",
        "  # not a good practice to change the global variable from inside the local namespace\n",
        "  global a # with the help of global keyword we can change the global variable from inside local namespace\n",
        "  a+=1\n",
        "  print(a)\n",
        "\n",
        "temp()\n",
        "print(a)"
      ],
      "metadata": {
        "colab": {
          "base_uri": "https://localhost:8080/"
        },
        "id": "xdbxXYa1LNN4",
        "outputId": "b4ce77ae-0def-4e46-cc9b-6092ca63857a"
      },
      "execution_count": null,
      "outputs": [
        {
          "output_type": "stream",
          "name": "stdout",
          "text": [
            "3\n",
            "3\n"
          ]
        }
      ]
    },
    {
      "cell_type": "code",
      "source": [
        "# local and global ->writing global\n",
        "def temp():\n",
        " # creating a global variable from inside the local namespace\n",
        "  global a\n",
        "  a=1\n",
        "  print(a)\n",
        "\n",
        "temp()\n",
        "print(a)"
      ],
      "metadata": {
        "colab": {
          "base_uri": "https://localhost:8080/"
        },
        "id": "wTzmXmCmL2B1",
        "outputId": "f6b175ab-0676-4d39-8df5-5955bb2a1c57"
      },
      "execution_count": null,
      "outputs": [
        {
          "output_type": "stream",
          "name": "stdout",
          "text": [
            "1\n",
            "1\n"
          ]
        }
      ]
    },
    {
      "cell_type": "code",
      "source": [],
      "metadata": {
        "id": "zscEPoDaM24d"
      },
      "execution_count": null,
      "outputs": []
    },
    {
      "cell_type": "code",
      "source": [
        "# local and global ->writing global\n",
        "def temp(z):\n",
        "  # z here is a local variable inside the local namespace\n",
        " # creating a global variable from inside the local namespace\n",
        "  print(z)\n",
        "\n",
        "a=5\n",
        "temp(a)\n",
        "print(a)"
      ],
      "metadata": {
        "colab": {
          "base_uri": "https://localhost:8080/"
        },
        "outputId": "8adad8de-7915-4468-f3a7-4a52583447a4",
        "id": "TgjJ5x4sNUq1"
      },
      "execution_count": null,
      "outputs": [
        {
          "output_type": "stream",
          "name": "stdout",
          "text": [
            "5\n",
            "5\n"
          ]
        }
      ]
    },
    {
      "cell_type": "markdown",
      "source": [
        "**Built-In scope**"
      ],
      "metadata": {
        "id": "bmn8ifhvNtqt"
      }
    },
    {
      "cell_type": "code",
      "source": [
        "print('hello')"
      ],
      "metadata": {
        "colab": {
          "base_uri": "https://localhost:8080/"
        },
        "id": "nZiLFNlFNc2s",
        "outputId": "9def674c-911f-4e8c-9878-64a429ab804a"
      },
      "execution_count": null,
      "outputs": [
        {
          "output_type": "stream",
          "name": "stdout",
          "text": [
            "hello\n"
          ]
        }
      ]
    },
    {
      "cell_type": "code",
      "source": [
        "# type ()\n",
        "#  help()"
      ],
      "metadata": {
        "id": "6Eqm3Yp6--r1"
      },
      "execution_count": null,
      "outputs": []
    },
    {
      "cell_type": "code",
      "source": [
        "#how to check all the built-ins\n",
        "\n",
        "import  builtins\n",
        "print(dir(builtins))"
      ],
      "metadata": {
        "colab": {
          "base_uri": "https://localhost:8080/"
        },
        "id": "dyexyE1m_G-A",
        "outputId": "c79ac395-dde2-45bd-ebf3-a6a96be37c8e"
      },
      "execution_count": null,
      "outputs": [
        {
          "output_type": "stream",
          "name": "stdout",
          "text": [
            "['ArithmeticError', 'AssertionError', 'AttributeError', 'BaseException', 'BlockingIOError', 'BrokenPipeError', 'BufferError', 'BytesWarning', 'ChildProcessError', 'ConnectionAbortedError', 'ConnectionError', 'ConnectionRefusedError', 'ConnectionResetError', 'DeprecationWarning', 'EOFError', 'Ellipsis', 'EncodingWarning', 'EnvironmentError', 'Exception', 'False', 'FileExistsError', 'FileNotFoundError', 'FloatingPointError', 'FutureWarning', 'GeneratorExit', 'IOError', 'ImportError', 'ImportWarning', 'IndentationError', 'IndexError', 'InterruptedError', 'IsADirectoryError', 'KeyError', 'KeyboardInterrupt', 'LookupError', 'MemoryError', 'ModuleNotFoundError', 'NameError', 'None', 'NotADirectoryError', 'NotImplemented', 'NotImplementedError', 'OSError', 'OverflowError', 'PendingDeprecationWarning', 'PermissionError', 'ProcessLookupError', 'RecursionError', 'ReferenceError', 'ResourceWarning', 'RuntimeError', 'RuntimeWarning', 'StopAsyncIteration', 'StopIteration', 'SyntaxError', 'SyntaxWarning', 'SystemError', 'SystemExit', 'TabError', 'TimeoutError', 'True', 'TypeError', 'UnboundLocalError', 'UnicodeDecodeError', 'UnicodeEncodeError', 'UnicodeError', 'UnicodeTranslateError', 'UnicodeWarning', 'UserWarning', 'ValueError', 'Warning', 'ZeroDivisionError', '__IPYTHON__', '__build_class__', '__debug__', '__doc__', '__import__', '__loader__', '__name__', '__package__', '__spec__', 'abs', 'aiter', 'all', 'anext', 'any', 'ascii', 'bin', 'bool', 'breakpoint', 'bytearray', 'bytes', 'callable', 'chr', 'classmethod', 'compile', 'complex', 'copyright', 'credits', 'delattr', 'dict', 'dir', 'display', 'divmod', 'enumerate', 'eval', 'exec', 'execfile', 'filter', 'float', 'format', 'frozenset', 'get_ipython', 'getattr', 'globals', 'hasattr', 'hash', 'help', 'hex', 'id', 'input', 'int', 'isinstance', 'issubclass', 'iter', 'len', 'license', 'list', 'locals', 'map', 'max', 'memoryview', 'min', 'next', 'object', 'oct', 'open', 'ord', 'pow', 'print', 'property', 'range', 'repr', 'reversed', 'round', 'runfile', 'set', 'setattr', 'slice', 'sorted', 'staticmethod', 'str', 'sum', 'super', 'tuple', 'type', 'vars', 'zip']\n"
          ]
        }
      ]
    },
    {
      "cell_type": "code",
      "source": [
        "#built in scope is above global in terms of scope"
      ],
      "metadata": {
        "id": "k208QKAN_RnC"
      },
      "execution_count": null,
      "outputs": []
    },
    {
      "cell_type": "code",
      "source": [
        "#renaming built-ins\n",
        "L=[1,2,3]\n",
        "def max():\n",
        "  print('hello')\n",
        "# actuall max is a built-in function , it returns the maximun\n",
        "#we have redefined the max function and now max function prints \"hello\" and it takes no argument in the request\n",
        "max(L)"
      ],
      "metadata": {
        "colab": {
          "base_uri": "https://localhost:8080/",
          "height": 176
        },
        "id": "D1mkSC7M_gRt",
        "outputId": "3310f12b-e23c-41b6-a4de-2c58227ad413"
      },
      "execution_count": null,
      "outputs": [
        {
          "output_type": "error",
          "ename": "TypeError",
          "evalue": "max() takes 0 positional arguments but 1 was given",
          "traceback": [
            "\u001b[0;31m---------------------------------------------------------------------------\u001b[0m",
            "\u001b[0;31mTypeError\u001b[0m                                 Traceback (most recent call last)",
            "\u001b[0;32m<ipython-input-9-e969658ca7a3>\u001b[0m in \u001b[0;36m<cell line: 7>\u001b[0;34m()\u001b[0m\n\u001b[1;32m      5\u001b[0m \u001b[0;31m# actuall max is a built-in function , it returns the maximun\u001b[0m\u001b[0;34m\u001b[0m\u001b[0;34m\u001b[0m\u001b[0m\n\u001b[1;32m      6\u001b[0m \u001b[0;31m#we have redefined the max function and now max function prints \"hello\" and it takes no argument in the request\u001b[0m\u001b[0;34m\u001b[0m\u001b[0;34m\u001b[0m\u001b[0m\n\u001b[0;32m----> 7\u001b[0;31m \u001b[0mmax\u001b[0m\u001b[0;34m(\u001b[0m\u001b[0mL\u001b[0m\u001b[0;34m)\u001b[0m\u001b[0;34m\u001b[0m\u001b[0;34m\u001b[0m\u001b[0m\n\u001b[0m",
            "\u001b[0;31mTypeError\u001b[0m: max() takes 0 positional arguments but 1 was given"
          ]
        }
      ]
    },
    {
      "cell_type": "code",
      "source": [
        "#renaming built-ins\n",
        "L=[1,2,3]\n",
        "max(L)\n",
        "def max():\n",
        "  print('hello')\n",
        "\n",
        "max(L)"
      ],
      "metadata": {
        "colab": {
          "base_uri": "https://localhost:8080/",
          "height": 211
        },
        "id": "DvmBHZHqApBA",
        "outputId": "fbf0e61c-40dd-4d81-e780-81b8b77c2260"
      },
      "execution_count": null,
      "outputs": [
        {
          "output_type": "error",
          "ename": "TypeError",
          "evalue": "max() takes 0 positional arguments but 1 was given",
          "traceback": [
            "\u001b[0;31m---------------------------------------------------------------------------\u001b[0m",
            "\u001b[0;31mTypeError\u001b[0m                                 Traceback (most recent call last)",
            "\u001b[0;32m<ipython-input-8-b7c99232d344>\u001b[0m in \u001b[0;36m<cell line: 3>\u001b[0;34m()\u001b[0m\n\u001b[1;32m      1\u001b[0m \u001b[0;31m#renaming built-ins\u001b[0m\u001b[0;34m\u001b[0m\u001b[0;34m\u001b[0m\u001b[0m\n\u001b[1;32m      2\u001b[0m \u001b[0mL\u001b[0m\u001b[0;34m=\u001b[0m\u001b[0;34m[\u001b[0m\u001b[0;36m1\u001b[0m\u001b[0;34m,\u001b[0m\u001b[0;36m2\u001b[0m\u001b[0;34m,\u001b[0m\u001b[0;36m3\u001b[0m\u001b[0;34m]\u001b[0m\u001b[0;34m\u001b[0m\u001b[0;34m\u001b[0m\u001b[0m\n\u001b[0;32m----> 3\u001b[0;31m \u001b[0mmax\u001b[0m\u001b[0;34m(\u001b[0m\u001b[0mL\u001b[0m\u001b[0;34m)\u001b[0m\u001b[0;34m\u001b[0m\u001b[0;34m\u001b[0m\u001b[0m\n\u001b[0m\u001b[1;32m      4\u001b[0m \u001b[0;32mdef\u001b[0m \u001b[0mmax\u001b[0m\u001b[0;34m(\u001b[0m\u001b[0;34m)\u001b[0m\u001b[0;34m:\u001b[0m\u001b[0;34m\u001b[0m\u001b[0;34m\u001b[0m\u001b[0m\n\u001b[1;32m      5\u001b[0m   \u001b[0mprint\u001b[0m\u001b[0;34m(\u001b[0m\u001b[0;34m'hello'\u001b[0m\u001b[0;34m)\u001b[0m\u001b[0;34m\u001b[0m\u001b[0;34m\u001b[0m\u001b[0m\n",
            "\u001b[0;31mTypeError\u001b[0m: max() takes 0 positional arguments but 1 was given"
          ]
        }
      ]
    },
    {
      "cell_type": "markdown",
      "source": [
        "**Enclosing namespace**"
      ],
      "metadata": {
        "id": "dTdSKPafCRhX"
      }
    },
    {
      "cell_type": "code",
      "source": [
        "#inside nested  function\n",
        "def outer():\n",
        "  def inner():\n",
        "    print('Inner Function')\n",
        "\n",
        "  inner()\n",
        "  print('Outer Function')\n",
        "\n",
        "outer()\n",
        "print('main program')"
      ],
      "metadata": {
        "colab": {
          "base_uri": "https://localhost:8080/"
        },
        "id": "q9TE1HGEBtam",
        "outputId": "cdaef229-b222-41ed-a9c0-b82791ef1edc"
      },
      "execution_count": null,
      "outputs": [
        {
          "output_type": "stream",
          "name": "stdout",
          "text": [
            "Inner Function\n",
            "Outer Function\n",
            "main program\n"
          ]
        }
      ]
    },
    {
      "cell_type": "code",
      "source": [
        " #non local keyword\n",
        "\n",
        " #when you want to change a value from local scope to enclosing scope non-local keyword has to be used\n",
        "\n",
        "\n",
        " def outer():\n",
        "\n",
        "  a=4\n",
        "  def inner():\n",
        "    nonlocal a\n",
        "    a+=1\n",
        "    print(a ,\"from inner function\")\n",
        "  inner()\n",
        "  print(a ,\"from outer inner function\")\n",
        "\n",
        "\n",
        "outer()\n",
        "print('main program')"
      ],
      "metadata": {
        "colab": {
          "base_uri": "https://localhost:8080/"
        },
        "id": "l4BBzzWzN1as",
        "outputId": "7e6d07ea-cb29-4f76-8c62-de352a30d7ce"
      },
      "execution_count": null,
      "outputs": [
        {
          "output_type": "stream",
          "name": "stdout",
          "text": [
            "5 from inner function\n",
            "5 from outer inner function\n",
            "main program\n"
          ]
        }
      ]
    },
    {
      "cell_type": "markdown",
      "source": [
        "*enclosing space variable a was changed from inner function using non local keyword*"
      ],
      "metadata": {
        "id": "hpeUZFOGptoy"
      }
    },
    {
      "cell_type": "markdown",
      "source": [
        "# Decorators\n",
        "\n",
        "A decorator in python is a function that receives another function as input and adds  some funationality(decorations) to it and returns it.\n",
        "\n",
        "This can happen only because python function are 1st class citizens\n",
        "*  **we can any types of operations** with 1st class citizens hence the same\n",
        "\n",
        "There are two types of decorators available in python\n",
        "* Built-in decorators are @staticmethod,@classmethod, @abstractmethod, @property etc.\n",
        "* user defined decorators that we programmers can create according to our need"
      ],
      "metadata": {
        "id": "D6mdqNJ9qlf5"
      }
    },
    {
      "cell_type": "code",
      "source": [
        "def modify(func,num):\n",
        "  #square function\n",
        "  return func(num)\n",
        "\n",
        "def square(num):\n",
        "  return num**2\n",
        "\n",
        "\n",
        "modify(square,65)"
      ],
      "metadata": {
        "colab": {
          "base_uri": "https://localhost:8080/"
        },
        "id": "nREe0Ow8pSPG",
        "outputId": "09ba09dc-83c9-4bf8-faeb-32e872d1e529"
      },
      "execution_count": null,
      "outputs": [
        {
          "output_type": "execute_result",
          "data": {
            "text/plain": [
              "4225"
            ]
          },
          "metadata": {},
          "execution_count": 6
        }
      ]
    },
    {
      "cell_type": "markdown",
      "source": [
        "*create a decorator function which adds a line on top and at the bottom*"
      ],
      "metadata": {
        "id": "9hsvRaeWujih"
      }
    },
    {
      "cell_type": "code",
      "source": [
        "#sample examples\n",
        "\n",
        "def my_decorator(func):\n",
        "  def wrapper():\n",
        "    print('************************************************')\n",
        "    func()\n",
        "    print('************************************************')\n",
        "\n",
        "  return wrapper\n",
        "\n",
        "\n",
        "\n",
        "def hello():\n",
        "  print('hello')\n",
        "\n",
        "\n",
        "a= my_decorator(hello) #after my_decoator is called wrapper function is returned and it is assigned to a, now a also becomes a function\n",
        "\n",
        "a()  #calling a will look like calling wrapper function inside my_decorator function"
      ],
      "metadata": {
        "colab": {
          "base_uri": "https://localhost:8080/"
        },
        "id": "AMeHIlRnuGxZ",
        "outputId": "2552d613-a999-4db2-b005-acfb9ad3f02a"
      },
      "execution_count": null,
      "outputs": [
        {
          "output_type": "stream",
          "name": "stdout",
          "text": [
            "************************************************\n",
            "hello\n",
            "************************************************\n"
          ]
        }
      ]
    },
    {
      "cell_type": "code",
      "source": [
        "\n",
        "#create  another function display and\n",
        "def display():\n",
        "  print('Hello Shailesh')\n",
        "\n",
        "b=my_decorator(display)\n",
        "\n",
        "b()"
      ],
      "metadata": {
        "colab": {
          "base_uri": "https://localhost:8080/"
        },
        "id": "jxl_58qVvFbt",
        "outputId": "de2232da-6f88-476a-89a4-e052b72e00cf"
      },
      "execution_count": null,
      "outputs": [
        {
          "output_type": "stream",
          "name": "stdout",
          "text": [
            "************************************************\n",
            "Hello Shailesh\n",
            "************************************************\n"
          ]
        }
      ]
    },
    {
      "cell_type": "markdown",
      "source": [
        "There is something called **closure** in python which means if there is inner function and outer function (enclosing scope)  the inner functions can access the variables of parent/outer function even after the function execution is completed.\n",
        "\n",
        "In the normal case after function execution is complete it is completly removed from memory"
      ],
      "metadata": {
        "id": "FRysV3Ktx5MR"
      }
    },
    {
      "cell_type": "code",
      "source": [
        "def my_decorator(func):\n",
        "  def wrapper():\n",
        "    print('************************************************')\n",
        "    func()\n",
        "    print('************************************************')\n",
        "\n",
        "  return wrapper\n",
        "\n",
        "\n",
        "@my_decorator # this decorator is used to denote that my_decorator will be called on hello function\n",
        "def hello():\n",
        "  print('hello')\n",
        "\n",
        "hello()"
      ],
      "metadata": {
        "colab": {
          "base_uri": "https://localhost:8080/"
        },
        "id": "Chx_p_X9v6o6",
        "outputId": "dbe107c7-448c-4749-ffbe-d60a69d42811"
      },
      "execution_count": null,
      "outputs": [
        {
          "output_type": "stream",
          "name": "stdout",
          "text": [
            "************************************************\n",
            "hello\n",
            "************************************************\n"
          ]
        }
      ]
    },
    {
      "cell_type": "code",
      "source": [
        "#creating a meaningful decorator- time taken to execute a function\n",
        "\n",
        "import time\n",
        "\n",
        "def timer(func):\n",
        "  def wrapper(*args):\n",
        "    start=time.time()\n",
        "    func(*args)\n",
        "    print('time taken by ',func.__name__,time.time()-start,'secs')\n",
        "  return wrapper\n",
        "\n",
        "@timer\n",
        "def hello():\n",
        "  print('hello world')\n",
        "  time.sleep(2)\n",
        "\n",
        "hello()"
      ],
      "metadata": {
        "colab": {
          "base_uri": "https://localhost:8080/"
        },
        "id": "p9FuZSIo1vcs",
        "outputId": "8fd6ead9-5f01-4357-b7cd-f23926ed37d2"
      },
      "execution_count": null,
      "outputs": [
        {
          "output_type": "stream",
          "name": "stdout",
          "text": [
            "hello world\n",
            "time taken by  hello 2.001258611679077 secs\n"
          ]
        }
      ]
    },
    {
      "cell_type": "code",
      "source": [
        "@timer #this is used to call the decorator timer -which calculates the time execution of the function\n",
        "def display():\n",
        "  for i in range(10):\n",
        "    print(i)\n",
        "\n",
        "display()"
      ],
      "metadata": {
        "colab": {
          "base_uri": "https://localhost:8080/"
        },
        "id": "9C8hd5x_3HL_",
        "outputId": "d6cc55f2-a575-462e-9edb-3399246bf813"
      },
      "execution_count": null,
      "outputs": [
        {
          "output_type": "stream",
          "name": "stdout",
          "text": [
            "0\n",
            "1\n",
            "2\n",
            "3\n",
            "4\n",
            "5\n",
            "6\n",
            "7\n",
            "8\n",
            "9\n",
            "time taken by  display 0.0011897087097167969 secs\n"
          ]
        }
      ]
    },
    {
      "cell_type": "code",
      "source": [
        "@timer\n",
        "def square(num):\n",
        "  print(num**2)\n",
        "\n",
        "square(29)"
      ],
      "metadata": {
        "colab": {
          "base_uri": "https://localhost:8080/"
        },
        "id": "-uIWTqlY7AUr",
        "outputId": "759fbef2-84da-4aea-9b73-ec7716699405"
      },
      "execution_count": null,
      "outputs": [
        {
          "output_type": "stream",
          "name": "stdout",
          "text": [
            "841\n",
            "time taken by  square 4.982948303222656e-05 secs\n"
          ]
        }
      ]
    },
    {
      "cell_type": "markdown",
      "source": [
        "**a big problem**\n",
        "\n",
        "Checking the datatype of the inputs to the function"
      ],
      "metadata": {
        "id": "tvtWSdgE6K4c"
      }
    },
    {
      "cell_type": "code",
      "source": [
        "def sanity_check(data_type):\n",
        "  def outer_wrapper(func):\n",
        "    def inner_wrapper(*args):\n",
        "      if type(args[0])==data_type:\n",
        "        func(*args)\n",
        "      else:\n",
        "        print('data type is incorrect')\n",
        "    return inner_wrapper\n",
        "  return outer_wrapper"
      ],
      "metadata": {
        "id": "AawKggcN7gPg"
      },
      "execution_count": null,
      "outputs": []
    },
    {
      "cell_type": "code",
      "source": [
        "@timer\n",
        "def square(num):\n",
        "  print(num**2)\n",
        "\n",
        "square(29)"
      ],
      "metadata": {
        "colab": {
          "base_uri": "https://localhost:8080/"
        },
        "id": "Ufke8AOn3XuS",
        "outputId": "299be314-9ce1-4898-c9ce-9b865dc3198c"
      },
      "execution_count": null,
      "outputs": [
        {
          "output_type": "stream",
          "name": "stdout",
          "text": [
            "cccc\n"
          ]
        }
      ]
    },
    {
      "cell_type": "code",
      "source": [
        "@sanity_check(int)\n",
        "def square(num):\n",
        "  print(num**2)\n",
        "\n",
        "square(25)"
      ],
      "metadata": {
        "colab": {
          "base_uri": "https://localhost:8080/"
        },
        "id": "Ftv6wGwo6jx6",
        "outputId": "a104ec23-c327-4962-ca17-cc3f1fad14fe"
      },
      "execution_count": null,
      "outputs": [
        {
          "output_type": "stream",
          "name": "stdout",
          "text": [
            "625\n"
          ]
        }
      ]
    },
    {
      "cell_type": "code",
      "source": [],
      "metadata": {
        "id": "CgWgmBIL8epm"
      },
      "execution_count": null,
      "outputs": []
    }
  ]
}