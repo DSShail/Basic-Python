{
 "cells": [
  {
   "cell_type": "markdown",
   "id": "a979ec7c",
   "metadata": {},
   "source": [
    "### Tuples are read-only data type"
   ]
  },
  {
   "cell_type": "markdown",
   "id": "9cd70a66",
   "metadata": {},
   "source": [
    "### Tuples\n",
    "- create\n",
    "- Access\n",
    "- Edit\n",
    "- Add\n",
    "- Delete\n",
    "- Operations\n",
    "- Functions"
   ]
  },
  {
   "cell_type": "markdown",
   "id": "72bfe74a",
   "metadata": {},
   "source": [
    "#### Create"
   ]
  },
  {
   "cell_type": "code",
   "execution_count": 2,
   "id": "e2fde03a",
   "metadata": {},
   "outputs": [
    {
     "data": {
      "text/plain": [
       "()"
      ]
     },
     "execution_count": 2,
     "metadata": {},
     "output_type": "execute_result"
    }
   ],
   "source": [
    "T1=()\n",
    "T1"
   ]
  },
  {
   "cell_type": "code",
   "execution_count": 5,
   "id": "6a27f9eb",
   "metadata": {},
   "outputs": [
    {
     "name": "stdout",
     "output_type": "stream",
     "text": [
      "Homogenous tuples  (1, 2, 3, 4, 5)\n"
     ]
    }
   ],
   "source": [
    "T2=(1,2,3,4,5)\n",
    "print(\"Homogenous tuples \",T2)"
   ]
  },
  {
   "cell_type": "code",
   "execution_count": 6,
   "id": "cb7c2ee9",
   "metadata": {},
   "outputs": [
    {
     "name": "stdout",
     "output_type": "stream",
     "text": [
      "Heterogenous tuples (1, 2, 'hi', 3.5)\n"
     ]
    }
   ],
   "source": [
    "T3=(1,2,'hi',3.5)\n",
    "print(\"Heterogenous tuples\",T3)"
   ]
  },
  {
   "cell_type": "code",
   "execution_count": 7,
   "id": "4c1cd752",
   "metadata": {},
   "outputs": [
    {
     "name": "stdout",
     "output_type": "stream",
     "text": [
      "Multi-dim tuples (1, 2, 3, (4, 5))\n"
     ]
    }
   ],
   "source": [
    "T4=(1,2,3,(4,5))\n",
    "print(\"Multi-dim tuples\",T4)"
   ]
  },
  {
   "cell_type": "code",
   "execution_count": 14,
   "id": "9cf258dc",
   "metadata": {},
   "outputs": [
    {
     "name": "stdout",
     "output_type": "stream",
     "text": [
      "<class 'int'>\n",
      "<class 'tuple'>\n",
      "(1,)\n"
     ]
    }
   ],
   "source": [
    "T5=(1)\n",
    "print(type(T5))\n",
    "#single item tuple creation is bit different. \n",
    "T5=(1,) # put comma after the item in case of single item tuple\n",
    "print(type(T5))\n",
    "print(T5)"
   ]
  },
  {
   "cell_type": "code",
   "execution_count": 15,
   "id": "c73ab682",
   "metadata": {},
   "outputs": [
    {
     "name": "stdout",
     "output_type": "stream",
     "text": [
      "('g', 'o', 'a')\n"
     ]
    }
   ],
   "source": [
    "#using tuple function for tuple creation\n",
    "\n",
    "T6=tuple(\"goa\")\n",
    "print(T6)"
   ]
  },
  {
   "cell_type": "code",
   "execution_count": 16,
   "id": "20d0dc6e",
   "metadata": {},
   "outputs": [
    {
     "name": "stdout",
     "output_type": "stream",
     "text": [
      "(1, 2, 4, 5, 6)\n"
     ]
    }
   ],
   "source": [
    "T7=tuple([1,2,4,5,6])\n",
    "print(T7)"
   ]
  },
  {
   "cell_type": "markdown",
   "id": "659f3e34",
   "metadata": {},
   "source": [
    "#### Access"
   ]
  },
  {
   "cell_type": "code",
   "execution_count": 17,
   "id": "101ee6dd",
   "metadata": {},
   "outputs": [
    {
     "data": {
      "text/plain": [
       "1"
      ]
     },
     "execution_count": 17,
     "metadata": {},
     "output_type": "execute_result"
    }
   ],
   "source": [
    "T2[0]"
   ]
  },
  {
   "cell_type": "code",
   "execution_count": 18,
   "id": "2f870a51",
   "metadata": {},
   "outputs": [
    {
     "ename": "IndexError",
     "evalue": "tuple index out of range",
     "output_type": "error",
     "traceback": [
      "\u001b[1;31m---------------------------------------------------------------------------\u001b[0m",
      "\u001b[1;31mIndexError\u001b[0m                                Traceback (most recent call last)",
      "Cell \u001b[1;32mIn[18], line 1\u001b[0m\n\u001b[1;32m----> 1\u001b[0m \u001b[43mT3\u001b[49m\u001b[43m[\u001b[49m\u001b[38;5;241;43m4\u001b[39;49m\u001b[43m]\u001b[49m\n",
      "\u001b[1;31mIndexError\u001b[0m: tuple index out of range"
     ]
    }
   ],
   "source": [
    "T3[4]"
   ]
  },
  {
   "cell_type": "code",
   "execution_count": 20,
   "id": "a2966b50",
   "metadata": {},
   "outputs": [
    {
     "data": {
      "text/plain": [
       "4"
      ]
     },
     "execution_count": 20,
     "metadata": {},
     "output_type": "execute_result"
    }
   ],
   "source": [
    "T4[3][0]"
   ]
  },
  {
   "cell_type": "markdown",
   "id": "ee40f0a6",
   "metadata": {},
   "source": [
    "##### tuple doesn't support item editing- tuples just like string are immutable"
   ]
  },
  {
   "cell_type": "markdown",
   "id": "e05db7cd",
   "metadata": {},
   "source": [
    "##### this  is the primary difference between tuple and list"
   ]
  },
  {
   "cell_type": "markdown",
   "id": "49b68acb",
   "metadata": {},
   "source": [
    "##### we cannot append new item to the tuple"
   ]
  },
  {
   "cell_type": "code",
   "execution_count": 22,
   "id": "f0c0b059",
   "metadata": {},
   "outputs": [],
   "source": [
    "del T1"
   ]
  },
  {
   "cell_type": "code",
   "execution_count": 35,
   "id": "6329ddc1",
   "metadata": {},
   "outputs": [
    {
     "name": "stdout",
     "output_type": "stream",
     "text": [
      "(1, 2, 3, 4, 3, 4, 5, 6)\n",
      "MAx  4\n",
      "MIN  1\n",
      "sort  [4, 3, 2, 1]\n"
     ]
    }
   ],
   "source": [
    "T1=(1,2,3,4)\n",
    "T2=(3,4,5,6)\n",
    "\n",
    "#concatenation can be performed\n",
    "print(T1+T2)\n",
    "\n",
    "#arithematic operations cannot be performed on tuples\n",
    "\n",
    "print(\"MAx \",max(T1))\n",
    "print(\"MIN \",min(T1))\n",
    "print(\"sort \",sorted(T1,reverse=True))"
   ]
  },
  {
   "cell_type": "markdown",
   "id": "b0dc54be",
   "metadata": {},
   "source": [
    "#### conc- we can use del for deleting entire tuple"
   ]
  },
  {
   "cell_type": "markdown",
   "id": "becc1cbb",
   "metadata": {},
   "source": [
    "## SETS"
   ]
  },
  {
   "cell_type": "markdown",
   "id": "b891589c",
   "metadata": {},
   "source": [
    "**There are four rules of sets**\n",
    "- sets do not allow duplicates\n",
    "- sets do not allow indexing/sciling\n",
    "- sets do not allow mutable datatype\n",
    "- sets itself are mutable datatype"
   ]
  },
  {
   "cell_type": "markdown",
   "id": "c1d4c01d",
   "metadata": {},
   "source": [
    "### creating empty sets"
   ]
  },
  {
   "cell_type": "code",
   "execution_count": 36,
   "id": "5b4e96cf",
   "metadata": {},
   "outputs": [
    {
     "name": "stdout",
     "output_type": "stream",
     "text": [
      "{}\n",
      "<class 'dict'>\n"
     ]
    }
   ],
   "source": [
    "S1={}\n",
    "print(S1)\n",
    "print(type(S1))"
   ]
  },
  {
   "cell_type": "markdown",
   "id": "78bb425a",
   "metadata": {},
   "source": [
    "##### both dictionary and sets use curly braces, by default empty set is considered as dictionary"
   ]
  },
  {
   "cell_type": "code",
   "execution_count": 38,
   "id": "f3863481",
   "metadata": {},
   "outputs": [
    {
     "name": "stdout",
     "output_type": "stream",
     "text": [
      "<class 'set'>\n"
     ]
    }
   ],
   "source": [
    "#you can create empty set using set() function\n",
    "S1=set()\n",
    "print(type(S1))"
   ]
  },
  {
   "cell_type": "markdown",
   "id": "53d695dc",
   "metadata": {},
   "source": [
    "#### homogenous set"
   ]
  },
  {
   "cell_type": "code",
   "execution_count": 39,
   "id": "1ca8b0d1",
   "metadata": {},
   "outputs": [
    {
     "name": "stdout",
     "output_type": "stream",
     "text": [
      "{1, 2, 4, 5}\n"
     ]
    }
   ],
   "source": [
    "S2={1,2,4,5}\n",
    "print(S2)"
   ]
  },
  {
   "cell_type": "markdown",
   "id": "d065914b",
   "metadata": {},
   "source": [
    "#### heterogenous set"
   ]
  },
  {
   "cell_type": "code",
   "execution_count": 40,
   "id": "255edf5b",
   "metadata": {},
   "outputs": [
    {
     "name": "stdout",
     "output_type": "stream",
     "text": [
      "{'hello', 2, 3.5, 1}\n"
     ]
    }
   ],
   "source": [
    "S3={'hello',1,2,3.5}\n",
    "print(S3)"
   ]
  },
  {
   "cell_type": "markdown",
   "id": "5732669e",
   "metadata": {},
   "source": [
    "#### Rule-1 Sets don't allow duplicates"
   ]
  },
  {
   "cell_type": "code",
   "execution_count": 42,
   "id": "29128570",
   "metadata": {},
   "outputs": [
    {
     "name": "stdout",
     "output_type": "stream",
     "text": [
      "{1, 2, 3, 4, 5}\n"
     ]
    }
   ],
   "source": [
    "S1={1,1,2,2,3,4,4,5}\n",
    "print(S1)"
   ]
  },
  {
   "cell_type": "markdown",
   "id": "fa3a2e2b",
   "metadata": {},
   "source": [
    "#### Rule- Sets do not allow mutable data types"
   ]
  },
  {
   "cell_type": "code",
   "execution_count": 43,
   "id": "bd6d3054",
   "metadata": {},
   "outputs": [
    {
     "ename": "TypeError",
     "evalue": "unhashable type: 'list'",
     "output_type": "error",
     "traceback": [
      "\u001b[1;31m---------------------------------------------------------------------------\u001b[0m",
      "\u001b[1;31mTypeError\u001b[0m                                 Traceback (most recent call last)",
      "Cell \u001b[1;32mIn[43], line 1\u001b[0m\n\u001b[1;32m----> 1\u001b[0m S6\u001b[38;5;241m=\u001b[39m{\u001b[38;5;124m'\u001b[39m\u001b[38;5;124mhello\u001b[39m\u001b[38;5;124m'\u001b[39m,[\u001b[38;5;241m1\u001b[39m,\u001b[38;5;241m2\u001b[39m,\u001b[38;5;241m3\u001b[39m,\u001b[38;5;241m4\u001b[39m]}\n\u001b[0;32m      2\u001b[0m \u001b[38;5;28mprint\u001b[39m(s6)\n",
      "\u001b[1;31mTypeError\u001b[0m: unhashable type: 'list'"
     ]
    }
   ],
   "source": [
    "S6={'hello',[1,2,3,4]}\n",
    "print(s6)"
   ]
  },
  {
   "cell_type": "code",
   "execution_count": 47,
   "id": "3ec451ba",
   "metadata": {},
   "outputs": [
    {
     "name": "stdout",
     "output_type": "stream",
     "text": [
      "{'hello', (1, 2, 3)}\n"
     ]
    }
   ],
   "source": [
    "S7={(1,2,3),'hello'}\n",
    "print(S7)"
   ]
  },
  {
   "cell_type": "markdown",
   "id": "fb63e12b",
   "metadata": {},
   "source": [
    "##### conclusion- If you look at the order of data output, it has changed, as discussed it doesn't follow indexing, it follows hashing"
   ]
  },
  {
   "cell_type": "markdown",
   "id": "2576cc25",
   "metadata": {},
   "source": [
    "#### What is hashing?\n",
    "###### "
   ]
  },
  {
   "cell_type": "markdown",
   "id": "2527183b",
   "metadata": {},
   "source": [
    "#### Access itesm"
   ]
  },
  {
   "cell_type": "code",
   "execution_count": 49,
   "id": "292ac4c0",
   "metadata": {},
   "outputs": [
    {
     "ename": "TypeError",
     "evalue": "'set' object is not subscriptable",
     "output_type": "error",
     "traceback": [
      "\u001b[1;31m---------------------------------------------------------------------------\u001b[0m",
      "\u001b[1;31mTypeError\u001b[0m                                 Traceback (most recent call last)",
      "Cell \u001b[1;32mIn[49], line 1\u001b[0m\n\u001b[1;32m----> 1\u001b[0m \u001b[43mS1\u001b[49m\u001b[43m[\u001b[49m\u001b[38;5;241;43m0\u001b[39;49m\u001b[43m]\u001b[49m\n",
      "\u001b[1;31mTypeError\u001b[0m: 'set' object is not subscriptable"
     ]
    }
   ],
   "source": [
    "S1[0]"
   ]
  },
  {
   "cell_type": "code",
   "execution_count": 50,
   "id": "b3c18796",
   "metadata": {},
   "outputs": [
    {
     "ename": "TypeError",
     "evalue": "'set' object is not subscriptable",
     "output_type": "error",
     "traceback": [
      "\u001b[1;31m---------------------------------------------------------------------------\u001b[0m",
      "\u001b[1;31mTypeError\u001b[0m                                 Traceback (most recent call last)",
      "Cell \u001b[1;32mIn[50], line 1\u001b[0m\n\u001b[1;32m----> 1\u001b[0m \u001b[43mS1\u001b[49m\u001b[43m[\u001b[49m\u001b[38;5;241;43m0\u001b[39;49m\u001b[43m:\u001b[49m\u001b[38;5;241;43m3\u001b[39;49m\u001b[43m]\u001b[49m\n",
      "\u001b[1;31mTypeError\u001b[0m: 'set' object is not subscriptable"
     ]
    }
   ],
   "source": [
    "S1[0:3]"
   ]
  },
  {
   "cell_type": "markdown",
   "id": "0bfcb76b",
   "metadata": {},
   "source": [
    "##### you cannot access and edit items"
   ]
  },
  {
   "cell_type": "code",
   "execution_count": 51,
   "id": "8c16bd99",
   "metadata": {},
   "outputs": [
    {
     "name": "stdout",
     "output_type": "stream",
     "text": [
      "[1, 2, 3, 4, 5]\n"
     ]
    }
   ],
   "source": [
    "print(list(S1))"
   ]
  },
  {
   "cell_type": "markdown",
   "id": "09bc6d33",
   "metadata": {},
   "source": [
    "##### you can convert a set into list and then edit the list and finally convert the list back to set. but the memory address of new set is changed."
   ]
  },
  {
   "cell_type": "markdown",
   "id": "1a45cfae",
   "metadata": {},
   "source": [
    "#### you can add items to the set"
   ]
  },
  {
   "cell_type": "code",
   "execution_count": 52,
   "id": "5f855fa3",
   "metadata": {},
   "outputs": [],
   "source": [
    "S1.add(23)"
   ]
  },
  {
   "cell_type": "code",
   "execution_count": 53,
   "id": "39fca07a",
   "metadata": {},
   "outputs": [
    {
     "name": "stdout",
     "output_type": "stream",
     "text": [
      "{1, 2, 3, 4, 5, 23}\n"
     ]
    }
   ],
   "source": [
    "print(S1)"
   ]
  },
  {
   "cell_type": "markdown",
   "id": "bcf671fe",
   "metadata": {},
   "source": [
    "#### Delete\n",
    "- del\n",
    "- remove\n",
    "- pop"
   ]
  },
  {
   "cell_type": "code",
   "execution_count": 55,
   "id": "65cc81db",
   "metadata": {},
   "outputs": [],
   "source": [
    "del S2"
   ]
  },
  {
   "cell_type": "code",
   "execution_count": 56,
   "id": "1131fe6f",
   "metadata": {},
   "outputs": [
    {
     "ename": "NameError",
     "evalue": "name 'S2' is not defined",
     "output_type": "error",
     "traceback": [
      "\u001b[1;31m---------------------------------------------------------------------------\u001b[0m",
      "\u001b[1;31mNameError\u001b[0m                                 Traceback (most recent call last)",
      "Cell \u001b[1;32mIn[56], line 1\u001b[0m\n\u001b[1;32m----> 1\u001b[0m \u001b[38;5;28mprint\u001b[39m(\u001b[43mS2\u001b[49m)\n",
      "\u001b[1;31mNameError\u001b[0m: name 'S2' is not defined"
     ]
    }
   ],
   "source": [
    "print(S2)"
   ]
  },
  {
   "cell_type": "code",
   "execution_count": 57,
   "id": "2f550431",
   "metadata": {},
   "outputs": [
    {
     "ename": "TypeError",
     "evalue": "'set' object doesn't support item deletion",
     "output_type": "error",
     "traceback": [
      "\u001b[1;31m---------------------------------------------------------------------------\u001b[0m",
      "\u001b[1;31mTypeError\u001b[0m                                 Traceback (most recent call last)",
      "Cell \u001b[1;32mIn[57], line 1\u001b[0m\n\u001b[1;32m----> 1\u001b[0m \u001b[38;5;28;01mdel\u001b[39;00m S3[\u001b[38;5;241m0\u001b[39m]\n",
      "\u001b[1;31mTypeError\u001b[0m: 'set' object doesn't support item deletion"
     ]
    }
   ],
   "source": [
    "del S3[0]"
   ]
  },
  {
   "cell_type": "code",
   "execution_count": 58,
   "id": "7e174a36",
   "metadata": {},
   "outputs": [
    {
     "data": {
      "text/plain": [
       "{1, 2, 3.5, 'hello'}"
      ]
     },
     "execution_count": 58,
     "metadata": {},
     "output_type": "execute_result"
    }
   ],
   "source": [
    "S3"
   ]
  },
  {
   "cell_type": "code",
   "execution_count": 59,
   "id": "27aaadac",
   "metadata": {},
   "outputs": [],
   "source": [
    "S3.remove(3.5)"
   ]
  },
  {
   "cell_type": "code",
   "execution_count": 60,
   "id": "c13676f0",
   "metadata": {},
   "outputs": [
    {
     "data": {
      "text/plain": [
       "{1, 2, 'hello'}"
      ]
     },
     "execution_count": 60,
     "metadata": {},
     "output_type": "execute_result"
    }
   ],
   "source": [
    "S3"
   ]
  },
  {
   "cell_type": "code",
   "execution_count": 61,
   "id": "94ee9f97",
   "metadata": {},
   "outputs": [
    {
     "data": {
      "text/plain": [
       "'hello'"
      ]
     },
     "execution_count": 61,
     "metadata": {},
     "output_type": "execute_result"
    }
   ],
   "source": [
    "S3.pop()"
   ]
  },
  {
   "cell_type": "markdown",
   "id": "565c9bd2",
   "metadata": {},
   "source": [
    "#### set operations"
   ]
  },
  {
   "cell_type": "code",
   "execution_count": 62,
   "id": "0c7a97d9",
   "metadata": {},
   "outputs": [
    {
     "ename": "TypeError",
     "evalue": "unsupported operand type(s) for +: 'set' and 'set'",
     "output_type": "error",
     "traceback": [
      "\u001b[1;31m---------------------------------------------------------------------------\u001b[0m",
      "\u001b[1;31mTypeError\u001b[0m                                 Traceback (most recent call last)",
      "Cell \u001b[1;32mIn[62], line 3\u001b[0m\n\u001b[0;32m      1\u001b[0m s1\u001b[38;5;241m=\u001b[39m{\u001b[38;5;241m1\u001b[39m,\u001b[38;5;241m2\u001b[39m,\u001b[38;5;241m3\u001b[39m,\u001b[38;5;241m4\u001b[39m,\u001b[38;5;241m5\u001b[39m}\n\u001b[0;32m      2\u001b[0m s2\u001b[38;5;241m=\u001b[39m{\u001b[38;5;241m3\u001b[39m,\u001b[38;5;241m4\u001b[39m,\u001b[38;5;241m5\u001b[39m,\u001b[38;5;241m6\u001b[39m,\u001b[38;5;241m7\u001b[39m}\n\u001b[1;32m----> 3\u001b[0m \u001b[38;5;28mprint\u001b[39m(\u001b[43ms1\u001b[49m\u001b[38;5;241;43m+\u001b[39;49m\u001b[43ms2\u001b[49m)\n",
      "\u001b[1;31mTypeError\u001b[0m: unsupported operand type(s) for +: 'set' and 'set'"
     ]
    }
   ],
   "source": [
    "s1={1,2,3,4,5}\n",
    "s2={3,4,5,6,7}\n",
    "print(s1+s2)"
   ]
  },
  {
   "cell_type": "code",
   "execution_count": 63,
   "id": "a89742fb",
   "metadata": {},
   "outputs": [
    {
     "name": "stdout",
     "output_type": "stream",
     "text": [
      "1\n",
      "2\n",
      "3\n",
      "4\n",
      "5\n"
     ]
    }
   ],
   "source": [
    "for i in s1:\n",
    "    print(i)"
   ]
  },
  {
   "cell_type": "code",
   "execution_count": 64,
   "id": "00996049",
   "metadata": {},
   "outputs": [
    {
     "data": {
      "text/plain": [
       "True"
      ]
     },
     "execution_count": 64,
     "metadata": {},
     "output_type": "execute_result"
    }
   ],
   "source": [
    "1 in s1"
   ]
  },
  {
   "cell_type": "markdown",
   "id": "f00c097e",
   "metadata": {},
   "source": [
    "#### Function"
   ]
  },
  {
   "cell_type": "code",
   "execution_count": 65,
   "id": "71fb3ae1",
   "metadata": {},
   "outputs": [
    {
     "data": {
      "text/plain": [
       "5"
      ]
     },
     "execution_count": 65,
     "metadata": {},
     "output_type": "execute_result"
    }
   ],
   "source": [
    "len(s1)"
   ]
  },
  {
   "cell_type": "code",
   "execution_count": 66,
   "id": "ae47e1b3",
   "metadata": {},
   "outputs": [
    {
     "data": {
      "text/plain": [
       "1"
      ]
     },
     "execution_count": 66,
     "metadata": {},
     "output_type": "execute_result"
    }
   ],
   "source": [
    "min(s1)"
   ]
  },
  {
   "cell_type": "code",
   "execution_count": 67,
   "id": "40e27fcd",
   "metadata": {},
   "outputs": [
    {
     "data": {
      "text/plain": [
       "5"
      ]
     },
     "execution_count": 67,
     "metadata": {},
     "output_type": "execute_result"
    }
   ],
   "source": [
    "max(s1)"
   ]
  },
  {
   "cell_type": "code",
   "execution_count": 68,
   "id": "b870f1a0",
   "metadata": {},
   "outputs": [
    {
     "data": {
      "text/plain": [
       "15"
      ]
     },
     "execution_count": 68,
     "metadata": {},
     "output_type": "execute_result"
    }
   ],
   "source": [
    "sum(s1)"
   ]
  },
  {
   "cell_type": "code",
   "execution_count": 69,
   "id": "79d9e151",
   "metadata": {},
   "outputs": [
    {
     "data": {
      "text/plain": [
       "[1, 2, 3, 4, 5]"
      ]
     },
     "execution_count": 69,
     "metadata": {},
     "output_type": "execute_result"
    }
   ],
   "source": [
    "sorted(s1)"
   ]
  },
  {
   "cell_type": "code",
   "execution_count": 70,
   "id": "c2b8f134",
   "metadata": {},
   "outputs": [
    {
     "data": {
      "text/plain": [
       "[5, 4, 3, 2, 1]"
      ]
     },
     "execution_count": 70,
     "metadata": {},
     "output_type": "execute_result"
    }
   ],
   "source": [
    "sorted(s1,reverse=True)"
   ]
  },
  {
   "cell_type": "code",
   "execution_count": 71,
   "id": "012c9e3d",
   "metadata": {},
   "outputs": [
    {
     "data": {
      "text/plain": [
       "{1, 2, 3, 4, 5, 6, 7}"
      ]
     },
     "execution_count": 71,
     "metadata": {},
     "output_type": "execute_result"
    }
   ],
   "source": [
    "s1.union(s2)"
   ]
  },
  {
   "cell_type": "code",
   "execution_count": 72,
   "id": "0451b206",
   "metadata": {},
   "outputs": [
    {
     "data": {
      "text/plain": [
       "{3, 4, 5}"
      ]
     },
     "execution_count": 72,
     "metadata": {},
     "output_type": "execute_result"
    }
   ],
   "source": [
    "s1.intersection(s2)"
   ]
  },
  {
   "cell_type": "code",
   "execution_count": 73,
   "id": "316821f5",
   "metadata": {},
   "outputs": [
    {
     "data": {
      "text/plain": [
       "{1, 2}"
      ]
     },
     "execution_count": 73,
     "metadata": {},
     "output_type": "execute_result"
    }
   ],
   "source": [
    "s1.difference(s2)"
   ]
  },
  {
   "cell_type": "code",
   "execution_count": 74,
   "id": "5028e207",
   "metadata": {},
   "outputs": [
    {
     "data": {
      "text/plain": [
       "{6, 7}"
      ]
     },
     "execution_count": 74,
     "metadata": {},
     "output_type": "execute_result"
    }
   ],
   "source": [
    "s2.difference(s1)"
   ]
  },
  {
   "cell_type": "code",
   "execution_count": 75,
   "id": "8bf6667a",
   "metadata": {},
   "outputs": [
    {
     "data": {
      "text/plain": [
       "{1, 2, 6, 7}"
      ]
     },
     "execution_count": 75,
     "metadata": {},
     "output_type": "execute_result"
    }
   ],
   "source": [
    "s1.symmetric_difference(s2)"
   ]
  },
  {
   "cell_type": "code",
   "execution_count": 76,
   "id": "ad597872",
   "metadata": {},
   "outputs": [
    {
     "data": {
      "text/plain": [
       "False"
      ]
     },
     "execution_count": 76,
     "metadata": {},
     "output_type": "execute_result"
    }
   ],
   "source": [
    "s1.isdisjoint(s2)"
   ]
  },
  {
   "cell_type": "code",
   "execution_count": 81,
   "id": "908b29ac",
   "metadata": {},
   "outputs": [
    {
     "name": "stdout",
     "output_type": "stream",
     "text": [
      "{1, 2, 3, 4, 5, '2'}\n"
     ]
    }
   ],
   "source": [
    "s1.update({2})\n",
    "print(s1)"
   ]
  },
  {
   "cell_type": "code",
   "execution_count": 83,
   "id": "36508da0",
   "metadata": {},
   "outputs": [
    {
     "data": {
      "text/plain": [
       "int"
      ]
     },
     "execution_count": 83,
     "metadata": {},
     "output_type": "execute_result"
    }
   ],
   "source": [
    "type(s1.pop())"
   ]
  },
  {
   "cell_type": "code",
   "execution_count": 84,
   "id": "5ef9bfb9",
   "metadata": {},
   "outputs": [
    {
     "data": {
      "text/plain": [
       "{2, '2', 3, 4, 5}"
      ]
     },
     "execution_count": 84,
     "metadata": {},
     "output_type": "execute_result"
    }
   ],
   "source": [
    "s1"
   ]
  },
  {
   "cell_type": "code",
   "execution_count": null,
   "id": "5e9ce2e1",
   "metadata": {},
   "outputs": [],
   "source": []
  }
 ],
 "metadata": {
  "kernelspec": {
   "display_name": "Python 3 (ipykernel)",
   "language": "python",
   "name": "python3"
  },
  "language_info": {
   "codemirror_mode": {
    "name": "ipython",
    "version": 3
   },
   "file_extension": ".py",
   "mimetype": "text/x-python",
   "name": "python",
   "nbconvert_exporter": "python",
   "pygments_lexer": "ipython3",
   "version": "3.10.9"
  }
 },
 "nbformat": 4,
 "nbformat_minor": 5
}
