{
  "nbformat": 4,
  "nbformat_minor": 0,
  "metadata": {
    "colab": {
      "provenance": [],
      "authorship_tag": "ABX9TyMwZGevtpyK/HwVmKjSNI/J",
      "include_colab_link": true
    },
    "kernelspec": {
      "name": "python3",
      "display_name": "Python 3"
    },
    "language_info": {
      "name": "python"
    }
  },
  "cells": [
    {
      "cell_type": "markdown",
      "metadata": {
        "id": "view-in-github",
        "colab_type": "text"
      },
      "source": [
        "<a href=\"https://colab.research.google.com/github/DSShail/Basic-Python/blob/main/Abstraction.ipynb\" target=\"_parent\"><img src=\"https://colab.research.google.com/assets/colab-badge.svg\" alt=\"Open In Colab\"/></a>"
      ]
    },
    {
      "cell_type": "markdown",
      "source": [
        "*Prerequisites for Abstract class*\n",
        "1.   Inherit from ABC class\n",
        "2.   The class must have at least one abstract method\n",
        "3.   The abstract method should have @abstractmethod decorator\n",
        "4.   The class which is inheriting from abstrct class must implement the abstract method\n",
        "\n"
      ],
      "metadata": {
        "id": "hytmG73-bIgz"
      }
    },
    {
      "cell_type": "code",
      "execution_count": 2,
      "metadata": {
        "id": "8iXMkkLGY4cA"
      },
      "outputs": [],
      "source": [
        "from abc import abstractmethod,ABC\n",
        "\n",
        "#Abstract class- a class having at least one abstract method(There is no code in the abstract method)\n",
        "\n",
        "#there are two types of method- abstract method and concrete  method\n",
        "class BankApp(ABC):\n",
        "\n",
        "  def database(self):\n",
        "    print('database connected')\n",
        "\n",
        "  @abstractmethod\n",
        "  def security(self):\n",
        "    pass\n"
      ]
    },
    {
      "cell_type": "code",
      "source": [
        "class MobileApp(BankApp):\n",
        "  def mobile_login(self):\n",
        "    print('login into mobile')"
      ],
      "metadata": {
        "id": "4EZp1QNga8q9"
      },
      "execution_count": 4,
      "outputs": []
    },
    {
      "cell_type": "code",
      "source": [
        "\n",
        "mob=MobileApp()"
      ],
      "metadata": {
        "colab": {
          "base_uri": "https://localhost:8080/",
          "height": 141
        },
        "id": "gegGEGpcb_nk",
        "outputId": "211e0077-885f-4f6e-dfaf-b3468953b428"
      },
      "execution_count": 5,
      "outputs": [
        {
          "output_type": "error",
          "ename": "TypeError",
          "evalue": "Can't instantiate abstract class MobileApp with abstract method security",
          "traceback": [
            "\u001b[0;31m---------------------------------------------------------------------------\u001b[0m",
            "\u001b[0;31mTypeError\u001b[0m                                 Traceback (most recent call last)",
            "\u001b[0;32m<ipython-input-5-5c84f19be585>\u001b[0m in \u001b[0;36m<cell line: 1>\u001b[0;34m()\u001b[0m\n\u001b[0;32m----> 1\u001b[0;31m \u001b[0mmob\u001b[0m\u001b[0;34m=\u001b[0m\u001b[0mMobileApp\u001b[0m\u001b[0;34m(\u001b[0m\u001b[0;34m)\u001b[0m\u001b[0;34m\u001b[0m\u001b[0;34m\u001b[0m\u001b[0m\n\u001b[0m",
            "\u001b[0;31mTypeError\u001b[0m: Can't instantiate abstract class MobileApp with abstract method security"
          ]
        }
      ]
    },
    {
      "cell_type": "markdown",
      "source": [
        "*we are getting this error because we haven't implemented the security method(Abstract method) of BankApp in the MobileApp*\n",
        "\n",
        "*The child class must implement the abstract method of Abstract class*"
      ],
      "metadata": {
        "id": "B7cOrGphcTrA"
      }
    },
    {
      "cell_type": "markdown",
      "source": [
        "**Let's implement the abstrct method in the MobileApp class**"
      ],
      "metadata": {
        "id": "fpbknGSicvEH"
      }
    },
    {
      "cell_type": "code",
      "source": [
        "class MobileApp(BankApp):\n",
        "  def mobile_login(self):\n",
        "    print('login into mobile')\n",
        "\n",
        "  def security(self):\n",
        "    print('Mobile Security Enabled')"
      ],
      "metadata": {
        "id": "8aaZJPDncSOG"
      },
      "execution_count": 8,
      "outputs": []
    },
    {
      "cell_type": "code",
      "source": [
        "mob=MobileApp()"
      ],
      "metadata": {
        "id": "asUZsYEZc9Yl"
      },
      "execution_count": 9,
      "outputs": []
    },
    {
      "cell_type": "code",
      "source": [
        "mob.database()"
      ],
      "metadata": {
        "colab": {
          "base_uri": "https://localhost:8080/"
        },
        "id": "KEXE1Si1dATb",
        "outputId": "8286cb3c-ee5c-4aab-cb8d-276287166c34"
      },
      "execution_count": 11,
      "outputs": [
        {
          "output_type": "stream",
          "name": "stdout",
          "text": [
            "database connected\n"
          ]
        }
      ]
    },
    {
      "cell_type": "markdown",
      "source": [
        "**WE are forcing the child class to implement certain methods which is the necessity of the requirement**\n",
        "\n",
        "WE are asking MobileApp to implement the security before procedding\n",
        "\n",
        "Every app using BankApp must implement security(Abstract method)"
      ],
      "metadata": {
        "id": "4ecyqVKBdSHJ"
      }
    },
    {
      "cell_type": "markdown",
      "source": [
        "**Object of an abstract class cannot be created**"
      ],
      "metadata": {
        "id": "yfU85RQcd8nd"
      }
    },
    {
      "cell_type": "code",
      "source": [],
      "metadata": {
        "id": "7dZpp04mdPLq"
      },
      "execution_count": null,
      "outputs": []
    }
  ]
}