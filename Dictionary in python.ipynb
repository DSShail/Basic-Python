{
 "cells": [
  {
   "cell_type": "markdown",
   "id": "fa2dedd0",
   "metadata": {},
   "source": [
    "### Dictonary"
   ]
  },
  {
   "cell_type": "markdown",
   "id": "ee397c46",
   "metadata": {},
   "source": [
    "- R1: Dictionary has no indexing\n",
    "- R2: Dictionary is a mutable data types\n",
    "- R3: keys- immutable, values->they can be mutable\n",
    "- R4: keys should be unique    "
   ]
  },
  {
   "cell_type": "markdown",
   "id": "7653f0a8",
   "metadata": {},
   "source": [
    "- Mutable data types: LIST,SET, DICTIONARY\n",
    "- Immutable data types: STRING. TUPLES, INT, FLOAT, BOOLEAN, COMPLEX"
   ]
  },
  {
   "cell_type": "markdown",
   "id": "f9117dec",
   "metadata": {},
   "source": [
    "##### how to create a dictionary"
   ]
  },
  {
   "cell_type": "code",
   "execution_count": 2,
   "id": "3c2c8042",
   "metadata": {},
   "outputs": [],
   "source": [
    "D={}"
   ]
  },
  {
   "cell_type": "code",
   "execution_count": 3,
   "id": "74a6a364",
   "metadata": {},
   "outputs": [
    {
     "data": {
      "text/plain": [
       "{}"
      ]
     },
     "execution_count": 3,
     "metadata": {},
     "output_type": "execute_result"
    }
   ],
   "source": [
    "D"
   ]
  },
  {
   "cell_type": "code",
   "execution_count": 4,
   "id": "1b399f11",
   "metadata": {},
   "outputs": [],
   "source": [
    "D={'name':'shailesh','id':1740331}"
   ]
  },
  {
   "cell_type": "code",
   "execution_count": 5,
   "id": "3501f7b4",
   "metadata": {},
   "outputs": [
    {
     "data": {
      "text/plain": [
       "{'name': 'shailesh', 'id': 1740331}"
      ]
     },
     "execution_count": 5,
     "metadata": {},
     "output_type": "execute_result"
    }
   ],
   "source": [
    "D"
   ]
  },
  {
   "cell_type": "markdown",
   "id": "f6985a52",
   "metadata": {},
   "source": [
    "#### in the below shell key is a list which is mutable- it is against the rules of dictionary"
   ]
  },
  {
   "cell_type": "code",
   "execution_count": 6,
   "id": "d347a8a2",
   "metadata": {},
   "outputs": [
    {
     "ename": "TypeError",
     "evalue": "unhashable type: 'list'",
     "output_type": "error",
     "traceback": [
      "\u001b[1;31m---------------------------------------------------------------------------\u001b[0m",
      "\u001b[1;31mTypeError\u001b[0m                                 Traceback (most recent call last)",
      "Cell \u001b[1;32mIn[6], line 1\u001b[0m\n\u001b[1;32m----> 1\u001b[0m D1\u001b[38;5;241m=\u001b[39m{[\u001b[38;5;241m1\u001b[39m,\u001b[38;5;241m2\u001b[39m,\u001b[38;5;241m3\u001b[39m]:\u001b[38;5;124m'\u001b[39m\u001b[38;5;124mshail\u001b[39m\u001b[38;5;124m'\u001b[39m}\n",
      "\u001b[1;31mTypeError\u001b[0m: unhashable type: 'list'"
     ]
    }
   ],
   "source": [
    "D1={[1,2,3]:'shail'}"
   ]
  },
  {
   "cell_type": "markdown",
   "id": "edeba40d",
   "metadata": {},
   "source": [
    "#### keys should be immutable"
   ]
  },
  {
   "cell_type": "code",
   "execution_count": 7,
   "id": "f6fd7b50",
   "metadata": {},
   "outputs": [],
   "source": [
    "D1={(1,2,3):'shail'}"
   ]
  },
  {
   "cell_type": "code",
   "execution_count": 8,
   "id": "67b05979",
   "metadata": {},
   "outputs": [
    {
     "data": {
      "text/plain": [
       "{(1, 2, 3): 'shail'}"
      ]
     },
     "execution_count": 8,
     "metadata": {},
     "output_type": "execute_result"
    }
   ],
   "source": [
    "D1"
   ]
  },
  {
   "cell_type": "markdown",
   "id": "6d70574a",
   "metadata": {},
   "source": [
    "#### keys should be unique"
   ]
  },
  {
   "cell_type": "code",
   "execution_count": 9,
   "id": "24cb81a0",
   "metadata": {},
   "outputs": [
    {
     "data": {
      "text/plain": [
       "{'name': 'kittu'}"
      ]
     },
     "execution_count": 9,
     "metadata": {},
     "output_type": "execute_result"
    }
   ],
   "source": [
    "D3={'name':'shailesh','name':'kittu'}\n",
    "D3"
   ]
  },
  {
   "cell_type": "markdown",
   "id": "b1639516",
   "metadata": {},
   "source": [
    "#### creating 2d dictionary"
   ]
  },
  {
   "cell_type": "code",
   "execution_count": 10,
   "id": "531df13a",
   "metadata": {},
   "outputs": [],
   "source": [
    "D_marks={'name':'shailesh','roll':1740331,'marks':{\n",
    "    'hindi':95,'maths':96,'english':75\n",
    "}}"
   ]
  },
  {
   "cell_type": "code",
   "execution_count": 11,
   "id": "e74796ff",
   "metadata": {},
   "outputs": [
    {
     "data": {
      "text/plain": [
       "{'name': 'shailesh',\n",
       " 'roll': 1740331,\n",
       " 'marks': {'hindi': 95, 'maths': 96, 'english': 75}}"
      ]
     },
     "execution_count": 11,
     "metadata": {},
     "output_type": "execute_result"
    }
   ],
   "source": [
    "D_marks"
   ]
  },
  {
   "cell_type": "markdown",
   "id": "cebcb27c",
   "metadata": {},
   "source": [
    "#### Accessing items from a dictionary"
   ]
  },
  {
   "cell_type": "code",
   "execution_count": 12,
   "id": "58c09f77",
   "metadata": {},
   "outputs": [
    {
     "ename": "NameError",
     "evalue": "name 'd' is not defined",
     "output_type": "error",
     "traceback": [
      "\u001b[1;31m---------------------------------------------------------------------------\u001b[0m",
      "\u001b[1;31mNameError\u001b[0m                                 Traceback (most recent call last)",
      "Cell \u001b[1;32mIn[12], line 1\u001b[0m\n\u001b[1;32m----> 1\u001b[0m \u001b[43md\u001b[49m[\u001b[38;5;241m0\u001b[39m]\n",
      "\u001b[1;31mNameError\u001b[0m: name 'd' is not defined"
     ]
    }
   ],
   "source": [
    "d[0]"
   ]
  },
  {
   "cell_type": "code",
   "execution_count": 13,
   "id": "fb8db0cc",
   "metadata": {},
   "outputs": [
    {
     "ename": "KeyError",
     "evalue": "0",
     "output_type": "error",
     "traceback": [
      "\u001b[1;31m---------------------------------------------------------------------------\u001b[0m",
      "\u001b[1;31mKeyError\u001b[0m                                  Traceback (most recent call last)",
      "Cell \u001b[1;32mIn[13], line 1\u001b[0m\n\u001b[1;32m----> 1\u001b[0m \u001b[43mD\u001b[49m\u001b[43m[\u001b[49m\u001b[38;5;241;43m0\u001b[39;49m\u001b[43m]\u001b[49m\n",
      "\u001b[1;31mKeyError\u001b[0m: 0"
     ]
    }
   ],
   "source": [
    "D[0]"
   ]
  },
  {
   "cell_type": "code",
   "execution_count": 14,
   "id": "022106fc",
   "metadata": {},
   "outputs": [
    {
     "data": {
      "text/plain": [
       "'shailesh'"
      ]
     },
     "execution_count": 14,
     "metadata": {},
     "output_type": "execute_result"
    }
   ],
   "source": [
    "D_marks['name']"
   ]
  },
  {
   "cell_type": "markdown",
   "id": "c847ebc6",
   "metadata": {},
   "source": [
    "##### we need to provide the key to fetch the data- there is no indexing and slicing in dictionary"
   ]
  },
  {
   "cell_type": "code",
   "execution_count": 16,
   "id": "a6ac76a4",
   "metadata": {},
   "outputs": [
    {
     "data": {
      "text/plain": [
       "95"
      ]
     },
     "execution_count": 16,
     "metadata": {},
     "output_type": "execute_result"
    }
   ],
   "source": [
    "#fetching hindi marks from D_marks dictionary\n",
    "D_marks['marks']['hindi']"
   ]
  },
  {
   "cell_type": "markdown",
   "id": "3265ee79",
   "metadata": {},
   "source": [
    "#### Edit  dictionary"
   ]
  },
  {
   "cell_type": "code",
   "execution_count": 17,
   "id": "251aad33",
   "metadata": {},
   "outputs": [],
   "source": [
    "D_marks['name']='abhinav'"
   ]
  },
  {
   "cell_type": "code",
   "execution_count": 18,
   "id": "51b352cd",
   "metadata": {},
   "outputs": [
    {
     "data": {
      "text/plain": [
       "{'name': 'abhinav',\n",
       " 'roll': 1740331,\n",
       " 'marks': {'hindi': 95, 'maths': 96, 'english': 75}}"
      ]
     },
     "execution_count": 18,
     "metadata": {},
     "output_type": "execute_result"
    }
   ],
   "source": [
    "D_marks"
   ]
  },
  {
   "cell_type": "code",
   "execution_count": 19,
   "id": "dab0c74d",
   "metadata": {},
   "outputs": [],
   "source": [
    "D_marks['marks']['maths']=99"
   ]
  },
  {
   "cell_type": "code",
   "execution_count": 20,
   "id": "793af066",
   "metadata": {},
   "outputs": [
    {
     "data": {
      "text/plain": [
       "{'name': 'abhinav',\n",
       " 'roll': 1740331,\n",
       " 'marks': {'hindi': 95, 'maths': 99, 'english': 75}}"
      ]
     },
     "execution_count": 20,
     "metadata": {},
     "output_type": "execute_result"
    }
   ],
   "source": [
    "D_marks"
   ]
  },
  {
   "cell_type": "markdown",
   "id": "64e732da",
   "metadata": {},
   "source": [
    "##### we are using get() function to fetch the data from a dictionary instead of [] braces"
   ]
  },
  {
   "cell_type": "code",
   "execution_count": 21,
   "id": "0b7f183c",
   "metadata": {},
   "outputs": [
    {
     "data": {
      "text/plain": [
       "'abhinav'"
      ]
     },
     "execution_count": 21,
     "metadata": {},
     "output_type": "execute_result"
    }
   ],
   "source": [
    "D_marks.get('name')"
   ]
  },
  {
   "cell_type": "markdown",
   "id": "3d46caab",
   "metadata": {},
   "source": [
    "#### adding new key value pair "
   ]
  },
  {
   "cell_type": "code",
   "execution_count": 22,
   "id": "1e97fc8e",
   "metadata": {},
   "outputs": [],
   "source": [
    "D_marks['class_teacher']='pranati behra'"
   ]
  },
  {
   "cell_type": "code",
   "execution_count": 23,
   "id": "0f288acb",
   "metadata": {},
   "outputs": [
    {
     "data": {
      "text/plain": [
       "{'name': 'abhinav',\n",
       " 'roll': 1740331,\n",
       " 'marks': {'hindi': 95, 'maths': 99, 'english': 75},\n",
       " 'class_teacher': 'pranati behra'}"
      ]
     },
     "execution_count": 23,
     "metadata": {},
     "output_type": "execute_result"
    }
   ],
   "source": [
    "D_marks"
   ]
  },
  {
   "cell_type": "code",
   "execution_count": 24,
   "id": "531563a7",
   "metadata": {},
   "outputs": [],
   "source": [
    "D_marks['marks']['science']=90"
   ]
  },
  {
   "cell_type": "code",
   "execution_count": 25,
   "id": "0b370537",
   "metadata": {},
   "outputs": [
    {
     "data": {
      "text/plain": [
       "{'name': 'abhinav',\n",
       " 'roll': 1740331,\n",
       " 'marks': {'hindi': 95, 'maths': 99, 'english': 75, 'science': 90},\n",
       " 'class_teacher': 'pranati behra'}"
      ]
     },
     "execution_count": 25,
     "metadata": {},
     "output_type": "execute_result"
    }
   ],
   "source": [
    "D_marks"
   ]
  },
  {
   "cell_type": "markdown",
   "id": "c710317f",
   "metadata": {},
   "source": [
    "#### deleting a dictionary"
   ]
  },
  {
   "cell_type": "markdown",
   "id": "29570039",
   "metadata": {},
   "source": [
    "##### using del() fuction"
   ]
  },
  {
   "cell_type": "code",
   "execution_count": 26,
   "id": "fd8657f9",
   "metadata": {},
   "outputs": [],
   "source": [
    "del D1"
   ]
  },
  {
   "cell_type": "code",
   "execution_count": 27,
   "id": "b5400654",
   "metadata": {},
   "outputs": [
    {
     "ename": "NameError",
     "evalue": "name 'D1' is not defined",
     "output_type": "error",
     "traceback": [
      "\u001b[1;31m---------------------------------------------------------------------------\u001b[0m",
      "\u001b[1;31mNameError\u001b[0m                                 Traceback (most recent call last)",
      "Cell \u001b[1;32mIn[27], line 1\u001b[0m\n\u001b[1;32m----> 1\u001b[0m \u001b[43mD1\u001b[49m\n",
      "\u001b[1;31mNameError\u001b[0m: name 'D1' is not defined"
     ]
    }
   ],
   "source": [
    "D1"
   ]
  },
  {
   "cell_type": "code",
   "execution_count": 28,
   "id": "c4ba08d5",
   "metadata": {},
   "outputs": [
    {
     "ename": "NameError",
     "evalue": "name 'D2' is not defined",
     "output_type": "error",
     "traceback": [
      "\u001b[1;31m---------------------------------------------------------------------------\u001b[0m",
      "\u001b[1;31mNameError\u001b[0m                                 Traceback (most recent call last)",
      "Cell \u001b[1;32mIn[28], line 1\u001b[0m\n\u001b[1;32m----> 1\u001b[0m \u001b[43mD2\u001b[49m\n",
      "\u001b[1;31mNameError\u001b[0m: name 'D2' is not defined"
     ]
    }
   ],
   "source": [
    "D2"
   ]
  },
  {
   "cell_type": "code",
   "execution_count": 29,
   "id": "898631f2",
   "metadata": {},
   "outputs": [
    {
     "data": {
      "text/plain": [
       "{'name': 'kittu'}"
      ]
     },
     "execution_count": 29,
     "metadata": {},
     "output_type": "execute_result"
    }
   ],
   "source": [
    "D3"
   ]
  },
  {
   "cell_type": "code",
   "execution_count": 30,
   "id": "703b6324",
   "metadata": {},
   "outputs": [],
   "source": [
    "del D3['name']"
   ]
  },
  {
   "cell_type": "code",
   "execution_count": 31,
   "id": "98753884",
   "metadata": {},
   "outputs": [
    {
     "data": {
      "text/plain": [
       "{}"
      ]
     },
     "execution_count": 31,
     "metadata": {},
     "output_type": "execute_result"
    }
   ],
   "source": [
    "D3"
   ]
  },
  {
   "cell_type": "code",
   "execution_count": 32,
   "id": "7b8a1797",
   "metadata": {},
   "outputs": [
    {
     "ename": "NameError",
     "evalue": "name 'D4' is not defined",
     "output_type": "error",
     "traceback": [
      "\u001b[1;31m---------------------------------------------------------------------------\u001b[0m",
      "\u001b[1;31mNameError\u001b[0m                                 Traceback (most recent call last)",
      "Cell \u001b[1;32mIn[32], line 1\u001b[0m\n\u001b[1;32m----> 1\u001b[0m \u001b[43mD4\u001b[49m\n",
      "\u001b[1;31mNameError\u001b[0m: name 'D4' is not defined"
     ]
    }
   ],
   "source": [
    "D4"
   ]
  },
  {
   "cell_type": "code",
   "execution_count": 33,
   "id": "8fe5a7c4",
   "metadata": {},
   "outputs": [
    {
     "ename": "NameError",
     "evalue": "name 'D5' is not defined",
     "output_type": "error",
     "traceback": [
      "\u001b[1;31m---------------------------------------------------------------------------\u001b[0m",
      "\u001b[1;31mNameError\u001b[0m                                 Traceback (most recent call last)",
      "Cell \u001b[1;32mIn[33], line 1\u001b[0m\n\u001b[1;32m----> 1\u001b[0m \u001b[43mD5\u001b[49m\n",
      "\u001b[1;31mNameError\u001b[0m: name 'D5' is not defined"
     ]
    }
   ],
   "source": [
    "D5"
   ]
  },
  {
   "cell_type": "code",
   "execution_count": 34,
   "id": "e644e1f1",
   "metadata": {},
   "outputs": [
    {
     "ename": "NameError",
     "evalue": "name 'D1' is not defined",
     "output_type": "error",
     "traceback": [
      "\u001b[1;31m---------------------------------------------------------------------------\u001b[0m",
      "\u001b[1;31mNameError\u001b[0m                                 Traceback (most recent call last)",
      "Cell \u001b[1;32mIn[34], line 1\u001b[0m\n\u001b[1;32m----> 1\u001b[0m \u001b[43mD1\u001b[49m\n",
      "\u001b[1;31mNameError\u001b[0m: name 'D1' is not defined"
     ]
    }
   ],
   "source": [
    "D1"
   ]
  },
  {
   "cell_type": "code",
   "execution_count": 35,
   "id": "d2175983",
   "metadata": {},
   "outputs": [
    {
     "data": {
      "text/plain": [
       "{'name': 'shailesh', 'company': 'TCS', 'empId': '1740331'}"
      ]
     },
     "execution_count": 35,
     "metadata": {},
     "output_type": "execute_result"
    }
   ],
   "source": [
    "D1={'name':'shailesh','company':'TCS','empId':'1740331'}\n",
    "D1"
   ]
  },
  {
   "cell_type": "code",
   "execution_count": 38,
   "id": "2d2b4921",
   "metadata": {},
   "outputs": [],
   "source": [
    "D1.clear()"
   ]
  },
  {
   "cell_type": "code",
   "execution_count": 39,
   "id": "2bfa9383",
   "metadata": {},
   "outputs": [
    {
     "data": {
      "text/plain": [
       "{}"
      ]
     },
     "execution_count": 39,
     "metadata": {},
     "output_type": "execute_result"
    }
   ],
   "source": [
    "D1"
   ]
  },
  {
   "cell_type": "code",
   "execution_count": 42,
   "id": "86166666",
   "metadata": {},
   "outputs": [
    {
     "name": "stdout",
     "output_type": "stream",
     "text": [
      "name abhinav\n",
      "roll 1740331\n",
      "marks {'hindi': 95, 'maths': 99, 'english': 75, 'science': 90}\n",
      "class_teacher pranati behra\n"
     ]
    }
   ],
   "source": [
    "#when using loop on a dictionary- we get keys\n",
    "for i in D_marks:\n",
    "    print(i,D_marks[i])"
   ]
  },
  {
   "cell_type": "code",
   "execution_count": 43,
   "id": "462aad39",
   "metadata": {},
   "outputs": [
    {
     "data": {
      "text/plain": [
       "True"
      ]
     },
     "execution_count": 43,
     "metadata": {},
     "output_type": "execute_result"
    }
   ],
   "source": [
    "'name' in D_marks"
   ]
  },
  {
   "cell_type": "code",
   "execution_count": 44,
   "id": "1f50e8b1",
   "metadata": {},
   "outputs": [
    {
     "data": {
      "text/plain": [
       "False"
      ]
     },
     "execution_count": 44,
     "metadata": {},
     "output_type": "execute_result"
    }
   ],
   "source": [
    "'shailesh' in D_marks"
   ]
  },
  {
   "cell_type": "code",
   "execution_count": 45,
   "id": "edb9e97b",
   "metadata": {},
   "outputs": [],
   "source": [
    "# while using \"in\" it checks for the keys not values "
   ]
  },
  {
   "cell_type": "code",
   "execution_count": 46,
   "id": "39eccffe",
   "metadata": {},
   "outputs": [
    {
     "data": {
      "text/plain": [
       "4"
      ]
     },
     "execution_count": 46,
     "metadata": {},
     "output_type": "execute_result"
    }
   ],
   "source": [
    "len(D_marks)"
   ]
  },
  {
   "cell_type": "code",
   "execution_count": 47,
   "id": "23a434d1",
   "metadata": {},
   "outputs": [
    {
     "data": {
      "text/plain": [
       "'class_teacher'"
      ]
     },
     "execution_count": 47,
     "metadata": {},
     "output_type": "execute_result"
    }
   ],
   "source": [
    "min(D_marks)"
   ]
  },
  {
   "cell_type": "code",
   "execution_count": 48,
   "id": "9b8e3ca0",
   "metadata": {},
   "outputs": [
    {
     "data": {
      "text/plain": [
       "'roll'"
      ]
     },
     "execution_count": 48,
     "metadata": {},
     "output_type": "execute_result"
    }
   ],
   "source": [
    "max(D_marks)"
   ]
  },
  {
   "cell_type": "code",
   "execution_count": 49,
   "id": "301f18c0",
   "metadata": {},
   "outputs": [
    {
     "data": {
      "text/plain": [
       "dict_keys(['name', 'roll', 'marks', 'class_teacher'])"
      ]
     },
     "execution_count": 49,
     "metadata": {},
     "output_type": "execute_result"
    }
   ],
   "source": [
    "D_marks.keys()"
   ]
  },
  {
   "cell_type": "code",
   "execution_count": 50,
   "id": "6ded355c",
   "metadata": {},
   "outputs": [
    {
     "data": {
      "text/plain": [
       "dict_values(['abhinav', 1740331, {'hindi': 95, 'maths': 99, 'english': 75, 'science': 90}, 'pranati behra'])"
      ]
     },
     "execution_count": 50,
     "metadata": {},
     "output_type": "execute_result"
    }
   ],
   "source": [
    "D_marks.values()"
   ]
  },
  {
   "cell_type": "code",
   "execution_count": null,
   "id": "ba714d80",
   "metadata": {},
   "outputs": [],
   "source": []
  }
 ],
 "metadata": {
  "kernelspec": {
   "display_name": "Python 3 (ipykernel)",
   "language": "python",
   "name": "python3"
  },
  "language_info": {
   "codemirror_mode": {
    "name": "ipython",
    "version": 3
   },
   "file_extension": ".py",
   "mimetype": "text/x-python",
   "name": "python",
   "nbconvert_exporter": "python",
   "pygments_lexer": "ipython3",
   "version": "3.10.9"
  }
 },
 "nbformat": 4,
 "nbformat_minor": 5
}
