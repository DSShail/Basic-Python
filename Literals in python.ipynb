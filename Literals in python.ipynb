{
 "cells": [
  {
   "cell_type": "markdown",
   "id": "ef7f0309",
   "metadata": {},
   "source": [
    "## Literals\n",
    "***\n",
    "### Literals are raw data given in a variable. In Python there are various types of literals they are as follows:\n",
    "- Numerical Literals\n",
    "- String literals\n",
    "- Boolean Literals\n",
    "- Special Literals"
   ]
  },
  {
   "cell_type": "markdown",
   "id": "fef01a66",
   "metadata": {},
   "source": [
    "### 1. Numerical Literals"
   ]
  },
  {
   "cell_type": "code",
   "execution_count": 6,
   "id": "73bcde05",
   "metadata": {},
   "outputs": [
    {
     "name": "stdout",
     "output_type": "stream",
     "text": [
      "10 100 200 300\n",
      "10.5 150.0 0.0015\n",
      "3.14j 3.14 0.0\n"
     ]
    }
   ],
   "source": [
    "a=0b1010 # binary literals\n",
    "b=100    # Decimal literal\n",
    "c=0o310  #octal literal\n",
    "d=0x12c  #Hexadecimal literals\n",
    "\n",
    "#Float literals\n",
    "float_1=10.5\n",
    "float_2=1.5e2\n",
    "float_3=1.5e-3\n",
    "\n",
    "#complex literals\n",
    "x=3.14j\n",
    "\n",
    "print(a,b,c,d)\n",
    "print(float_1,float_2,float_3)\n",
    "print(x,x.imag,x.real)"
   ]
  },
  {
   "cell_type": "markdown",
   "id": "6d21d51c",
   "metadata": {},
   "source": [
    "### 2. String Literals"
   ]
  },
  {
   "cell_type": "code",
   "execution_count": 14,
   "id": "6dead2f0",
   "metadata": {},
   "outputs": [
    {
     "name": "stdout",
     "output_type": "stream",
     "text": [
      "This is python- using single quote for string literal\n",
      "This is python-using double quote for string literal\n",
      "the value is C and type is <class 'str'>\n",
      "Hi,My name is shailesh. I am from Bihar and I am a data scientist\n",
      "😀\n",
      "raw \\n string\n"
     ]
    }
   ],
   "source": [
    "# you can use sinlge quote \n",
    "string='This is python- using single quote for string literal'\n",
    "\n",
    "#you can use double quote as well\n",
    "strings=\"This is python-using double quote for string literal\"\n",
    "\n",
    "#you can put single character inside sinlge/double quote. It is considered as string \n",
    "char='C'\n",
    "\n",
    "\n",
    "multiline=\"\"\"Hi,My name is shailesh. I am from Bihar and I am a data scientist\"\"\"\n",
    "\n",
    "#for storing unicode put 'u' as prefix\n",
    "unicode=u\"\\U0001f600\"\n",
    "\n",
    "\n",
    "#since it is a raw string \\n is not considered as new line\n",
    "#basically you can use special character in raw string\n",
    "raw_str=r\"raw \\n string\"\n",
    "\n",
    "print(string)\n",
    "print(strings)\n",
    "print(\"the value is {} and type is {}\".format(char,type(char)))\n",
    "print(multiline)\n",
    "print(unicode)\n",
    "print(raw_str)"
   ]
  },
  {
   "cell_type": "markdown",
   "id": "1f17dedd",
   "metadata": {},
   "source": [
    "### 3. Boolean Literal"
   ]
  },
  {
   "cell_type": "code",
   "execution_count": 16,
   "id": "8479bc67",
   "metadata": {},
   "outputs": [
    {
     "name": "stdout",
     "output_type": "stream",
     "text": [
      "a=  5\n",
      "b=  10\n"
     ]
    }
   ],
   "source": [
    "#True is considered as 1 and False is considered as 0\n",
    "# Also there is implicit type conversion from boolean to integer\n",
    "\n",
    "a=True+4\n",
    "b=False+10\n",
    "\n",
    "print(\"a= \",a)\n",
    "print(\"b= \",b)"
   ]
  },
  {
   "cell_type": "markdown",
   "id": "267b9516",
   "metadata": {},
   "source": [
    "### 4. Special Literal"
   ]
  },
  {
   "cell_type": "markdown",
   "id": "19b8108e",
   "metadata": {},
   "source": [
    "#there is no concept in variable declaration in python however there may need for variable- in this case we can pass None to a variabel\n",
    "\n",
    "a= None\n",
    "print(a)"
   ]
  },
  {
   "cell_type": "code",
   "execution_count": null,
   "id": "7365af31",
   "metadata": {},
   "outputs": [],
   "source": []
  }
 ],
 "metadata": {
  "kernelspec": {
   "display_name": "Python 3 (ipykernel)",
   "language": "python",
   "name": "python3"
  },
  "language_info": {
   "codemirror_mode": {
    "name": "ipython",
    "version": 3
   },
   "file_extension": ".py",
   "mimetype": "text/x-python",
   "name": "python",
   "nbconvert_exporter": "python",
   "pygments_lexer": "ipython3",
   "version": "3.10.9"
  }
 },
 "nbformat": 4,
 "nbformat_minor": 5
}
