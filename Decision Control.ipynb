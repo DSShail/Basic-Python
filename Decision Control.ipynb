{
 "cells": [
  {
   "cell_type": "code",
   "execution_count": 4,
   "id": "b0e64552",
   "metadata": {},
   "outputs": [
    {
     "name": "stdout",
     "output_type": "stream",
     "text": [
      "Enter your emailshaileshvbs0@gmail.com\n",
      "Enter your password1234\n",
      "welcome\n"
     ]
    }
   ],
   "source": [
    "#correct email- shaileshvbs0@gmail.com\n",
    "#password- 1234\n",
    "\n",
    "email=input(\"Enter your email\")\n",
    "password=input(\"Enter your password\")\n",
    "\n",
    "if email==\"shaileshvbs0@gmail.com\" and password==\"1234\":\n",
    "    print('welcome')\n",
    "else:\n",
    "    print('Wrong credential')"
   ]
  },
  {
   "cell_type": "code",
   "execution_count": 8,
   "id": "28342ef0",
   "metadata": {},
   "outputs": [
    {
     "name": "stdout",
     "output_type": "stream",
     "text": [
      "Enter your emailshaileshvbs0@gmail.com\n",
      "Enter your password1234567\n",
      "Incorrect password- please try again\n",
      "Enter your password678\n",
      "Incorrect password- 2 times- please rerun\n"
     ]
    }
   ],
   "source": [
    "#correct email- shaileshvbs0@gmail.com\n",
    "#password- 1234\n",
    "\n",
    "email=input(\"Enter your email\")\n",
    "password=input(\"Enter your password\")\n",
    "\n",
    "if email==\"shaileshvbs0@gmail.com\" and password==\"1234\":\n",
    "    print('welcome')\n",
    "elif email==\"shaileshvbs0@gmail.com\" and password!=\"1234\":\n",
    "    print('Incorrect password- please try again')\n",
    "    password=input(\"Enter your password\")\n",
    "    if password=='1234':\n",
    "        print('Welcome')\n",
    "    else:\n",
    "        print('Incorrect password- 2 times- please rerun')\n",
    "else:\n",
    "    print('Wrong credential')"
   ]
  },
  {
   "cell_type": "code",
   "execution_count": 11,
   "id": "aca898f5",
   "metadata": {},
   "outputs": [
    {
     "name": "stdout",
     "output_type": "stream",
     "text": [
      "Enter your emailshaileshvbs0@gmail.com\n",
      "Enter your passwordshjjk\n",
      "Incorrect password- please try again\n",
      "Enter your passwordqwert\n",
      "Incorrect password- 2 times- please rerun\n"
     ]
    }
   ],
   "source": [
    "email=input('Enter your email')\n",
    "\n",
    "if '@' in email:\n",
    "    password=input(\"Enter your password\")\n",
    "\n",
    "    if email==\"shaileshvbs0@gmail.com\" and password==\"1234\":\n",
    "        print('welcome')\n",
    "    elif email==\"shaileshvbs0@gmail.com\" and password!=\"1234\":\n",
    "        print('Incorrect password- please try again')\n",
    "        password=input(\"Enter your password\")\n",
    "        if password=='1234':\n",
    "            print('Welcome')\n",
    "        else:\n",
    "            print('Incorrect password- 2 times- please rerun')\n",
    "    else:\n",
    "        print('Wrong credential')\n",
    "else:\n",
    "    print('Incorrect email')"
   ]
  },
  {
   "cell_type": "code",
   "execution_count": null,
   "id": "80004b1a",
   "metadata": {},
   "outputs": [],
   "source": []
  }
 ],
 "metadata": {
  "kernelspec": {
   "display_name": "Python 3 (ipykernel)",
   "language": "python",
   "name": "python3"
  },
  "language_info": {
   "codemirror_mode": {
    "name": "ipython",
    "version": 3
   },
   "file_extension": ".py",
   "mimetype": "text/x-python",
   "name": "python",
   "nbconvert_exporter": "python",
   "pygments_lexer": "ipython3",
   "version": "3.10.9"
  }
 },
 "nbformat": 4,
 "nbformat_minor": 5
}
