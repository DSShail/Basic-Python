{
  "nbformat": 4,
  "nbformat_minor": 0,
  "metadata": {
    "colab": {
      "provenance": [],
      "authorship_tag": "ABX9TyOhQTQ3J6l4r2XyV9WFhdxu",
      "include_colab_link": true
    },
    "kernelspec": {
      "name": "python3",
      "display_name": "Python 3"
    },
    "language_info": {
      "name": "python"
    }
  },
  "cells": [
    {
      "cell_type": "markdown",
      "metadata": {
        "id": "view-in-github",
        "colab_type": "text"
      },
      "source": [
        "<a href=\"https://colab.research.google.com/github/DSShail/Basic-Python/blob/main/OOPs_part1.ipynb\" target=\"_parent\"><img src=\"https://colab.research.google.com/assets/colab-badge.svg\" alt=\"Open In Colab\"/></a>"
      ]
    },
    {
      "cell_type": "markdown",
      "source": [
        "* Every thing in python is object\n",
        "* Generality to Specificity\n",
        "* A Programmer can create their own data type using OOP\n",
        "* OOP consists of below principles\n",
        "  * class\n",
        "  * object\n",
        "  * polymorphism\n",
        "  * Encapsulation\n",
        "  * Inheritance\n",
        "  * Abstraction"
      ],
      "metadata": {
        "id": "l9VCiis47Hw9"
      }
    },
    {
      "cell_type": "markdown",
      "source": [
        "* Class- It is a blueprint. A set of rules for an object to follow.\n",
        "\n",
        "* Every datatype- int,float,list,tuple,dictionary is a class.\n",
        "\n",
        "* Class has two parts Data/Property and Functions/Behaviour\n",
        "\n",
        "* Object is an instance of a class\n"
      ],
      "metadata": {
        "id": "gTppEKs6BM15"
      }
    },
    {
      "cell_type": "markdown",
      "source": [
        "*In class diagram + means public and - means private*\n",
        "\n",
        "*both methods and attributes can be private or public*"
      ],
      "metadata": {
        "id": "GVrnrpoKZ5pQ"
      }
    },
    {
      "cell_type": "code",
      "execution_count": null,
      "metadata": {
        "colab": {
          "base_uri": "https://localhost:8080/"
        },
        "id": "h9IebyjS6_s1",
        "outputId": "7fae5127-a1b4-469f-ef54-f421da3e3b52"
      },
      "outputs": [
        {
          "output_type": "execute_result",
          "data": {
            "text/plain": [
              "[10, 20, 30]"
            ]
          },
          "metadata": {},
          "execution_count": 3
        }
      ],
      "source": [
        "#syntax to create an object\n",
        "\n",
        "#object name= classname()\n",
        "\n",
        "\n",
        "#object literal\n",
        "L= [1,2,3]\n",
        "L\n",
        "\n",
        "#creating object using  class\n",
        "L=list([10,20,30])\n",
        "L"
      ]
    },
    {
      "cell_type": "markdown",
      "source": [
        "# ATM Machine Code"
      ],
      "metadata": {
        "id": "r5PtEQ7DEJ-H"
      }
    },
    {
      "cell_type": "code",
      "source": [
        "#class is a keyword\n",
        "\n",
        "#class name should follow Pascal Case\n",
        "class Atm:\n",
        "\n",
        "  #constructor- function inside the class, special function which is called during object creation\n",
        "  #self is used to refer to current instance of the class\n",
        "  def __init__(self):\n",
        "    self.pin=''\n",
        "    self.balance=0\n",
        "    self.menu()\n",
        "\n",
        "  def menu(self):\n",
        "\n",
        "    user_input = input(\"\"\"\n",
        "    Hi,How can we help you?\n",
        "    1. Press 1 to create pin\n",
        "    2. Press 2 to change pin\n",
        "    3. Press 3 to check balance\n",
        "    4. Press 4 to withdraw\n",
        "    5. Press anything else to exit\n",
        "    \"\"\")\n",
        "\n",
        "\n",
        "    if user_input == '1':\n",
        "      #create pin\n",
        "      self.create_pin()\n",
        "    elif user_input == '2':\n",
        "      #change pin\n",
        "      self.change_pin()\n",
        "    elif user_input == '3':\n",
        "      #check balance\n",
        "      self.check_balance()\n",
        "    elif user_input == '4':\n",
        "      #withdraw\n",
        "      self.withdraw_balance()\n",
        "    else:\n",
        "      exit()\n",
        "\n",
        "  def create_pin(self):\n",
        "    user_pin=input('enter your pin')\n",
        "    self.pin=user_pin\n",
        "\n",
        "    #as balance is fetched from bank server as we don't have such provision so we are asking for balance from the user\n",
        "    #it may sound weird\n",
        "    user_balance=int(input('enter balance'))\n",
        "    self.balance=user_balance\n",
        "    print('pin created successfully')\n",
        "    self.menu()\n",
        "\n",
        "  def change_pin(self):\n",
        "    old_pin=input('Enter your old pin')\n",
        "    if(old_pin==self.pin):\n",
        "      new_pin=input('Enter your new pin')\n",
        "      self.pin=new_pin\n",
        "      print('Pin change successful')\n",
        "      self.menu()\n",
        "    else:\n",
        "      print('Wrong OLD pin: redirecting to the main menu')\n",
        "      self.menu()\n",
        "\n",
        "  def check_balance(self):\n",
        "    user_pin=input('Enter user pin')\n",
        "    if user_pin==self.pin:\n",
        "      print('Your balance is {}'.format(self.balance))\n",
        "      self.menu()\n",
        "    else:\n",
        "      print('Wrong pin')\n",
        "\n",
        "  def withdraw_balance(self):\n",
        "    user_pin=input('Enter user pin')\n",
        "    if user_pin==self.pin:\n",
        "      amount=int(input('Enter the amount to be withdrawn'))\n",
        "      if amount<self.balance:\n",
        "        self.balance=self.balance-amount\n",
        "        print('The amount withdrawn is {} and the current balance is{}'.format(amount,self.balance))\n",
        "        self.menu()\n",
        "      else:\n",
        "        print('You are broke')\n",
        "    else:\n",
        "      print('Incorrect pin- please retry')\n",
        "      self.menu()"
      ],
      "metadata": {
        "id": "fm49_3maD6e6"
      },
      "execution_count": null,
      "outputs": []
    },
    {
      "cell_type": "code",
      "source": [
        "obj=Atm()"
      ],
      "metadata": {
        "colab": {
          "base_uri": "https://localhost:8080/"
        },
        "id": "7OFPUbGYFgzU",
        "outputId": "94c82d07-543a-4b11-8dd9-b75859df8e8f"
      },
      "execution_count": null,
      "outputs": [
        {
          "name": "stdout",
          "output_type": "stream",
          "text": [
            "\n",
            "    Hi,How can we help you?\n",
            "    1. Press 1 to create pin\n",
            "    2. Press 2 to change pin\n",
            "    3. Press 3 to check balance\n",
            "    4. Press 4 to withdraw\n",
            "    5. Press anything else to exit\n",
            "    1\n",
            "enter your pin1234\n",
            "enter balance23000\n",
            "pin created successfully\n",
            "\n",
            "    Hi,How can we help you?\n",
            "    1. Press 1 to create pin\n",
            "    2. Press 2 to change pin\n",
            "    3. Press 3 to check balance\n",
            "    4. Press 4 to withdraw\n",
            "    5. Press anything else to exit\n",
            "    3\n",
            "Enter user pin1234\n",
            "Your balance is 23000\n",
            "\n",
            "    Hi,How can we help you?\n",
            "    1. Press 1 to create pin\n",
            "    2. Press 2 to change pin\n",
            "    3. Press 3 to check balance\n",
            "    4. Press 4 to withdraw\n",
            "    5. Press anything else to exit\n",
            "    5\n"
          ]
        }
      ]
    },
    {
      "cell_type": "markdown",
      "source": [
        "# Methods vs Functions"
      ],
      "metadata": {
        "id": "-xfUpx1_YHJE"
      }
    },
    {
      "cell_type": "markdown",
      "source": [
        "The functions inside the class are called methods\n",
        "\n",
        "The functions outside of the class are called function"
      ],
      "metadata": {
        "id": "oxlZ2_tZYSw_"
      }
    },
    {
      "cell_type": "code",
      "source": [
        "L=[1,2,3]\n",
        "\n",
        "#length is a function as it is ouside the List class\n",
        "len(L)\n",
        "\n",
        "#append is the method as it is inside the class\n",
        "L.append(4)"
      ],
      "metadata": {
        "id": "JiYyeDw5FkFQ"
      },
      "execution_count": null,
      "outputs": []
    },
    {
      "cell_type": "markdown",
      "source": [
        "# Magic Methods"
      ],
      "metadata": {
        "id": "EwdHaoicZBcg"
      }
    },
    {
      "cell_type": "markdown",
      "source": [
        "Magic methods are special method - has unique power\n",
        "\n",
        "*it starts with __ and ends with __*\n",
        "\n",
        "**It is also known as Dunder method**\n",
        "\n",
        "example-\"__init__(self)\"--  it is called automatically when the object of class is created, being called automatically is it's superpower\n",
        "\n"
      ],
      "metadata": {
        "id": "oYBJOxo4aLxs"
      }
    },
    {
      "cell_type": "markdown",
      "source": [
        "**The benefit of constructor**\n",
        "1.   configuration related code must be put inside constructor\n",
        "    *   connect to database\n",
        "    *   connect to internet\n",
        "    *   other configuration related code\n",
        "2.   initialization\n",
        "\n",
        "\n"
      ],
      "metadata": {
        "id": "f6x1XSeqbb4n"
      }
    },
    {
      "cell_type": "markdown",
      "source": [
        "**In python we cannot rename the constructor, it is always init**"
      ],
      "metadata": {
        "id": "E-hnYkbjc21m"
      }
    },
    {
      "cell_type": "code",
      "source": [],
      "metadata": {
        "id": "tllYruC9Y7H_"
      },
      "execution_count": null,
      "outputs": []
    },
    {
      "cell_type": "markdown",
      "source": [
        "# self"
      ],
      "metadata": {
        "id": "IQLQ9XLhdSFL"
      }
    },
    {
      "cell_type": "markdown",
      "source": [
        "in every method of a class- self it is a default parameter\n",
        "\n",
        "self is used with every attributes of a class\n",
        "\n",
        "self is a reference to current object\n",
        "\n",
        "we can even different name instead of self"
      ],
      "metadata": {
        "id": "D9XJt1MdY1ET"
      }
    },
    {
      "cell_type": "markdown",
      "source": [
        "# Custom Data type"
      ],
      "metadata": {
        "id": "-XhUj7tkcoNe"
      }
    },
    {
      "cell_type": "code",
      "source": [
        "class Fraction:\n",
        "\n",
        "  #parametrized constructor\n",
        "  def __init__(self,x,y):\n",
        "    self.num=x\n",
        "    self.den=y\n",
        "\n",
        "  #second magic method- when object of class is put inside print function, this method is called\n",
        "  def __str__(self):\n",
        "    return '{}/{}'.format(self.num,self.den)\n",
        "\n",
        "  #third magic method- it is called when + operator is used\n",
        "  def __add__(self,other):\n",
        "    new_num=(self.num*other.den)+(other.num*self.den)\n",
        "    new_den=self.den * other.den\n",
        "    return '{}/{}'.format(new_num,new_den)\n",
        "\n",
        "  #fourth magic method- it is called when - operator is used\n",
        "  def __sub__(self,other):\n",
        "    new_num=(self.num*other.den)-(other.num*self.den)\n",
        "    new_den=self.den * other.den\n",
        "    return '{}/{}'.format(new_num,new_den)\n",
        "\n",
        "  #fifth magic method- it is used when * operator is used\n",
        "  def __mul__(self,other):\n",
        "    new_num=(self.num*other.num)\n",
        "    new_den=self.den * other.den\n",
        "    return '{}/{}'.format(new_num,new_den)\n",
        "\n",
        "  #sixth magic method- it is used when / operator is used\n",
        "  def __truediv__(self,other):\n",
        "    new_num=self.num*other.den\n",
        "    new_den=self.den*other.num\n",
        "    return '{}/{}'.format(new_num,new_den)\n",
        "\n",
        "  #convert fraction to the decimal\n",
        "  def convert_to_decimal(self):\n",
        "    return self.num/self.den"
      ],
      "metadata": {
        "id": "KJ9vrsLXdUeA"
      },
      "execution_count": 36,
      "outputs": []
    },
    {
      "cell_type": "code",
      "source": [
        "fr1=Fraction(3,4)\n",
        "fr2=Fraction(1,2)"
      ],
      "metadata": {
        "id": "p7sK6YUifPwB"
      },
      "execution_count": 37,
      "outputs": []
    },
    {
      "cell_type": "code",
      "source": [
        "print(\"Addition of {} and {} is ----{}\".format(fr1,fr2,fr1+fr2))\n",
        "print(\"Substraction of {} and {} is--{} \".format(fr1,fr2,fr1-fr2))\n",
        "print(\"Multiplication of {} and {} is---{}\".format(fr1,fr2,fr1*fr2))\n",
        "print(\"Division of {} and {} is------ {}\".format(fr1,fr2,fr1/fr2))"
      ],
      "metadata": {
        "colab": {
          "base_uri": "https://localhost:8080/"
        },
        "id": "sqt9bz--fT5f",
        "outputId": "99d2e41a-ea53-47b3-ab59-5f8c509c9010"
      },
      "execution_count": 42,
      "outputs": [
        {
          "output_type": "stream",
          "name": "stdout",
          "text": [
            "Addition of 3/4 and 1/2 is ----10/8\n",
            "Substraction of 3/4 and 1/2 is--2/8 \n",
            "Multiplication of 3/4 and 1/2 is---3/8\n",
            "Division of 3/4 and 1/2 is------ 6/4\n"
          ]
        }
      ]
    },
    {
      "cell_type": "code",
      "source": [
        "fr1.convert_to_decimal()"
      ],
      "metadata": {
        "id": "g64L7F8ifVZe",
        "colab": {
          "base_uri": "https://localhost:8080/"
        },
        "outputId": "aeb89c74-4cc6-43e0-c50b-ff9700a6b0a3"
      },
      "execution_count": 39,
      "outputs": [
        {
          "output_type": "execute_result",
          "data": {
            "text/plain": [
              "0.75"
            ]
          },
          "metadata": {},
          "execution_count": 39
        }
      ]
    },
    {
      "cell_type": "code",
      "source": [],
      "metadata": {
        "colab": {
          "base_uri": "https://localhost:8080/",
          "height": 35
        },
        "id": "U9eZ_3gR9U2Y",
        "outputId": "f3c5062c-42ef-4e1f-a558-35b77807176f"
      },
      "execution_count": 26,
      "outputs": [
        {
          "output_type": "execute_result",
          "data": {
            "text/plain": [
              "'3/8'"
            ],
            "application/vnd.google.colaboratory.intrinsic+json": {
              "type": "string"
            }
          },
          "metadata": {},
          "execution_count": 26
        }
      ]
    },
    {
      "cell_type": "code",
      "source": [],
      "metadata": {
        "id": "8kU0WUMW-GFy"
      },
      "execution_count": null,
      "outputs": []
    }
  ]
}
