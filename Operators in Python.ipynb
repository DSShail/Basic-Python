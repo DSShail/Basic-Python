{
 "cells": [
  {
   "cell_type": "markdown",
   "id": "360436cb",
   "metadata": {},
   "source": [
    "## Operators\n",
    "**Operators are used to perform operations on variables and values.Python as following operators.**\n",
    "- Arithematic operators\n",
    "- comparision oprators\n",
    "- Logical Operators\n",
    "- Bitwise Operators\n",
    "- Assignment Operators\n",
    "- Identity Operators\n",
    "- Membership operators"
   ]
  },
  {
   "cell_type": "markdown",
   "id": "f92ad24f",
   "metadata": {},
   "source": [
    "**1.Arithematic Operators**"
   ]
  },
  {
   "cell_type": "code",
   "execution_count": 5,
   "id": "3eaf3c9a",
   "metadata": {},
   "outputs": [
    {
     "name": "stdout",
     "output_type": "stream",
     "text": [
      "Additon of 5 and 2 is 7\n",
      "Multiplication of 5 and 2 is 10\n",
      "substraction of 5 and 2 is 3\n",
      "Division of 5 and 2 is 2.5\n",
      "Modulus/remainder of 5 and 2 is 1\n",
      "Power of 2 over 5 is 25\n"
     ]
    }
   ],
   "source": [
    "x=5\n",
    "y=2\n",
    "\n",
    "print(\"Additon of {} and {} is {}\".format(x,y,x+y))\n",
    "print(\"Multiplication of {} and {} is {}\".format(x,y,x*y))\n",
    "print(\"substraction of {} and {} is {}\".format(x,y,x-y))\n",
    "print(\"Division of {} and {} is {}\".format(x,y,x/y))\n",
    "print(\"Modulus/remainder of {} and {} is {}\".format(x,y,x%y))\n",
    "print(\"Power of {} over {} is {}\".format(y,x,x**y))"
   ]
  },
  {
   "cell_type": "markdown",
   "id": "2571f98c",
   "metadata": {},
   "source": [
    "**2.Comparision Operators**"
   ]
  },
  {
   "cell_type": "code",
   "execution_count": 8,
   "id": "c838a844",
   "metadata": {},
   "outputs": [
    {
     "name": "stdout",
     "output_type": "stream",
     "text": [
      "True\n",
      "False\n",
      "True\n",
      "False\n",
      "False\n",
      "True\n"
     ]
    }
   ],
   "source": [
    "#These operators are also called relational operators\n",
    "#greater than\n",
    "print(x>y)\n",
    "\n",
    "#less than\n",
    "print(x<y)\n",
    "\n",
    "#greater than equals to : >=\n",
    "print(x>=y)\n",
    "\n",
    "#less than equals to : <=\n",
    "print(x<=y)\n",
    "\n",
    "#equals to : ==\n",
    "print(x==y)\n",
    "\n",
    "#not equals to : !=\n",
    "print(x!=y)"
   ]
  },
  {
   "cell_type": "markdown",
   "id": "716dd0f6",
   "metadata": {},
   "source": [
    "**3.Logical Operators**"
   ]
  },
  {
   "cell_type": "code",
   "execution_count": 11,
   "id": "1207ef94",
   "metadata": {},
   "outputs": [
    {
     "name": "stdout",
     "output_type": "stream",
     "text": [
      "OR of x and y is True\n",
      "AND of x and y is False\n",
      "not of x is False\n"
     ]
    }
   ],
   "source": [
    "x=True\n",
    "y=False\n",
    "\n",
    "print(\"OR of x and y is {}\".format(x or y))\n",
    "print(\"AND of x and y is {}\".format(x and y))\n",
    "print(\"not of x is {}\".format(not x))"
   ]
  },
  {
   "cell_type": "markdown",
   "id": "7956d5b7",
   "metadata": {},
   "source": [
    "**4.Bitwise operator**"
   ]
  },
  {
   "cell_type": "code",
   "execution_count": 20,
   "id": "bb5dc57d",
   "metadata": {},
   "outputs": [
    {
     "name": "stdout",
     "output_type": "stream",
     "text": [
      "Bitwise & of x and y is 2\n",
      "Bitwise | of x and y is 3\n",
      "Bitwise 1's complement ~ of 2 is -3 \n",
      "0\n",
      "8\n"
     ]
    }
   ],
   "source": [
    "x=2\n",
    "y=3\n",
    "\n",
    "print(\"Bitwise & of x and y is {}\".format(x&y))\n",
    "print(\"Bitwise | of x and y is {}\".format(x|y))\n",
    "print(\"Bitwise 1's complement ~ of {} is {} \".format(x,~x))\n",
    "\n",
    "#left shift operator\n",
    "print(x>>2)\n",
    "\n",
    "#right shift operator\n",
    "print(x<<2)"
   ]
  },
  {
   "cell_type": "markdown",
   "id": "3f66f2cc",
   "metadata": {},
   "source": [
    "**5. Assignment Operator**"
   ]
  },
  {
   "cell_type": "code",
   "execution_count": 22,
   "id": "d45648b6",
   "metadata": {},
   "outputs": [
    {
     "name": "stdout",
     "output_type": "stream",
     "text": [
      "3\n"
     ]
    }
   ],
   "source": [
    "# '=' is an assignment operator\n",
    "a=3\n",
    "print(a)"
   ]
  },
  {
   "cell_type": "markdown",
   "id": "db7823c4",
   "metadata": {},
   "source": [
    "**6. Idenity Operators**"
   ]
  },
  {
   "cell_type": "code",
   "execution_count": 24,
   "id": "ae91702c",
   "metadata": {},
   "outputs": [
    {
     "name": "stdout",
     "output_type": "stream",
     "text": [
      "a=3 and b=3 is at same location True\n"
     ]
    }
   ],
   "source": [
    "# It is used to check if two variables are at same location or not\n",
    "# is operator\n",
    "a=3\n",
    "b=3\n",
    "print(\"a={} and b={} is at same location {}\".format(a,b,a is b))"
   ]
  },
  {
   "cell_type": "code",
   "execution_count": 25,
   "id": "af65edfc",
   "metadata": {},
   "outputs": [
    {
     "name": "stdout",
     "output_type": "stream",
     "text": [
      "a=[1, 2, 3] and b=[1, 2, 3] is at same location False\n"
     ]
    }
   ],
   "source": [
    "a=[1,2,3]\n",
    "b=[1,2,3]\n",
    "print(\"a={} and b={} is at same location {}\".format(a,b,a is b))"
   ]
  },
  {
   "cell_type": "markdown",
   "id": "27a0313c",
   "metadata": {},
   "source": [
    "**7.Membership operators**"
   ]
  },
  {
   "cell_type": "code",
   "execution_count": 29,
   "id": "5cfcffac",
   "metadata": {},
   "outputs": [
    {
     "name": "stdout",
     "output_type": "stream",
     "text": [
      "True\n",
      "False\n"
     ]
    }
   ],
   "source": [
    "x=\"deldi\"\n",
    "print('d' in x)\n",
    "\n",
    "print('d' not in x)"
   ]
  },
  {
   "cell_type": "code",
   "execution_count": null,
   "id": "8f1cbcf2",
   "metadata": {},
   "outputs": [],
   "source": []
  }
 ],
 "metadata": {
  "kernelspec": {
   "display_name": "Python 3 (ipykernel)",
   "language": "python",
   "name": "python3"
  },
  "language_info": {
   "codemirror_mode": {
    "name": "ipython",
    "version": 3
   },
   "file_extension": ".py",
   "mimetype": "text/x-python",
   "name": "python",
   "nbconvert_exporter": "python",
   "pygments_lexer": "ipython3",
   "version": "3.10.9"
  }
 },
 "nbformat": 4,
 "nbformat_minor": 5
}
