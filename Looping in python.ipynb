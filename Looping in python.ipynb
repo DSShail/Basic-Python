{
 "cells": [
  {
   "cell_type": "markdown",
   "id": "9368e5ad",
   "metadata": {},
   "source": [
    "# Looping"
   ]
  },
  {
   "cell_type": "markdown",
   "id": "6b14b1f2",
   "metadata": {},
   "source": [
    "### While Loop\n",
    "#### When the number of itertions is not known then use while loop"
   ]
  },
  {
   "cell_type": "markdown",
   "id": "1a7a11c9",
   "metadata": {},
   "source": [
    "### Print the table for a number"
   ]
  },
  {
   "cell_type": "code",
   "execution_count": 1,
   "id": "d20c59d1",
   "metadata": {},
   "outputs": [
    {
     "name": "stdout",
     "output_type": "stream",
     "text": [
      "Enter a number2\n",
      "2\n",
      "4\n",
      "6\n",
      "8\n",
      "10\n",
      "12\n",
      "14\n",
      "16\n",
      "18\n",
      "20\n"
     ]
    }
   ],
   "source": [
    "number=int(input(\"Enter a number\"))\n",
    "\n",
    "i=1\n",
    "\n",
    "while i<=10:\n",
    "    print(number*i)\n",
    "    i+=1"
   ]
  },
  {
   "cell_type": "markdown",
   "id": "486e67b7",
   "metadata": {},
   "source": [
    "### For Loop\n",
    "#### When you know the number of iterations required"
   ]
  },
  {
   "cell_type": "markdown",
   "id": "5e601a15",
   "metadata": {},
   "source": [
    "**range function**"
   ]
  },
  {
   "cell_type": "code",
   "execution_count": 1,
   "id": "b0b463c8",
   "metadata": {},
   "outputs": [
    {
     "data": {
      "text/plain": [
       "range(1, 11)"
      ]
     },
     "execution_count": 1,
     "metadata": {},
     "output_type": "execute_result"
    }
   ],
   "source": [
    "range(1,11)"
   ]
  },
  {
   "cell_type": "code",
   "execution_count": 4,
   "id": "187be9eb",
   "metadata": {},
   "outputs": [
    {
     "data": {
      "text/plain": [
       "range"
      ]
     },
     "execution_count": 4,
     "metadata": {},
     "output_type": "execute_result"
    }
   ],
   "source": [
    "#type of range function\n",
    "type(range(1,11))"
   ]
  },
  {
   "cell_type": "code",
   "execution_count": 5,
   "id": "1396d690",
   "metadata": {},
   "outputs": [
    {
     "data": {
      "text/plain": [
       "[1, 2, 3, 4, 5, 6, 7, 8, 9, 10]"
      ]
     },
     "execution_count": 5,
     "metadata": {},
     "output_type": "execute_result"
    }
   ],
   "source": [
    "##converting range into list\n",
    "list(range(1,11))"
   ]
  },
  {
   "cell_type": "code",
   "execution_count": 9,
   "id": "f14cfff6",
   "metadata": {},
   "outputs": [
    {
     "data": {
      "text/plain": [
       "[0, 1, 2, 3, 4]"
      ]
     },
     "execution_count": 9,
     "metadata": {},
     "output_type": "execute_result"
    }
   ],
   "source": [
    "#by default 0 is the start value and step value is 1\n",
    "list(range(5))"
   ]
  },
  {
   "cell_type": "code",
   "execution_count": 11,
   "id": "b6577494",
   "metadata": {},
   "outputs": [
    {
     "data": {
      "text/plain": [
       "[0, 2, 4, 6, 8]"
      ]
     },
     "execution_count": 11,
     "metadata": {},
     "output_type": "execute_result"
    }
   ],
   "source": [
    "#step is the increment value between two numbers in the range\n",
    "list(range(0,10,2))"
   ]
  },
  {
   "cell_type": "code",
   "execution_count": 12,
   "id": "93b3a152",
   "metadata": {},
   "outputs": [
    {
     "data": {
      "text/plain": [
       "[2, 5, 8, 11, 14, 17]"
      ]
     },
     "execution_count": 12,
     "metadata": {},
     "output_type": "execute_result"
    }
   ],
   "source": [
    "list(range(2,20,3))"
   ]
  },
  {
   "cell_type": "markdown",
   "id": "7e7d072c",
   "metadata": {},
   "source": [
    "**SEQUENCE**\n",
    "*below are the most important types of seequence*\n",
    "- list\n",
    "- tuple\n",
    "- string"
   ]
  },
  {
   "cell_type": "code",
   "execution_count": 13,
   "id": "a91778c1",
   "metadata": {},
   "outputs": [
    {
     "name": "stdout",
     "output_type": "stream",
     "text": [
      "10\n",
      "9\n",
      "8\n",
      "7\n",
      "6\n",
      "5\n",
      "4\n",
      "3\n",
      "2\n",
      "1\n"
     ]
    }
   ],
   "source": [
    "for i in range(10,0,-1):\n",
    "    print(i)"
   ]
  },
  {
   "cell_type": "code",
   "execution_count": 14,
   "id": "c71ba45b",
   "metadata": {},
   "outputs": [
    {
     "name": "stdout",
     "output_type": "stream",
     "text": [
      "k\n",
      "o\n",
      "l\n",
      "k\n",
      "a\n",
      "t\n",
      "a\n"
     ]
    }
   ],
   "source": [
    "for i in 'kolkata':\n",
    "    print(i)"
   ]
  },
  {
   "cell_type": "code",
   "execution_count": 16,
   "id": "0de7eed7",
   "metadata": {},
   "outputs": [
    {
     "name": "stdout",
     "output_type": "stream",
     "text": [
      "1\n",
      "2\n",
      "3\n",
      "4\n",
      "5\n"
     ]
    }
   ],
   "source": [
    "for  i in [1,2,3,4,5]:\n",
    "    print(i)"
   ]
  },
  {
   "cell_type": "markdown",
   "id": "eb2f8d97",
   "metadata": {},
   "source": [
    "#### You can provide any type of sequence/iterable object in the for loop"
   ]
  },
  {
   "cell_type": "markdown",
   "id": "6deae400",
   "metadata": {},
   "source": [
    "### Nested Loop"
   ]
  },
  {
   "cell_type": "code",
   "execution_count": 17,
   "id": "9b6d40d1",
   "metadata": {},
   "outputs": [],
   "source": [
    "# *\n",
    "# **\n",
    "# ***\n",
    "# ****\n",
    "# *****\n",
    "# ******"
   ]
  },
  {
   "cell_type": "code",
   "execution_count": 18,
   "id": "37ee54ba",
   "metadata": {},
   "outputs": [
    {
     "name": "stdout",
     "output_type": "stream",
     "text": [
      "\n",
      "*\n",
      "**\n",
      "***\n",
      "****\n",
      "*****\n"
     ]
    }
   ],
   "source": [
    "for i in range(6):\n",
    "    for j in range(i):\n",
    "        print(\"*\",end='')\n",
    "    print()\n",
    "    "
   ]
  },
  {
   "cell_type": "markdown",
   "id": "b040c2ec",
   "metadata": {},
   "source": [
    "### Break statement"
   ]
  },
  {
   "cell_type": "code",
   "execution_count": 19,
   "id": "95069ec8",
   "metadata": {},
   "outputs": [
    {
     "name": "stdout",
     "output_type": "stream",
     "text": [
      "1\n",
      "2\n",
      "3\n",
      "4\n"
     ]
    }
   ],
   "source": [
    "for i in range(1,11):\n",
    "    if i==5:\n",
    "        break\n",
    "    print(i)"
   ]
  },
  {
   "cell_type": "markdown",
   "id": "c434bcba",
   "metadata": {},
   "source": [
    "##### break statement can be used in linear search- if element found then break. It saves runtime of system. When encountered with break statement the loop terminates"
   ]
  },
  {
   "cell_type": "markdown",
   "id": "09e2cac7",
   "metadata": {},
   "source": [
    "### Continue Statement"
   ]
  },
  {
   "cell_type": "code",
   "execution_count": 20,
   "id": "80bc6181",
   "metadata": {},
   "outputs": [
    {
     "name": "stdout",
     "output_type": "stream",
     "text": [
      "1\n",
      "2\n",
      "3\n",
      "4\n",
      "6\n",
      "7\n",
      "8\n",
      "9\n",
      "10\n"
     ]
    }
   ],
   "source": [
    "for i in range(1,11):\n",
    "    if i==5:\n",
    "        continue\n",
    "    print(i)"
   ]
  },
  {
   "cell_type": "markdown",
   "id": "444a0276",
   "metadata": {},
   "source": [
    "##### Conclusion- Here 5 is not printed in the output-- when continue statement is encountered - the statement after continue is not executed"
   ]
  },
  {
   "cell_type": "markdown",
   "id": "ebe34914",
   "metadata": {},
   "source": [
    "### Pass Statement"
   ]
  },
  {
   "cell_type": "code",
   "execution_count": 21,
   "id": "ed6e4a34",
   "metadata": {},
   "outputs": [],
   "source": [
    "for i in range(1,11):\n",
    "    pass"
   ]
  },
  {
   "cell_type": "code",
   "execution_count": null,
   "id": "af728bc5",
   "metadata": {},
   "outputs": [],
   "source": []
  }
 ],
 "metadata": {
  "kernelspec": {
   "display_name": "Python 3 (ipykernel)",
   "language": "python",
   "name": "python3"
  },
  "language_info": {
   "codemirror_mode": {
    "name": "ipython",
    "version": 3
   },
   "file_extension": ".py",
   "mimetype": "text/x-python",
   "name": "python",
   "nbconvert_exporter": "python",
   "pygments_lexer": "ipython3",
   "version": "3.10.9"
  }
 },
 "nbformat": 4,
 "nbformat_minor": 5
}
