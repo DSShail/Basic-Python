{
 "cells": [
  {
   "cell_type": "markdown",
   "id": "d72184c0",
   "metadata": {},
   "source": [
    "**LIST in pyhton**\n",
    "- what is a list?"
   ]
  },
  {
   "cell_type": "markdown",
   "id": "1213948a",
   "metadata": {},
   "source": [
    "- List is heterogenous. Array is homongenous- same data type\n",
    "- Arrays are stored in  contagious fashion that's why there are faster\n",
    "- Lists are programmer friendly\n"
   ]
  },
  {
   "cell_type": "markdown",
   "id": "2a991497",
   "metadata": {},
   "source": [
    "#####  homogenous list- elements are of same type"
   ]
  },
  {
   "cell_type": "code",
   "execution_count": 2,
   "id": "1d78eb1d",
   "metadata": {},
   "outputs": [
    {
     "name": "stdout",
     "output_type": "stream",
     "text": [
      "[1, 2, 3, 4]\n"
     ]
    }
   ],
   "source": [
    "l=[1,2,3,4]\n",
    "print(l)"
   ]
  },
  {
   "cell_type": "markdown",
   "id": "4dd5d81a",
   "metadata": {},
   "source": [
    "##### heterogenous list-elements are of different data types"
   ]
  },
  {
   "cell_type": "code",
   "execution_count": 5,
   "id": "69071cb7",
   "metadata": {},
   "outputs": [
    {
     "name": "stdout",
     "output_type": "stream",
     "text": [
      "The heterogenous list elements are [1, 'shail', True, 2.5, (1+2j)]\n"
     ]
    }
   ],
   "source": [
    "l1=[1,'shail',True,2.5,1+2j]\n",
    "print(\"The heterogenous list elements are {}\".format(l1))"
   ]
  },
  {
   "cell_type": "markdown",
   "id": "5a829150",
   "metadata": {},
   "source": [
    "##### Multi-dimensional list"
   ]
  },
  {
   "cell_type": "code",
   "execution_count": 7,
   "id": "4ec9716a",
   "metadata": {},
   "outputs": [
    {
     "name": "stdout",
     "output_type": "stream",
     "text": [
      "[1, 2, 4, [6, 7]]\n"
     ]
    }
   ],
   "source": [
    "L3=[1,2,4,[6,7]]\n",
    "print(L3)"
   ]
  },
  {
   "cell_type": "code",
   "execution_count": 9,
   "id": "bc539474",
   "metadata": {},
   "outputs": [
    {
     "data": {
      "text/plain": [
       "['s', 'h', 'a', 'i', 'l', 'e', 's', 'h']"
      ]
     },
     "execution_count": 9,
     "metadata": {},
     "output_type": "execute_result"
    }
   ],
   "source": [
    "L4=list(\"shailesh\")\n",
    "L4"
   ]
  },
  {
   "cell_type": "code",
   "execution_count": 10,
   "id": "15c9c34a",
   "metadata": {},
   "outputs": [
    {
     "ename": "NameError",
     "evalue": "name 'L' is not defined",
     "output_type": "error",
     "traceback": [
      "\u001b[1;31m---------------------------------------------------------------------------\u001b[0m",
      "\u001b[1;31mNameError\u001b[0m                                 Traceback (most recent call last)",
      "Cell \u001b[1;32mIn[10], line 1\u001b[0m\n\u001b[1;32m----> 1\u001b[0m \u001b[43mL\u001b[49m\n",
      "\u001b[1;31mNameError\u001b[0m: name 'L' is not defined"
     ]
    }
   ],
   "source": [
    "L"
   ]
  },
  {
   "cell_type": "code",
   "execution_count": 11,
   "id": "d81502be",
   "metadata": {},
   "outputs": [],
   "source": [
    "L=[1,2,4,5]"
   ]
  },
  {
   "cell_type": "code",
   "execution_count": 12,
   "id": "4a6c753f",
   "metadata": {},
   "outputs": [
    {
     "name": "stdout",
     "output_type": "stream",
     "text": [
      "[1, 2, 4, 5]\n"
     ]
    }
   ],
   "source": [
    "print(L)"
   ]
  },
  {
   "cell_type": "code",
   "execution_count": 13,
   "id": "3616eb5d",
   "metadata": {},
   "outputs": [
    {
     "name": "stdout",
     "output_type": "stream",
     "text": [
      "['shail', 2, 4, 5]\n"
     ]
    }
   ],
   "source": [
    "L[0]='shail'\n",
    "print(L)"
   ]
  },
  {
   "cell_type": "markdown",
   "id": "327dbd1a",
   "metadata": {},
   "source": [
    "#### List in python are mutable"
   ]
  },
  {
   "cell_type": "code",
   "execution_count": 15,
   "id": "e734ccef",
   "metadata": {},
   "outputs": [
    {
     "name": "stdout",
     "output_type": "stream",
     "text": [
      "['shail', 2, 100, 200]\n"
     ]
    }
   ],
   "source": [
    "L[2:4]=[100,200]\n",
    "print(L)"
   ]
  },
  {
   "cell_type": "markdown",
   "id": "ef365815",
   "metadata": {},
   "source": [
    "##### append() in pyhton"
   ]
  },
  {
   "cell_type": "code",
   "execution_count": 16,
   "id": "b9c9e937",
   "metadata": {},
   "outputs": [
    {
     "data": {
      "text/plain": [
       "['shail', 2, 100, 200]"
      ]
     },
     "execution_count": 16,
     "metadata": {},
     "output_type": "execute_result"
    }
   ],
   "source": [
    "L"
   ]
  },
  {
   "cell_type": "code",
   "execution_count": 19,
   "id": "1b2c7390",
   "metadata": {},
   "outputs": [],
   "source": [
    "L.append(1000)\n",
    "#adds an element at the last"
   ]
  },
  {
   "cell_type": "code",
   "execution_count": 18,
   "id": "6dfd4c14",
   "metadata": {},
   "outputs": [
    {
     "data": {
      "text/plain": [
       "['shail', 2, 100, 200, 1000]"
      ]
     },
     "execution_count": 18,
     "metadata": {},
     "output_type": "execute_result"
    }
   ],
   "source": [
    "L"
   ]
  },
  {
   "cell_type": "code",
   "execution_count": 20,
   "id": "ccec0a69",
   "metadata": {},
   "outputs": [
    {
     "data": {
      "text/plain": [
       "['shail', 2, 100, 200, 1000, 1000, 'hello']"
      ]
     },
     "execution_count": 20,
     "metadata": {},
     "output_type": "execute_result"
    }
   ],
   "source": [
    "L.append('hello')\n",
    "L"
   ]
  },
  {
   "cell_type": "markdown",
   "id": "0f2bdc38",
   "metadata": {},
   "source": [
    "##### use extend() function if you wanna add multiple items to a list"
   ]
  },
  {
   "cell_type": "code",
   "execution_count": 21,
   "id": "9c03c029",
   "metadata": {},
   "outputs": [
    {
     "data": {
      "text/plain": [
       "['shail', 2, 100, 200, 1000, 1000, 'hello', 56.4, 400]"
      ]
     },
     "execution_count": 21,
     "metadata": {},
     "output_type": "execute_result"
    }
   ],
   "source": [
    "L.extend([56.400,400])\n",
    "L"
   ]
  },
  {
   "cell_type": "code",
   "execution_count": 23,
   "id": "723fa9c0",
   "metadata": {},
   "outputs": [
    {
     "data": {
      "text/plain": [
       "['shail', 2, 100, 200, 1000, 1000, 'hello', 56.4, 400, [500, 600], [500, 600]]"
      ]
     },
     "execution_count": 23,
     "metadata": {},
     "output_type": "execute_result"
    }
   ],
   "source": [
    "#while trying to add multiple item using append -it adds them as list\n",
    "L.append([500,600])\n",
    "L"
   ]
  },
  {
   "cell_type": "markdown",
   "id": "c93f2c8f",
   "metadata": {},
   "source": [
    "**Since appednd() and extend() function adds item at the end we need to use insert function for adding item at a specific positon**"
   ]
  },
  {
   "cell_type": "code",
   "execution_count": 24,
   "id": "7e200ed8",
   "metadata": {},
   "outputs": [
    {
     "data": {
      "text/plain": [
       "['shail',\n",
       " 2,\n",
       " 100,\n",
       " 'world',\n",
       " 200,\n",
       " 1000,\n",
       " 1000,\n",
       " 'hello',\n",
       " 56.4,\n",
       " 400,\n",
       " [500, 600],\n",
       " [500, 600]]"
      ]
     },
     "execution_count": 24,
     "metadata": {},
     "output_type": "execute_result"
    }
   ],
   "source": [
    "L.insert(3,'world')\n",
    "L"
   ]
  },
  {
   "cell_type": "markdown",
   "id": "f7edd99b",
   "metadata": {},
   "source": [
    "#### Delete inside a list\n",
    "- DEL\n",
    "- remove\n",
    "- pop \n",
    "- clear"
   ]
  },
  {
   "cell_type": "code",
   "execution_count": 25,
   "id": "b4e39a8e",
   "metadata": {},
   "outputs": [],
   "source": [
    "del L3"
   ]
  },
  {
   "cell_type": "code",
   "execution_count": 26,
   "id": "51a28d4d",
   "metadata": {},
   "outputs": [
    {
     "ename": "NameError",
     "evalue": "name 'L3' is not defined",
     "output_type": "error",
     "traceback": [
      "\u001b[1;31m---------------------------------------------------------------------------\u001b[0m",
      "\u001b[1;31mNameError\u001b[0m                                 Traceback (most recent call last)",
      "Cell \u001b[1;32mIn[26], line 1\u001b[0m\n\u001b[1;32m----> 1\u001b[0m \u001b[43mL3\u001b[49m\n",
      "\u001b[1;31mNameError\u001b[0m: name 'L3' is not defined"
     ]
    }
   ],
   "source": [
    "L3"
   ]
  },
  {
   "cell_type": "code",
   "execution_count": 27,
   "id": "87113050",
   "metadata": {},
   "outputs": [
    {
     "name": "stdout",
     "output_type": "stream",
     "text": [
      "['shail', 2, 100, 'world', 200, 1000, 1000, 'hello', 56.4, 400, [500, 600], [500, 600]]\n",
      "-----------------------\n",
      "[2, 100, 'world', 200, 1000, 1000, 'hello', 56.4, 400, [500, 600], [500, 600]]\n"
     ]
    }
   ],
   "source": [
    "print(L)\n",
    "print('-----------------------')\n",
    "del L[0]\n",
    "print(L)"
   ]
  },
  {
   "cell_type": "code",
   "execution_count": 29,
   "id": "4142c2ab",
   "metadata": {},
   "outputs": [
    {
     "name": "stdout",
     "output_type": "stream",
     "text": [
      "[2, 100, 'world', 200, 1000, 1000, 'hello', 56.4, [500, 600]]\n"
     ]
    }
   ],
   "source": [
    "\n",
    "del L[-2]\n",
    "print(L)"
   ]
  },
  {
   "cell_type": "markdown",
   "id": "e384700d",
   "metadata": {},
   "source": [
    "##### when index position is unknown but the item exist- use remove"
   ]
  },
  {
   "cell_type": "code",
   "execution_count": 30,
   "id": "ed778216",
   "metadata": {},
   "outputs": [
    {
     "name": "stdout",
     "output_type": "stream",
     "text": [
      "[2, 100, 'world', 200, 1000, 1000, 56.4, [500, 600]]\n"
     ]
    }
   ],
   "source": [
    "L.remove('hello')\n",
    "print(L)"
   ]
  },
  {
   "cell_type": "markdown",
   "id": "dd407f50",
   "metadata": {},
   "source": [
    "##### pop() - deletes the last element"
   ]
  },
  {
   "cell_type": "code",
   "execution_count": 31,
   "id": "a2286f0f",
   "metadata": {},
   "outputs": [
    {
     "data": {
      "text/plain": [
       "[500, 600]"
      ]
     },
     "execution_count": 31,
     "metadata": {},
     "output_type": "execute_result"
    }
   ],
   "source": [
    "L.pop()"
   ]
  },
  {
   "cell_type": "markdown",
   "id": "2829d79a",
   "metadata": {},
   "source": [
    "##### to clear a list use clear() function"
   ]
  },
  {
   "cell_type": "code",
   "execution_count": 32,
   "id": "6b2976f3",
   "metadata": {},
   "outputs": [],
   "source": [
    "L.clear()"
   ]
  },
  {
   "cell_type": "code",
   "execution_count": 33,
   "id": "f5ec339c",
   "metadata": {},
   "outputs": [
    {
     "data": {
      "text/plain": [
       "[]"
      ]
     },
     "execution_count": 33,
     "metadata": {},
     "output_type": "execute_result"
    }
   ],
   "source": [
    "L"
   ]
  },
  {
   "cell_type": "code",
   "execution_count": 41,
   "id": "0a0b2ff5",
   "metadata": {},
   "outputs": [
    {
     "name": "stdout",
     "output_type": "stream",
     "text": [
      "The length  of the list {33, 5, 200, 10, 14} is 5\n",
      "The length  of the list {33, 5, 200, 10, 14} is 200\n"
     ]
    }
   ],
   "source": [
    "L={10,200,33,14,5}\n",
    "\n",
    "#length of a list\n",
    "len(L)\n",
    "\n",
    "#min\n",
    "print(\"The length  of the list {} is {}\".format(L,min(L)))\n",
    "\n",
    "#max\n",
    "print(\"The length  of the list {} is {}\".format(L,max(L)))"
   ]
  },
  {
   "cell_type": "code",
   "execution_count": 42,
   "id": "dcffa06a",
   "metadata": {},
   "outputs": [
    {
     "data": {
      "text/plain": [
       "[5, 10, 14, 33, 200]"
      ]
     },
     "execution_count": 42,
     "metadata": {},
     "output_type": "execute_result"
    }
   ],
   "source": [
    "sorted(L)"
   ]
  },
  {
   "cell_type": "code",
   "execution_count": 43,
   "id": "ad062d5f",
   "metadata": {},
   "outputs": [
    {
     "data": {
      "text/plain": [
       "[200, 33, 14, 10, 5]"
      ]
     },
     "execution_count": 43,
     "metadata": {},
     "output_type": "execute_result"
    }
   ],
   "source": [
    "sorted(L,reverse=True)"
   ]
  },
  {
   "cell_type": "code",
   "execution_count": 44,
   "id": "9a6d0233",
   "metadata": {},
   "outputs": [
    {
     "data": {
      "text/plain": [
       "{5, 10, 14, 33, 200}"
      ]
     },
     "execution_count": 44,
     "metadata": {},
     "output_type": "execute_result"
    }
   ],
   "source": [
    "L"
   ]
  },
  {
   "cell_type": "code",
   "execution_count": 47,
   "id": "9e8e19c6",
   "metadata": {},
   "outputs": [],
   "source": [
    "#sorted gives a new list and sort makes changes in the list itself"
   ]
  },
  {
   "cell_type": "code",
   "execution_count": 48,
   "id": "d0fe943c",
   "metadata": {},
   "outputs": [],
   "source": [
    "sample='how are you?'"
   ]
  },
  {
   "cell_type": "code",
   "execution_count": 53,
   "id": "79892cb4",
   "metadata": {},
   "outputs": [
    {
     "name": "stdout",
     "output_type": "stream",
     "text": [
      "['how', 'are', 'you?']\n"
     ]
    }
   ],
   "source": [
    "print(sample.split())"
   ]
  },
  {
   "cell_type": "code",
   "execution_count": 63,
   "id": "9f9b2b6a",
   "metadata": {},
   "outputs": [],
   "source": [
    "sample='today has been a great day for me'"
   ]
  },
  {
   "cell_type": "code",
   "execution_count": 64,
   "id": "53e9106f",
   "metadata": {},
   "outputs": [
    {
     "name": "stdout",
     "output_type": "stream",
     "text": [
      "Today Has Been A Great Day For Me\n"
     ]
    }
   ],
   "source": [
    "L3=[]\n",
    "L4=None\n",
    "for i in sample.split():\n",
    "    L3.append(i.capitalize())\n",
    "    L4=\" \".join(L3)\n",
    "print(L4)    "
   ]
  },
  {
   "cell_type": "code",
   "execution_count": 60,
   "id": "a1ffec26",
   "metadata": {},
   "outputs": [
    {
     "name": "stdout",
     "output_type": "stream",
     "text": [
      "How Are You?\n"
     ]
    }
   ],
   "source": [
    "print(\" \".join(L3))"
   ]
  },
  {
   "cell_type": "code",
   "execution_count": 65,
   "id": "3b0e5ffb",
   "metadata": {},
   "outputs": [
    {
     "data": {
      "text/plain": [
       "3"
      ]
     },
     "execution_count": 65,
     "metadata": {},
     "output_type": "execute_result"
    }
   ],
   "source": [
    "#\"abc@gmail.com\"\n",
    "\n",
    "l4=\"abc@gmail.com\"\n",
    "l4.find('@')"
   ]
  },
  {
   "cell_type": "code",
   "execution_count": 66,
   "id": "14482d47",
   "metadata": {},
   "outputs": [
    {
     "name": "stdout",
     "output_type": "stream",
     "text": [
      "abc\n"
     ]
    }
   ],
   "source": [
    "print(l4[:l4.find('@')])"
   ]
  },
  {
   "cell_type": "code",
   "execution_count": null,
   "id": "1907cdaf",
   "metadata": {},
   "outputs": [],
   "source": []
  }
 ],
 "metadata": {
  "kernelspec": {
   "display_name": "Python 3 (ipykernel)",
   "language": "python",
   "name": "python3"
  },
  "language_info": {
   "codemirror_mode": {
    "name": "ipython",
    "version": 3
   },
   "file_extension": ".py",
   "mimetype": "text/x-python",
   "name": "python",
   "nbconvert_exporter": "python",
   "pygments_lexer": "ipython3",
   "version": "3.10.9"
  }
 },
 "nbformat": 4,
 "nbformat_minor": 5
}
