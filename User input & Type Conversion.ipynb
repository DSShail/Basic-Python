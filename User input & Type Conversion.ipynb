{
 "cells": [
  {
   "cell_type": "markdown",
   "id": "8b383e68",
   "metadata": {},
   "source": [
    "## Taking input from user"
   ]
  },
  {
   "cell_type": "code",
   "execution_count": 1,
   "id": "c4125c79",
   "metadata": {},
   "outputs": [
    {
     "name": "stdout",
     "output_type": "stream",
     "text": [
      "10\n"
     ]
    },
    {
     "data": {
      "text/plain": [
       "'10'"
      ]
     },
     "execution_count": 1,
     "metadata": {},
     "output_type": "execute_result"
    }
   ],
   "source": [
    "#using input() function\n",
    "\n",
    "input()"
   ]
  },
  {
   "cell_type": "code",
   "execution_count": 2,
   "id": "07b5be1c",
   "metadata": {},
   "outputs": [
    {
     "name": "stdout",
     "output_type": "stream",
     "text": [
      "Enter your nameshailesh\n"
     ]
    },
    {
     "data": {
      "text/plain": [
       "'shailesh'"
      ]
     },
     "execution_count": 2,
     "metadata": {},
     "output_type": "execute_result"
    }
   ],
   "source": [
    "input(\"Enter your name\")"
   ]
  },
  {
   "cell_type": "code",
   "execution_count": 11,
   "id": "d75204e1",
   "metadata": {},
   "outputs": [
    {
     "name": "stdout",
     "output_type": "stream",
     "text": [
      "Enter your nameshail\n",
      "My name is shail\n"
     ]
    }
   ],
   "source": [
    "myname=input(\"Enter your name\")\n",
    "print(\"My name is {}\".format(myname))"
   ]
  },
  {
   "cell_type": "markdown",
   "id": "1e463144",
   "metadata": {},
   "source": [
    "### take two numbers from user and find the sum"
   ]
  },
  {
   "cell_type": "code",
   "execution_count": 13,
   "id": "984aae4d",
   "metadata": {},
   "outputs": [
    {
     "name": "stdout",
     "output_type": "stream",
     "text": [
      "Enter first number10\n",
      "Enter second number20\n",
      "The sum of two numbers is\t 1020\n"
     ]
    }
   ],
   "source": [
    "first_num=input(\"Enter first number\")\n",
    "second_num=input(\"Enter second number\")\n",
    "\n",
    "result=first_num+second_num\n",
    "print(\"The sum of two numbers is\\t\",result)"
   ]
  },
  {
   "cell_type": "markdown",
   "id": "0e7e168f",
   "metadata": {},
   "source": [
    "#### conclusion: The sum of 10 and 20 should have been 30 however we are getting 1020. By default the input from user is in string therefore summation means concatenation of two strings not the addition of two integers"
   ]
  },
  {
   "cell_type": "markdown",
   "id": "0f6c497c",
   "metadata": {},
   "source": [
    "### To solve above problem, we need to understand the concept of type conversion"
   ]
  },
  {
   "cell_type": "markdown",
   "id": "d859a1b5",
   "metadata": {},
   "source": [
    "## TYPE CONVERSION\n",
    "\n",
    "### Process of converting a data type into another data type- unless it is not convertible"
   ]
  },
  {
   "cell_type": "markdown",
   "id": "3168478f",
   "metadata": {},
   "source": [
    "##### There are two types of type conversion- implicit and explicit"
   ]
  },
  {
   "cell_type": "code",
   "execution_count": 22,
   "id": "20c4d9c2",
   "metadata": {},
   "outputs": [
    {
     "data": {
      "text/plain": [
       "8.5"
      ]
     },
     "execution_count": 22,
     "metadata": {},
     "output_type": "execute_result"
    }
   ],
   "source": [
    "#implicit\n",
    "3.5+5"
   ]
  },
  {
   "cell_type": "markdown",
   "id": "f5e7ed06",
   "metadata": {},
   "source": [
    "##### Here implicitly the result is in decimal format- implicilty sum of a integer and a float is converted into  float"
   ]
  },
  {
   "cell_type": "code",
   "execution_count": 23,
   "id": "d376a87b",
   "metadata": {},
   "outputs": [
    {
     "data": {
      "text/plain": [
       "(11+2j)"
      ]
     },
     "execution_count": 23,
     "metadata": {},
     "output_type": "execute_result"
    }
   ],
   "source": [
    "5+ 6+2j"
   ]
  },
  {
   "cell_type": "code",
   "execution_count": 24,
   "id": "ab3985c4",
   "metadata": {},
   "outputs": [
    {
     "data": {
      "text/plain": [
       "(8.5+5j)"
      ]
     },
     "execution_count": 24,
     "metadata": {},
     "output_type": "execute_result"
    }
   ],
   "source": [
    "4.5 + 4+5j"
   ]
  },
  {
   "cell_type": "code",
   "execution_count": 26,
   "id": "50ba89dd",
   "metadata": {},
   "outputs": [
    {
     "data": {
      "text/plain": [
       "4"
      ]
     },
     "execution_count": 26,
     "metadata": {},
     "output_type": "execute_result"
    }
   ],
   "source": [
    "#Explicit type conversion\n",
    "# Here 4.5 will be converted into 4\n",
    "int(4.5)"
   ]
  },
  {
   "cell_type": "code",
   "execution_count": 27,
   "id": "5b5103fd",
   "metadata": {},
   "outputs": [
    {
     "data": {
      "text/plain": [
       "4.0"
      ]
     },
     "execution_count": 27,
     "metadata": {},
     "output_type": "execute_result"
    }
   ],
   "source": [
    "float(4)"
   ]
  },
  {
   "cell_type": "code",
   "execution_count": 28,
   "id": "dde9d168",
   "metadata": {},
   "outputs": [
    {
     "data": {
      "text/plain": [
       "'4'"
      ]
     },
     "execution_count": 28,
     "metadata": {},
     "output_type": "execute_result"
    }
   ],
   "source": [
    "str(4)"
   ]
  },
  {
   "cell_type": "code",
   "execution_count": 29,
   "id": "7f04e9cb",
   "metadata": {},
   "outputs": [
    {
     "data": {
      "text/plain": [
       "True"
      ]
     },
     "execution_count": 29,
     "metadata": {},
     "output_type": "execute_result"
    }
   ],
   "source": [
    "bool(1)"
   ]
  },
  {
   "cell_type": "code",
   "execution_count": 30,
   "id": "d71a3110",
   "metadata": {},
   "outputs": [
    {
     "data": {
      "text/plain": [
       "True"
      ]
     },
     "execution_count": 30,
     "metadata": {},
     "output_type": "execute_result"
    }
   ],
   "source": [
    "bool(4)"
   ]
  },
  {
   "cell_type": "code",
   "execution_count": 31,
   "id": "7402c9ba",
   "metadata": {},
   "outputs": [
    {
     "data": {
      "text/plain": [
       "False"
      ]
     },
     "execution_count": 31,
     "metadata": {},
     "output_type": "execute_result"
    }
   ],
   "source": [
    "bool(0)"
   ]
  },
  {
   "cell_type": "code",
   "execution_count": 32,
   "id": "8abfbdee",
   "metadata": {},
   "outputs": [
    {
     "data": {
      "text/plain": [
       "(4+0j)"
      ]
     },
     "execution_count": 32,
     "metadata": {},
     "output_type": "execute_result"
    }
   ],
   "source": [
    "complex(4)"
   ]
  },
  {
   "cell_type": "code",
   "execution_count": 33,
   "id": "f8b077aa",
   "metadata": {},
   "outputs": [
    {
     "data": {
      "text/plain": [
       "(4.5+0j)"
      ]
     },
     "execution_count": 33,
     "metadata": {},
     "output_type": "execute_result"
    }
   ],
   "source": [
    "complex(4.5)"
   ]
  },
  {
   "cell_type": "code",
   "execution_count": 35,
   "id": "dbef0b62",
   "metadata": {},
   "outputs": [
    {
     "data": {
      "text/plain": [
       "['h', 'e', 'l', 'l', 'o']"
      ]
     },
     "execution_count": 35,
     "metadata": {},
     "output_type": "execute_result"
    }
   ],
   "source": [
    "list('hello')"
   ]
  },
  {
   "cell_type": "code",
   "execution_count": 37,
   "id": "85b0d738",
   "metadata": {},
   "outputs": [
    {
     "ename": "ValueError",
     "evalue": "invalid literal for int() with base 10: 'kolkata'",
     "output_type": "error",
     "traceback": [
      "\u001b[1;31m---------------------------------------------------------------------------\u001b[0m",
      "\u001b[1;31mValueError\u001b[0m                                Traceback (most recent call last)",
      "Cell \u001b[1;32mIn[37], line 1\u001b[0m\n\u001b[1;32m----> 1\u001b[0m \u001b[38;5;28;43mint\u001b[39;49m\u001b[43m(\u001b[49m\u001b[38;5;124;43m'\u001b[39;49m\u001b[38;5;124;43mkolkata\u001b[39;49m\u001b[38;5;124;43m'\u001b[39;49m\u001b[43m)\u001b[49m\n",
      "\u001b[1;31mValueError\u001b[0m: invalid literal for int() with base 10: 'kolkata'"
     ]
    }
   ],
   "source": [
    "int('kolkata')"
   ]
  },
  {
   "cell_type": "markdown",
   "id": "1b59b7ab",
   "metadata": {},
   "source": [
    "###### Type conversion is not a permannent operation. On the other hand type casting is a permanent operation"
   ]
  },
  {
   "cell_type": "code",
   "execution_count": 38,
   "id": "a457ce04",
   "metadata": {},
   "outputs": [
    {
     "name": "stdout",
     "output_type": "stream",
     "text": [
      "Enter first number10\n",
      "Enter second number20\n",
      "The sum of two numbers is\t 30\n"
     ]
    }
   ],
   "source": [
    "first_num=input(\"Enter first number\")\n",
    "second_num=input(\"Enter second number\")\n",
    "\n",
    "result=int(first_num)+int(second_num)\n",
    "print(\"The sum of two numbers is\\t\",result)"
   ]
  },
  {
   "cell_type": "markdown",
   "id": "dbdd11df",
   "metadata": {},
   "source": [
    "#### We solved the summation issue using concept of type conversion"
   ]
  },
  {
   "cell_type": "code",
   "execution_count": null,
   "id": "882080e6",
   "metadata": {},
   "outputs": [],
   "source": []
  }
 ],
 "metadata": {
  "kernelspec": {
   "display_name": "Python 3 (ipykernel)",
   "language": "python",
   "name": "python3"
  },
  "language_info": {
   "codemirror_mode": {
    "name": "ipython",
    "version": 3
   },
   "file_extension": ".py",
   "mimetype": "text/x-python",
   "name": "python",
   "nbconvert_exporter": "python",
   "pygments_lexer": "ipython3",
   "version": "3.10.9"
  }
 },
 "nbformat": 4,
 "nbformat_minor": 5
}
