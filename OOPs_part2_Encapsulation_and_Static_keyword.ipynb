{
  "nbformat": 4,
  "nbformat_minor": 0,
  "metadata": {
    "colab": {
      "provenance": [],
      "authorship_tag": "ABX9TyMT2bVfLpUc9XJgibooAcPp",
      "include_colab_link": true
    },
    "kernelspec": {
      "name": "python3",
      "display_name": "Python 3"
    },
    "language_info": {
      "name": "python"
    }
  },
  "cells": [
    {
      "cell_type": "markdown",
      "metadata": {
        "id": "view-in-github",
        "colab_type": "text"
      },
      "source": [
        "<a href=\"https://colab.research.google.com/github/DSShail/Basic-Python/blob/main/OOPs_part2_Encapsulation_and_Static_keyword.ipynb\" target=\"_parent\"><img src=\"https://colab.research.google.com/assets/colab-badge.svg\" alt=\"Open In Colab\"/></a>"
      ]
    },
    {
      "cell_type": "markdown",
      "source": [
        "### Write OOP classes to handle the following scenarios:\n",
        "\n",
        "- A user can create and view 2D coordinates\n",
        "- A user can find out the distance between 2 coordinates\n",
        "- A user can find find the distance of a coordinate from origin\n",
        "- A user can check if a point lies on a given line\n",
        "- A user can find the distance between a given 2D point and a given line\n",
        "\n"
      ],
      "metadata": {
        "id": "tKP1yS-lByK9"
      }
    },
    {
      "cell_type": "code",
      "execution_count": 28,
      "metadata": {
        "id": "MyEXPMjBAboH"
      },
      "outputs": [],
      "source": [
        "class Point:\n",
        "\n",
        "  #since it is 2D , we will have x cordinate and y cordinate\n",
        "  def __init__(self,x,y):\n",
        "    self.x_cod=x\n",
        "    self.y_cod=y\n",
        "\n",
        "  def __str__(self):\n",
        "    return '<{},{}>'.format(self.x_cod,self.y_cod)\n",
        "\n",
        "  #euclidean distance between two points\n",
        "  def euclidean_distance(self,other):\n",
        "    distance= ((other.x_cod-self.x_cod)**2) + ((other.y_cod-self.y_cod)**2)\n",
        "    return distance**0.5\n",
        "\n",
        "  def distance_from_origin(self):\n",
        "    return self.euclidean_distance(Point(0,0))\n",
        "\n",
        "\n",
        "class Line():\n",
        "  def __init__(self,A,B,C):\n",
        "    self.A=A\n",
        "    self.B=B\n",
        "    self.C=C\n",
        "\n",
        "  def __str__(self):\n",
        "    return '{}x + {}y + {}'.format(self.A,self.B,self.C)\n",
        "\n",
        "  def point_on_line(line,point):\n",
        "    if line.A*point.x_cod + line.B*point.y_cod + line.C==0:\n",
        "      return \"point lies on the line\"\n",
        "    else:\n",
        "      return \"point doesn't line on the line\"\n",
        "\n",
        "\n",
        "  def shortest_distance(line,point):\n",
        "    return (abs(line.A*point.x_cod + line.B*point.y_cod +line.C)/(line.A**2 +line.B**2))**0.5"
      ]
    },
    {
      "cell_type": "code",
      "source": [
        "p1=Point(0,0)\n",
        "p2=Point(10,10)\n",
        "\n",
        "print(p1)\n",
        "print(p2)"
      ],
      "metadata": {
        "colab": {
          "base_uri": "https://localhost:8080/"
        },
        "id": "gBIXHLuKDLAR",
        "outputId": "b5092718-eb77-47f0-9f4a-d2cda3f4fabf"
      },
      "execution_count": 21,
      "outputs": [
        {
          "output_type": "stream",
          "name": "stdout",
          "text": [
            "<0,0>\n",
            "<10,10>\n"
          ]
        }
      ]
    },
    {
      "cell_type": "code",
      "source": [
        "p1.euclidean_distance(p2)"
      ],
      "metadata": {
        "colab": {
          "base_uri": "https://localhost:8080/"
        },
        "id": "Vxl0fZLtDOWP",
        "outputId": "2f1a47a5-f020-41a0-9e35-1e666b5b0b7a"
      },
      "execution_count": 17,
      "outputs": [
        {
          "output_type": "execute_result",
          "data": {
            "text/plain": [
              "14.142135623730951"
            ]
          },
          "metadata": {},
          "execution_count": 17
        }
      ]
    },
    {
      "cell_type": "code",
      "source": [
        "p2.distance_from_origin()"
      ],
      "metadata": {
        "colab": {
          "base_uri": "https://localhost:8080/"
        },
        "id": "jyEIaN6gG4md",
        "outputId": "5583871d-fcfd-4eef-8636-77e0a185fd19"
      },
      "execution_count": 19,
      "outputs": [
        {
          "output_type": "execute_result",
          "data": {
            "text/plain": [
              "14.142135623730951"
            ]
          },
          "metadata": {},
          "execution_count": 19
        }
      ]
    },
    {
      "cell_type": "code",
      "source": [
        "L1=Line(3,4,5)"
      ],
      "metadata": {
        "id": "nwA4fAZ6L3EU"
      },
      "execution_count": 22,
      "outputs": []
    },
    {
      "cell_type": "code",
      "source": [
        "print(L1)"
      ],
      "metadata": {
        "colab": {
          "base_uri": "https://localhost:8080/"
        },
        "id": "3VG0jmsPNn3b",
        "outputId": "c9f8027c-e5e9-4163-ac8e-262aa6eeb013"
      },
      "execution_count": 23,
      "outputs": [
        {
          "output_type": "stream",
          "name": "stdout",
          "text": [
            "3x + 4y +5\n"
          ]
        }
      ]
    },
    {
      "cell_type": "code",
      "source": [
        "L1=Line(1,1,-2)\n",
        "p1=Point(1,1)"
      ],
      "metadata": {
        "id": "eov7IiPONpXJ"
      },
      "execution_count": 29,
      "outputs": []
    },
    {
      "cell_type": "code",
      "source": [
        "print(L1)\n",
        "print(p1)"
      ],
      "metadata": {
        "colab": {
          "base_uri": "https://localhost:8080/"
        },
        "id": "x-h1qQ-6PJSV",
        "outputId": "add72a50-5078-4d92-e03d-ed25ff98fdd9"
      },
      "execution_count": 30,
      "outputs": [
        {
          "output_type": "stream",
          "name": "stdout",
          "text": [
            "1x + 1y + -2\n",
            "<1,1>\n"
          ]
        }
      ]
    },
    {
      "cell_type": "code",
      "source": [
        "L1.point_on_line(p1)"
      ],
      "metadata": {
        "colab": {
          "base_uri": "https://localhost:8080/",
          "height": 35
        },
        "id": "pQgEAgfZPK33",
        "outputId": "642e88b1-72c4-45f8-a45a-fd86c2ab1be2"
      },
      "execution_count": 31,
      "outputs": [
        {
          "output_type": "execute_result",
          "data": {
            "text/plain": [
              "'point lies on the line'"
            ],
            "application/vnd.google.colaboratory.intrinsic+json": {
              "type": "string"
            }
          },
          "metadata": {},
          "execution_count": 31
        }
      ]
    },
    {
      "cell_type": "code",
      "source": [
        "L1.shortest_distance(p1)"
      ],
      "metadata": {
        "colab": {
          "base_uri": "https://localhost:8080/"
        },
        "id": "doKfGjXBPZnm",
        "outputId": "01c9a200-b07d-4549-ec27-dff833106a39"
      },
      "execution_count": 32,
      "outputs": [
        {
          "output_type": "execute_result",
          "data": {
            "text/plain": [
              "0.0"
            ]
          },
          "metadata": {},
          "execution_count": 32
        }
      ]
    },
    {
      "cell_type": "markdown",
      "source": [
        "since (0,0) lies on the line 1x+1y-2 so the shortest distance is 0"
      ],
      "metadata": {
        "id": "D8OzPgo8R4bC"
      }
    },
    {
      "cell_type": "markdown",
      "source": [
        "# Reference Variable"
      ],
      "metadata": {
        "id": "49LHEetyaYha"
      }
    },
    {
      "cell_type": "markdown",
      "source": [
        "- Reference variables hold the objects\n",
        "- We can create objects without reference variable as well\n",
        "- An object can have multiple reference variables\n",
        "- Assigning a new reference variable to an existing object does not create a new object"
      ],
      "metadata": {
        "id": "ilounH6hcMlw"
      }
    },
    {
      "cell_type": "code",
      "source": [
        "class Person:\n",
        "  def __init__(self):\n",
        "    self.name='shailesh'\n",
        "    self.gender='male'\n",
        "\n",
        "#p is just a variable name, it is not an object , it is a reference/address to the object of Person class\n",
        "p=Person()\n",
        "\n",
        "# q also has reference to Person object\n",
        "q=p"
      ],
      "metadata": {
        "id": "K7V-5eFiR2se"
      },
      "execution_count": 4,
      "outputs": []
    },
    {
      "cell_type": "code",
      "source": [
        "print(id(p))\n",
        "print(id(q))"
      ],
      "metadata": {
        "colab": {
          "base_uri": "https://localhost:8080/"
        },
        "id": "_Eldqx9yavwF",
        "outputId": "4190ba44-6d5b-492b-f234-bf8d5b8b8c06"
      },
      "execution_count": 3,
      "outputs": [
        {
          "output_type": "stream",
          "name": "stdout",
          "text": [
            "137494548161936\n",
            "137494548161936\n"
          ]
        }
      ]
    },
    {
      "cell_type": "code",
      "source": [
        "print(p.name)\n",
        "print(q.name)"
      ],
      "metadata": {
        "colab": {
          "base_uri": "https://localhost:8080/"
        },
        "id": "Kunct2wBbTuh",
        "outputId": "4d452367-656d-4d3e-be9e-de36b223d11b"
      },
      "execution_count": 5,
      "outputs": [
        {
          "output_type": "stream",
          "name": "stdout",
          "text": [
            "shailesh\n",
            "shailesh\n"
          ]
        }
      ]
    },
    {
      "cell_type": "code",
      "source": [
        "#since both p and q have the reference of the same object so changing a variable in an object would be reflected in all the reference variable\n",
        "p.name='Ankit'"
      ],
      "metadata": {
        "id": "MAve7AdkbmcH"
      },
      "execution_count": 8,
      "outputs": []
    },
    {
      "cell_type": "code",
      "source": [
        "print(p.name)\n",
        "print(q.name)"
      ],
      "metadata": {
        "colab": {
          "base_uri": "https://localhost:8080/"
        },
        "id": "iXcrqZjWbobw",
        "outputId": "7678b932-f84c-4fb9-bb2d-3d5d5e8f8abb"
      },
      "execution_count": 7,
      "outputs": [
        {
          "output_type": "stream",
          "name": "stdout",
          "text": [
            "Ankit\n",
            "Ankit\n"
          ]
        }
      ]
    },
    {
      "cell_type": "code",
      "source": [],
      "metadata": {
        "id": "Fkya9kXnbp6u"
      },
      "execution_count": null,
      "outputs": []
    },
    {
      "cell_type": "markdown",
      "source": [
        "# Pass By Reference"
      ],
      "metadata": {
        "id": "QctpP09zcWLM"
      }
    },
    {
      "cell_type": "markdown",
      "source": [
        "*we can pass and return reference of a object in a function and from a functin respectively*"
      ],
      "metadata": {
        "id": "bu92wVDzdy6m"
      }
    },
    {
      "cell_type": "code",
      "source": [
        "class Person:\n",
        "  def __init__(self,name,gender):\n",
        "    self.name=name\n",
        "    self.gender=gender\n",
        "\n",
        "# it is a function since it is outside the class\n",
        "def greet(person):\n",
        "  print('Hi my name is ',person.name,'and I am a',person.gender)\n",
        "\n",
        "\n",
        "p=Person('Shailesh','Male')\n",
        "\n",
        "# p which is reference to Person object and it  is passed to greet function\n",
        "greet(p)"
      ],
      "metadata": {
        "colab": {
          "base_uri": "https://localhost:8080/"
        },
        "id": "IJMFmiHfcaqI",
        "outputId": "a2f6aa15-a7be-46bb-9060-11a51a86fcbf"
      },
      "execution_count": 9,
      "outputs": [
        {
          "output_type": "stream",
          "name": "stdout",
          "text": [
            "Hi my name is  Shailesh and I am a Male\n"
          ]
        }
      ]
    },
    {
      "cell_type": "code",
      "source": [],
      "metadata": {
        "id": "MrYmJkXidL57"
      },
      "execution_count": null,
      "outputs": []
    },
    {
      "cell_type": "code",
      "source": [
        "class Person:\n",
        "  def __init__(self,name,gender):\n",
        "    self.name=name\n",
        "    self.gender=gender\n",
        "\n",
        "# it is a function since it is outside the class\n",
        "def greet(person):\n",
        "  print(\"Address of person is {}\".format(id(person)))\n",
        "  print('Hi my name is ',person.name,'and I am a',person.gender)\n",
        "\n",
        "\n",
        "p=Person('Shailesh','Male')\n",
        "print(\"Address of p is {}\".format(id(p)))\n",
        "# p which is reference to Person object and it  is passed to greet function\n",
        "greet(p)"
      ],
      "metadata": {
        "colab": {
          "base_uri": "https://localhost:8080/"
        },
        "outputId": "cb717d26-05a5-4304-9b17-1c7b2e1768e1",
        "id": "GLq2fPbseFU6"
      },
      "execution_count": 12,
      "outputs": [
        {
          "output_type": "stream",
          "name": "stdout",
          "text": [
            "Address of p is 137494548160016\n",
            "Address of person is 137494548160016\n",
            "Hi my name is  Shailesh and I am a Male\n"
          ]
        }
      ]
    },
    {
      "cell_type": "markdown",
      "source": [
        "# Mutability of an Object\n",
        "*   The objects in a custom class are mutable\n",
        "\n"
      ],
      "metadata": {
        "id": "vsUHEh3kfbQU"
      }
    },
    {
      "cell_type": "code",
      "source": [
        "class Person:\n",
        "\n",
        "  def __init__(self,name,gender):\n",
        "    self.name = name\n",
        "    self.gender = gender\n",
        "\n",
        "# outside the class -> function\n",
        "def greet(person):\n",
        "  person.name = 'ankit'\n",
        "  return person\n",
        "\n",
        "p = Person('nitish','male')\n",
        "print(id(p))\n",
        "p1 = greet(p)\n",
        "print(id(p1))"
      ],
      "metadata": {
        "colab": {
          "base_uri": "https://localhost:8080/"
        },
        "id": "Bty-1LF2eNPf",
        "outputId": "e1c8a20d-ac3c-4d1f-c99c-e7430c158c84"
      },
      "execution_count": 13,
      "outputs": [
        {
          "output_type": "stream",
          "name": "stdout",
          "text": [
            "137494548158720\n",
            "137494548158720\n"
          ]
        }
      ]
    },
    {
      "cell_type": "markdown",
      "source": [
        "* As we can see the reference of object passed to the greet function and object returned from the greet function is same.\n",
        "\n",
        "* If objects are same then we will get the same object's reference else new object will be created and therfore we will get new address/reference of a object\n",
        "\n",
        "* Objects are mutable like list , set, dictionary"
      ],
      "metadata": {
        "id": "QtRwA9FDfz1P"
      }
    },
    {
      "cell_type": "code",
      "source": [],
      "metadata": {
        "id": "ZxYGM16bfyTT"
      },
      "execution_count": null,
      "outputs": []
    },
    {
      "cell_type": "markdown",
      "source": [
        "# Encapsulation\n",
        "*   Fundamentals of OOPs\n",
        "*   Attributes of a class are not exposed directly, it is done through getter and setter - it is called Encapsulation\n",
        "*   It is done to make the attributes private-although nothing is private in Python\n",
        "\n"
      ],
      "metadata": {
        "id": "dUKobsq3g6A-"
      }
    },
    {
      "cell_type": "code",
      "source": [
        "class Person:\n",
        "  def __init__(self,name_input,input_country):\n",
        "\n",
        "    #instance variable- special variable contains value as per the instance/object of a class\n",
        "    self.name=name_input\n",
        "    self.country=input_country\n",
        "\n",
        "p1=Person('shailesh','India')\n",
        "p2=Person('Dhruv','India')\n"
      ],
      "metadata": {
        "id": "FlYFeDidhdhR"
      },
      "execution_count": 15,
      "outputs": []
    },
    {
      "cell_type": "markdown",
      "source": [
        "we can access instance variable using reference variable, which may create intergrity issue with the attributes,variable so we can make them private using __"
      ],
      "metadata": {
        "id": "_ueTaScljzZh"
      }
    },
    {
      "cell_type": "code",
      "source": [
        "class Person:\n",
        "  def __init__(self,name_input,input_country):\n",
        "\n",
        "    #instance variable- special variable contains value as per the instance/object of a class\n",
        "\n",
        "    #private instance variable\n",
        "    self.__name=name_input\n",
        "    self.country=input_country\n",
        "\n",
        "p1=Person('shailesh','India')\n",
        "p2=Person('Dhruv','India')\n"
      ],
      "metadata": {
        "id": "fXrrXnljh8nT"
      },
      "execution_count": 21,
      "outputs": []
    },
    {
      "cell_type": "code",
      "source": [
        "p1.country"
      ],
      "metadata": {
        "colab": {
          "base_uri": "https://localhost:8080/",
          "height": 35
        },
        "id": "mms5ZBYtkObx",
        "outputId": "703c3c3d-1ccc-484b-b4ca-f94c9bd0a423"
      },
      "execution_count": 22,
      "outputs": [
        {
          "output_type": "execute_result",
          "data": {
            "text/plain": [
              "'India'"
            ],
            "application/vnd.google.colaboratory.intrinsic+json": {
              "type": "string"
            }
          },
          "metadata": {},
          "execution_count": 22
        }
      ]
    },
    {
      "cell_type": "markdown",
      "source": [
        "when we define an attribute as private , in the memoery it is renamed as\n",
        "_{classname}__{attributename}"
      ],
      "metadata": {
        "id": "L86fFAGplGI5"
      }
    },
    {
      "cell_type": "code",
      "source": [
        "p1._Country__name='Kittu'"
      ],
      "metadata": {
        "id": "l1a-IDv6kSSC"
      },
      "execution_count": 25,
      "outputs": []
    },
    {
      "cell_type": "code",
      "source": [
        "p1._Country__name"
      ],
      "metadata": {
        "colab": {
          "base_uri": "https://localhost:8080/",
          "height": 35
        },
        "id": "hoo0R8sBk-cU",
        "outputId": "b247b5ef-05fd-4b39-8c26-f2e100bc4a7d"
      },
      "execution_count": 26,
      "outputs": [
        {
          "output_type": "execute_result",
          "data": {
            "text/plain": [
              "'Kittu'"
            ],
            "application/vnd.google.colaboratory.intrinsic+json": {
              "type": "string"
            }
          },
          "metadata": {},
          "execution_count": 26
        }
      ]
    },
    {
      "cell_type": "markdown",
      "source": [
        "In python nothing is truly private. It is a Gentle man's programming language"
      ],
      "metadata": {
        "id": "dLGNq2Uzm2n1"
      }
    },
    {
      "cell_type": "code",
      "source": [
        "class Person:\n",
        "  def __init__(self,name_input,input_country):\n",
        "\n",
        "    #instance variable- special variable contains value as per the instance/object of a class\n",
        "\n",
        "    #private instance variable\n",
        "    self.__name=name_input\n",
        "    self.country=input_country\n",
        "\n",
        "\n",
        "  def get_name(self):\n",
        "    return self.__name\n",
        "\n",
        "  def set_name(self,new_val):\n",
        "    self.__name=new_val"
      ],
      "metadata": {
        "id": "TWbm_QT9lpMQ"
      },
      "execution_count": 27,
      "outputs": []
    },
    {
      "cell_type": "code",
      "source": [
        "p1=Person('shailesh','India')\n",
        "p2=Person('Dhruv','India')"
      ],
      "metadata": {
        "id": "6mM_G3RCnxC0"
      },
      "execution_count": 28,
      "outputs": []
    },
    {
      "cell_type": "code",
      "source": [
        "p1.get_name()"
      ],
      "metadata": {
        "colab": {
          "base_uri": "https://localhost:8080/",
          "height": 35
        },
        "id": "3TZgzKXaoFRJ",
        "outputId": "bd18ae4a-463a-4ab2-975d-a2933858e2d1"
      },
      "execution_count": 30,
      "outputs": [
        {
          "output_type": "execute_result",
          "data": {
            "text/plain": [
              "'shailesh'"
            ],
            "application/vnd.google.colaboratory.intrinsic+json": {
              "type": "string"
            }
          },
          "metadata": {},
          "execution_count": 30
        }
      ]
    },
    {
      "cell_type": "code",
      "source": [],
      "metadata": {
        "id": "Yri2Jo46oH0U"
      },
      "execution_count": null,
      "outputs": []
    },
    {
      "cell_type": "markdown",
      "source": [
        "# Collection of Objects"
      ],
      "metadata": {
        "id": "HKW-u2XnpTgA"
      }
    },
    {
      "cell_type": "code",
      "source": [
        "class Person:\n",
        "  def __init__(self,name,gender):\n",
        "\n",
        "    #instance variable- special variable contains value as per the instance/object of a class\n",
        "    self.name=name\n",
        "    self.gender=gender\n",
        "\n",
        "p1=Person('shailesh','Male')\n",
        "p2=Person('Dhruv','Male')\n",
        "p3=Person('kittu','Male')\n",
        "\n",
        "L=[p1,p2,p3]\n",
        "\n",
        "\n"
      ],
      "metadata": {
        "id": "odlBeq60pWf9"
      },
      "execution_count": 31,
      "outputs": []
    },
    {
      "cell_type": "code",
      "source": [
        "for i in L:\n",
        "  print(i.name,i.gender)"
      ],
      "metadata": {
        "colab": {
          "base_uri": "https://localhost:8080/"
        },
        "id": "zfNwbdgiptUT",
        "outputId": "410d4152-9ea7-4ef2-b464-6a5e4107e0c9"
      },
      "execution_count": 34,
      "outputs": [
        {
          "output_type": "stream",
          "name": "stdout",
          "text": [
            "shailesh Male\n",
            "Dhruv Male\n",
            "kittu Male\n"
          ]
        }
      ]
    },
    {
      "cell_type": "code",
      "source": [
        "s={p1,p2,p3}"
      ],
      "metadata": {
        "id": "8YskBC1npuct"
      },
      "execution_count": 38,
      "outputs": []
    },
    {
      "cell_type": "code",
      "source": [
        "type(s)"
      ],
      "metadata": {
        "colab": {
          "base_uri": "https://localhost:8080/"
        },
        "id": "4BNfKm_TqFDX",
        "outputId": "c7f79535-3b97-4f6b-88a2-ece77e9ea3ed"
      },
      "execution_count": 39,
      "outputs": [
        {
          "output_type": "execute_result",
          "data": {
            "text/plain": [
              "set"
            ]
          },
          "metadata": {},
          "execution_count": 39
        }
      ]
    },
    {
      "cell_type": "markdown",
      "source": [
        "# Static Keyword"
      ],
      "metadata": {
        "id": "H0Rr6JRkrBgi"
      }
    },
    {
      "cell_type": "markdown",
      "source": [
        "* instance variable has different values as per the instance\n",
        "\n",
        "* static variable is a class variable- it is common to all the instance of a class\n",
        "\n",
        "* **static variable can be accessed using class name** where as instance variable is accessed using a reference variable\n",
        "\n",
        "* It is declared inside the class but outside the methods on class, there is no need to use any keyword for defining static variable\n",
        "\n",
        "* There are two types of method as there are two types of variables- static method\n",
        "and normal methods\n",
        "\n",
        "* To denote a static method @staticmethod decorator is used, it is also called utility methods"
      ],
      "metadata": {
        "id": "6M2tUw11skas"
      }
    },
    {
      "cell_type": "code",
      "source": [
        "class Person:\n",
        "\n",
        "  # it is a static keyword, also it is private\n",
        "  __counter=1\n",
        "\n",
        "  def __init__(self,name,gender):\n",
        "    self.name=name\n",
        "    self.gender=gender\n",
        "    self.cid=Person.counter\n",
        "    Person.__counter=Person.__counter+1\n",
        "\n",
        "  #defining getters and setters for counter(static variable)\n",
        "  # '@staticmethod' - it is a decorator which is used over static method\n",
        "  @staticmethod\n",
        "  def get_counter():\n",
        "    return Person.__counter\n"
      ],
      "metadata": {
        "id": "7cbm50ZdqF0Q"
      },
      "execution_count": 56,
      "outputs": []
    },
    {
      "cell_type": "code",
      "source": [
        "p1=Person('shailesh','male')\n",
        "p2=Person('kittu','male')\n",
        "p3=Person('dhruv','male')"
      ],
      "metadata": {
        "id": "JaIDYjaatm8-"
      },
      "execution_count": 53,
      "outputs": []
    },
    {
      "cell_type": "code",
      "source": [
        "Person.get_counter()"
      ],
      "metadata": {
        "colab": {
          "base_uri": "https://localhost:8080/"
        },
        "id": "mAYC4xfSt6iy",
        "outputId": "ae094528-8118-4a23-eb5f-0f9f902de418"
      },
      "execution_count": 59,
      "outputs": [
        {
          "output_type": "execute_result",
          "data": {
            "text/plain": [
              "1"
            ]
          },
          "metadata": {},
          "execution_count": 59
        }
      ]
    },
    {
      "cell_type": "code",
      "source": [
        "p1.cid"
      ],
      "metadata": {
        "colab": {
          "base_uri": "https://localhost:8080/"
        },
        "id": "7MrQt2wSuTz3",
        "outputId": "114ae25d-1465-45eb-aa7e-2cd1d84d6210"
      },
      "execution_count": 60,
      "outputs": [
        {
          "output_type": "execute_result",
          "data": {
            "text/plain": [
              "1"
            ]
          },
          "metadata": {},
          "execution_count": 60
        }
      ]
    },
    {
      "cell_type": "code",
      "source": [
        "p2.cid"
      ],
      "metadata": {
        "colab": {
          "base_uri": "https://localhost:8080/"
        },
        "id": "VGSuR7WDuVNh",
        "outputId": "3f9b201d-36d2-4c88-8919-880079633c10"
      },
      "execution_count": 55,
      "outputs": [
        {
          "output_type": "execute_result",
          "data": {
            "text/plain": [
              "2"
            ]
          },
          "metadata": {},
          "execution_count": 55
        }
      ]
    },
    {
      "cell_type": "code",
      "source": [],
      "metadata": {
        "id": "u1BDMDXPubX_"
      },
      "execution_count": null,
      "outputs": []
    }
  ]
}